{
 "cells": [
  {
   "cell_type": "code",
   "execution_count": null,
   "metadata": {},
   "outputs": [],
   "source": [
    "import time\n",
    "\n",
    "from selenium import webdriver\n",
    "from selenium.webdriver.common.by import By\n",
    "from selenium.webdriver.support.ui import WebDriverWait\n",
    "from selenium.webdriver.support import expected_conditions as EC\n",
    "from selenium.common.exceptions import TimeoutException\n",
    "from pymongo import MongoClient\n",
    "\n",
    "import pprint\n",
    "# Requests sends and recieves HTTP requests.\n",
    "import requests\n",
    "\n",
    "# Beautiful Soup parses HTML documents in python.\n",
    "from bs4 import BeautifulSoup\n",
    "\n",
    "import json\n",
    "\n",
    "\n",
    "path = 'https://www.debates.org/voter-education/debate-transcripts/'\n",
    "\n",
    "# client = MongoClient('localhost', 27017)\n",
    "# racing = client['results']\n",
    "# source = racing['source code']\n",
    "# runners = racing['indiv']\n",
    "\n",
    "# new = MongoClient('localhost', 27017)\n",
    "# racing = new['sunday']\n",
    "# source = racing['source code']\n",
    "# runners = racing['indiv']"
   ]
  },
  {
   "cell_type": "code",
   "execution_count": 1,
   "metadata": {},
   "outputs": [
    {
     "ename": "NameError",
     "evalue": "name 'urls_list' is not defined",
     "output_type": "error",
     "traceback": [
      "\u001b[0;31m---------------------------------------------------------------------------\u001b[0m",
      "\u001b[0;31mNameError\u001b[0m                                 Traceback (most recent call last)",
      "\u001b[0;32m<ipython-input-1-dc542cc74db6>\u001b[0m in \u001b[0;36m<module>\u001b[0;34m\u001b[0m\n\u001b[1;32m     71\u001b[0m     \u001b[0;32mNone\u001b[0m\u001b[0;34m\u001b[0m\u001b[0;34m\u001b[0m\u001b[0m\n\u001b[1;32m     72\u001b[0m   '''\n\u001b[0;32m---> 73\u001b[0;31m   \u001b[0;32mfor\u001b[0m \u001b[0mi\u001b[0m \u001b[0;32min\u001b[0m \u001b[0mrange\u001b[0m\u001b[0;34m(\u001b[0m\u001b[0mlen\u001b[0m\u001b[0;34m(\u001b[0m\u001b[0murls_list\u001b[0m\u001b[0;34m)\u001b[0m\u001b[0;34m)\u001b[0m\u001b[0;34m:\u001b[0m\u001b[0;34m\u001b[0m\u001b[0;34m\u001b[0m\u001b[0m\n\u001b[0m\u001b[1;32m     74\u001b[0m     \u001b[0msource_code\u001b[0m \u001b[0;34m=\u001b[0m \u001b[0mscrape\u001b[0m\u001b[0;34m(\u001b[0m\u001b[0murls_list\u001b[0m\u001b[0;34m[\u001b[0m\u001b[0mi\u001b[0m\u001b[0;34m]\u001b[0m\u001b[0;34m[\u001b[0m\u001b[0;36m0\u001b[0m\u001b[0;34m]\u001b[0m\u001b[0;34m)\u001b[0m\u001b[0;34m\u001b[0m\u001b[0;34m\u001b[0m\u001b[0m\n\u001b[1;32m     75\u001b[0m     \u001b[0mprint\u001b[0m\u001b[0;34m(\u001b[0m\u001b[0murls_list\u001b[0m\u001b[0;34m[\u001b[0m\u001b[0mi\u001b[0m\u001b[0;34m]\u001b[0m\u001b[0;34m[\u001b[0m\u001b[0;36m0\u001b[0m\u001b[0;34m]\u001b[0m\u001b[0;34m)\u001b[0m\u001b[0;34m\u001b[0m\u001b[0;34m\u001b[0m\u001b[0m\n",
      "\u001b[0;31mNameError\u001b[0m: name 'urls_list' is not defined"
     ]
    }
   ],
   "source": [
    "# soup = BeautifulSoup(data, 'html.parser')\n",
    "# for i, result in enumerate(soup.findAll(\"div\",'rms-grid-item')):\n",
    "#     t = result.findAll(\"span\", \"long-text\")[0].text[4:]\n",
    "#     a = int(result.findAll(\"span\", \"ng-binding ng-scope\")[0].text[1:])\n",
    "#     n = result.findAll('div', 'name rms-grid-line ng-binding')[0].text.strip()\n",
    "#     runners.insert({'name': n, 'time':t, 'age': a, 'ag': ag, 'dist': distance})\n",
    "\n",
    "\n",
    "def scrape(url):\n",
    "  chrome_driver_path = \"/Users/annebarry/galvanize/partisan_speech/partisan_speech/chromedriver\"\n",
    "  driver = webdriver.Chrome(executable_path = chrome_driver_path)\n",
    "  driver.get(url)\n",
    "  time.sleep(10)\n",
    "  button = driver.find_elements_by_class_name('button-load-more')\n",
    "  while True:\n",
    "    try:\n",
    "      button[1].click()\n",
    "      time.sleep(12)\n",
    "    except:\n",
    "      break\n",
    "  source = driver.page_source\n",
    "  return source\n",
    "\n",
    "if __name__ == '__main__':\n",
    "  '''\n",
    "    scrapes each url in urls_list, stores the page source\n",
    "    in the race_results collection, then parses the information\n",
    "    about each runner\n",
    "\n",
    "    Parameters:\n",
    "    ----------\n",
    "    url:\n",
    "      a string of a url\n",
    "\n",
    "\n",
    "    Returns:\n",
    "    ----------\n",
    "    None\n",
    "  '''\n",
    "  for i in range(len(urls_list)):\n",
    "    source_code = scrape(urls_list[i][0])\n",
    "    print(urls_list[i][0])\n",
    "    racing.source.insert({'name': urls_list[i][1], 'source': source_code})\n",
    "    parse_results(source_code, urls_list[i][2], urls_list[i][1])"
   ]
  },
  {
   "cell_type": "code",
   "execution_count": null,
   "metadata": {},
   "outputs": [],
   "source": []
  }
 ],
 "metadata": {
  "kernelspec": {
   "display_name": "Python 3",
   "language": "python",
   "name": "python3"
  },
  "language_info": {
   "codemirror_mode": {
    "name": "ipython",
    "version": 3
   },
   "file_extension": ".py",
   "mimetype": "text/x-python",
   "name": "python",
   "nbconvert_exporter": "python",
   "pygments_lexer": "ipython3",
   "version": "3.7.7"
  }
 },
 "nbformat": 4,
 "nbformat_minor": 4
}
