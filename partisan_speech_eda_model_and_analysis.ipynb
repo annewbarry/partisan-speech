{
 "cells": [
  {
   "cell_type": "code",
   "execution_count": 125,
   "metadata": {},
   "outputs": [],
   "source": [
    "import pandas as pd\n",
    "import unicodedata\n",
    "import string\n",
    "import re\n",
    "import numpy as np\n",
    "from nltk.util import ngrams\n",
    "from nltk.tokenize import sent_tokenize, word_tokenize\n",
    "from nltk.corpus import stopwords\n",
    "from sklearn.feature_extraction.text import TfidfVectorizer\n",
    "from sklearn.feature_extraction.text import CountVectorizer\n",
    "from sklearn.model_selection import train_test_split\n",
    "from sklearn.naive_bayes import MultinomialNB\n",
    "from sklearn.feature_extraction.text import TfidfVectorizer\n",
    "import matplotlib.pyplot as plt\n",
    "%matplotlib inline\n",
    "from sklearn.model_selection import cross_val_score\n",
    "from sklearn.ensemble import RandomForestClassifier\n",
    "from sklearn.metrics import confusion_matrix\n",
    "from statistics import mean\n",
    "plt.style.use('ggplot')\n",
    "from sklearn.metrics import roc_curve\n",
    "from sklearn.metrics import roc_auc_score\n"
   ]
  },
  {
   "cell_type": "markdown",
   "metadata": {},
   "source": [
    "## EDA!"
   ]
  },
  {
   "cell_type": "code",
   "execution_count": 2,
   "metadata": {},
   "outputs": [],
   "source": [
    "df = pd.read_csv('data/speech_df_cleaned.csv')"
   ]
  },
  {
   "cell_type": "code",
   "execution_count": 3,
   "metadata": {},
   "outputs": [
    {
     "data": {
      "text/html": [
       "<div>\n",
       "<style scoped>\n",
       "    .dataframe tbody tr th:only-of-type {\n",
       "        vertical-align: middle;\n",
       "    }\n",
       "\n",
       "    .dataframe tbody tr th {\n",
       "        vertical-align: top;\n",
       "    }\n",
       "\n",
       "    .dataframe thead th {\n",
       "        text-align: right;\n",
       "    }\n",
       "</style>\n",
       "<table border=\"1\" class=\"dataframe\">\n",
       "  <thead>\n",
       "    <tr style=\"text-align: right;\">\n",
       "      <th></th>\n",
       "      <th>Unnamed: 0</th>\n",
       "      <th>index</th>\n",
       "      <th>name</th>\n",
       "      <th>party</th>\n",
       "      <th>war</th>\n",
       "      <th>speech</th>\n",
       "      <th>title</th>\n",
       "      <th>date</th>\n",
       "      <th>text</th>\n",
       "      <th>interview</th>\n",
       "      <th>debate</th>\n",
       "      <th>inaugural address</th>\n",
       "      <th>state of the union</th>\n",
       "      <th>press conference</th>\n",
       "    </tr>\n",
       "  </thead>\n",
       "  <tbody>\n",
       "    <tr>\n",
       "      <th>0</th>\n",
       "      <td>0</td>\n",
       "      <td>0</td>\n",
       "      <td>bush</td>\n",
       "      <td>republican</td>\n",
       "      <td>war</td>\n",
       "      <td>&lt;title=\"Address at West Point\"&gt;\\n&lt;date=\"Januar...</td>\n",
       "      <td>Address at West Point</td>\n",
       "      <td>January 5, 1993</td>\n",
       "      <td>\\nThank you all very much. Good luck. Please b...</td>\n",
       "      <td>False</td>\n",
       "      <td>False</td>\n",
       "      <td>False</td>\n",
       "      <td>False</td>\n",
       "      <td>False</td>\n",
       "    </tr>\n",
       "    <tr>\n",
       "      <th>1</th>\n",
       "      <td>1</td>\n",
       "      <td>1</td>\n",
       "      <td>bush</td>\n",
       "      <td>republican</td>\n",
       "      <td>war</td>\n",
       "      <td>&lt;title=\"Address on Somalia\"&gt;\\n&lt;date=\"December ...</td>\n",
       "      <td>Address on Somalia</td>\n",
       "      <td>December 4, 1992</td>\n",
       "      <td>\\nI want to talk to you today about the traged...</td>\n",
       "      <td>False</td>\n",
       "      <td>False</td>\n",
       "      <td>False</td>\n",
       "      <td>False</td>\n",
       "      <td>False</td>\n",
       "    </tr>\n",
       "    <tr>\n",
       "      <th>2</th>\n",
       "      <td>2</td>\n",
       "      <td>2</td>\n",
       "      <td>bush</td>\n",
       "      <td>republican</td>\n",
       "      <td>war</td>\n",
       "      <td>&lt;title=\"Address on Iraq's Invasion of Kuwait\"&gt;...</td>\n",
       "      <td>Address on Iraq's Invasion of Kuwait</td>\n",
       "      <td>August 8, 1990</td>\n",
       "      <td>\\nIn the life of a nation, we're called upon t...</td>\n",
       "      <td>False</td>\n",
       "      <td>False</td>\n",
       "      <td>False</td>\n",
       "      <td>False</td>\n",
       "      <td>False</td>\n",
       "    </tr>\n",
       "    <tr>\n",
       "      <th>3</th>\n",
       "      <td>3</td>\n",
       "      <td>3</td>\n",
       "      <td>bush</td>\n",
       "      <td>republican</td>\n",
       "      <td>war</td>\n",
       "      <td>&lt;title=\"Address Before a Joint Session of Cong...</td>\n",
       "      <td>Address Before a Joint Session of Congress</td>\n",
       "      <td>September 11, 1990</td>\n",
       "      <td>\\nMr. President and Mr. Speaker and Members of...</td>\n",
       "      <td>False</td>\n",
       "      <td>False</td>\n",
       "      <td>False</td>\n",
       "      <td>False</td>\n",
       "      <td>False</td>\n",
       "    </tr>\n",
       "    <tr>\n",
       "      <th>4</th>\n",
       "      <td>4</td>\n",
       "      <td>4</td>\n",
       "      <td>bush</td>\n",
       "      <td>republican</td>\n",
       "      <td>war</td>\n",
       "      <td>&lt;title=\"Remarks at Texas A and M University\"&gt;\\...</td>\n",
       "      <td>Remarks at Texas A and M University</td>\n",
       "      <td>December 15, 1992</td>\n",
       "      <td>\\nThank you all for that welcome back. Thank y...</td>\n",
       "      <td>False</td>\n",
       "      <td>False</td>\n",
       "      <td>False</td>\n",
       "      <td>False</td>\n",
       "      <td>False</td>\n",
       "    </tr>\n",
       "  </tbody>\n",
       "</table>\n",
       "</div>"
      ],
      "text/plain": [
       "   Unnamed: 0  index  name       party  war  \\\n",
       "0           0      0  bush  republican  war   \n",
       "1           1      1  bush  republican  war   \n",
       "2           2      2  bush  republican  war   \n",
       "3           3      3  bush  republican  war   \n",
       "4           4      4  bush  republican  war   \n",
       "\n",
       "                                              speech  \\\n",
       "0  <title=\"Address at West Point\">\\n<date=\"Januar...   \n",
       "1  <title=\"Address on Somalia\">\\n<date=\"December ...   \n",
       "2  <title=\"Address on Iraq's Invasion of Kuwait\">...   \n",
       "3  <title=\"Address Before a Joint Session of Cong...   \n",
       "4  <title=\"Remarks at Texas A and M University\">\\...   \n",
       "\n",
       "                                        title                date  \\\n",
       "0                       Address at West Point     January 5, 1993   \n",
       "1                          Address on Somalia    December 4, 1992   \n",
       "2        Address on Iraq's Invasion of Kuwait      August 8, 1990   \n",
       "3  Address Before a Joint Session of Congress  September 11, 1990   \n",
       "4         Remarks at Texas A and M University   December 15, 1992   \n",
       "\n",
       "                                                text  interview  debate  \\\n",
       "0  \\nThank you all very much. Good luck. Please b...      False   False   \n",
       "1  \\nI want to talk to you today about the traged...      False   False   \n",
       "2  \\nIn the life of a nation, we're called upon t...      False   False   \n",
       "3  \\nMr. President and Mr. Speaker and Members of...      False   False   \n",
       "4  \\nThank you all for that welcome back. Thank y...      False   False   \n",
       "\n",
       "   inaugural address  state of the union  press conference  \n",
       "0              False               False             False  \n",
       "1              False               False             False  \n",
       "2              False               False             False  \n",
       "3              False               False             False  \n",
       "4              False               False             False  "
      ]
     },
     "execution_count": 3,
     "metadata": {},
     "output_type": "execute_result"
    }
   ],
   "source": [
    "df.head()"
   ]
  },
  {
   "cell_type": "code",
   "execution_count": 4,
   "metadata": {},
   "outputs": [
    {
     "data": {
      "text/plain": [
       "Unnamed: 0            549\n",
       "index                 549\n",
       "name                  549\n",
       "party                 549\n",
       "war                   549\n",
       "speech                549\n",
       "title                 549\n",
       "date                  549\n",
       "text                  548\n",
       "interview             549\n",
       "debate                549\n",
       "inaugural address     549\n",
       "state of the union    549\n",
       "press conference      549\n",
       "dtype: int64"
      ]
     },
     "execution_count": 4,
     "metadata": {},
     "output_type": "execute_result"
    }
   ],
   "source": [
    "df.count()"
   ]
  },
  {
   "cell_type": "markdown",
   "metadata": {},
   "source": [
    "The 549 texts included 16 Democrats (7 presidents, 9 debate candidates) and 15 Republicans (7 presidents, 8 debate candidates)."
   ]
  },
  {
   "cell_type": "code",
   "execution_count": 5,
   "metadata": {
    "scrolled": true
   },
   "outputs": [
    {
     "name": "stdout",
     "output_type": "stream",
     "text": [
      "Speeches by president\n",
      "lbjohnson      71\n",
      "reagan         60\n",
      "obama          54\n",
      "fdroosevelt    49\n",
      "kennedy        45\n",
      "gwbush         45\n",
      "clinton        43\n",
      "hoover         29\n",
      "bush           27\n",
      "nixon          27\n",
      "carter         22\n",
      "truman         19\n",
      "ford           17\n",
      "eisenhower      6\n",
      "gore            5\n",
      "mccain          3\n",
      "kerry           3\n",
      "romney          3\n",
      "quayle          2\n",
      "cheney          2\n",
      "biden           2\n",
      "dole            2\n",
      "dukakis         2\n",
      "mondale         2\n",
      "palin           1\n",
      "edwards         1\n",
      "ryan            1\n",
      "bentsen         1\n",
      "lieberman       1\n",
      "ferraro         1\n",
      "kemp            1\n",
      "kaine           1\n",
      "pence           1\n",
      "Name: name, dtype: int64\n",
      "\n",
      "speeches by party\n",
      "democrat      322\n",
      "republican    227\n",
      "Name: party, dtype: int64\n"
     ]
    }
   ],
   "source": [
    "print('Speeches by president')\n",
    "print(df.name.value_counts())\n",
    "print('')\n",
    "print('speeches by party')\n",
    "print(df.party.value_counts())"
   ]
  },
  {
   "cell_type": "markdown",
   "metadata": {},
   "source": [
    "Speeches by speaker"
   ]
  },
  {
   "cell_type": "code",
   "execution_count": 6,
   "metadata": {},
   "outputs": [
    {
     "data": {
      "text/plain": [
       "<matplotlib.axes._subplots.AxesSubplot at 0x7fea905c47d0>"
      ]
     },
     "execution_count": 6,
     "metadata": {},
     "output_type": "execute_result"
    },
    {
     "data": {
      "image/png": "[encoded data removed]",
      "text/plain": [
       "<Figure size 432x288 with 1 Axes>"
      ]
     },
     "metadata": {},
     "output_type": "display_data"
    }
   ],
   "source": [
    "df['name'].value_counts().plot(kind='bar')"
   ]
  },
  {
   "cell_type": "markdown",
   "metadata": {},
   "source": [
    "LBJ had the most speeches, which lead me to wonder if these were disproportionately press conferences due to the Vietnam War.  It turns out that yes, he had the most press conferences in the corpus, 23 in total."
   ]
  },
  {
   "cell_type": "code",
   "execution_count": 7,
   "metadata": {},
   "outputs": [
    {
     "data": {
      "text/plain": [
       "<matplotlib.axes._subplots.AxesSubplot at 0x7fea906025d0>"
      ]
     },
     "execution_count": 7,
     "metadata": {},
     "output_type": "execute_result"
    },
    {
     "data": {
      "image/png": "[encoded data removed]",
      "text/plain": [
       "<Figure size 432x288 with 1 Axes>"
      ]
     },
     "metadata": {},
     "output_type": "display_data"
    }
   ],
   "source": [
    "df[df['press conference']== True]['name'].value_counts().plot(kind='bar')"
   ]
  },
  {
   "cell_type": "markdown",
   "metadata": {},
   "source": [
    "The table below shows the breakdown of speech type by speaker."
   ]
  },
  {
   "cell_type": "code",
   "execution_count": 8,
   "metadata": {},
   "outputs": [
    {
     "data": {
      "text/html": [
       "<div>\n",
       "<style scoped>\n",
       "    .dataframe tbody tr th:only-of-type {\n",
       "        vertical-align: middle;\n",
       "    }\n",
       "\n",
       "    .dataframe tbody tr th {\n",
       "        vertical-align: top;\n",
       "    }\n",
       "\n",
       "    .dataframe thead th {\n",
       "        text-align: right;\n",
       "    }\n",
       "</style>\n",
       "<table border=\"1\" class=\"dataframe\">\n",
       "  <thead>\n",
       "    <tr style=\"text-align: right;\">\n",
       "      <th></th>\n",
       "      <th>Unnamed: 0</th>\n",
       "      <th>index</th>\n",
       "      <th>interview</th>\n",
       "      <th>debate</th>\n",
       "      <th>inaugural address</th>\n",
       "      <th>state of the union</th>\n",
       "      <th>press conference</th>\n",
       "    </tr>\n",
       "    <tr>\n",
       "      <th>name</th>\n",
       "      <th></th>\n",
       "      <th></th>\n",
       "      <th></th>\n",
       "      <th></th>\n",
       "      <th></th>\n",
       "      <th></th>\n",
       "      <th></th>\n",
       "    </tr>\n",
       "  </thead>\n",
       "  <tbody>\n",
       "    <tr>\n",
       "      <th>bentsen</th>\n",
       "      <td>545</td>\n",
       "      <td>46</td>\n",
       "      <td>0.0</td>\n",
       "      <td>1.0</td>\n",
       "      <td>0.0</td>\n",
       "      <td>0.0</td>\n",
       "      <td>0.0</td>\n",
       "    </tr>\n",
       "    <tr>\n",
       "      <th>biden</th>\n",
       "      <td>1016</td>\n",
       "      <td>18</td>\n",
       "      <td>0.0</td>\n",
       "      <td>2.0</td>\n",
       "      <td>0.0</td>\n",
       "      <td>0.0</td>\n",
       "      <td>0.0</td>\n",
       "    </tr>\n",
       "    <tr>\n",
       "      <th>bush</th>\n",
       "      <td>2425</td>\n",
       "      <td>429</td>\n",
       "      <td>0.0</td>\n",
       "      <td>6.0</td>\n",
       "      <td>1.0</td>\n",
       "      <td>3.0</td>\n",
       "      <td>1.0</td>\n",
       "    </tr>\n",
       "    <tr>\n",
       "      <th>carter</th>\n",
       "      <td>737</td>\n",
       "      <td>737</td>\n",
       "      <td>0.0</td>\n",
       "      <td>4.0</td>\n",
       "      <td>1.0</td>\n",
       "      <td>3.0</td>\n",
       "      <td>1.0</td>\n",
       "    </tr>\n",
       "    <tr>\n",
       "      <th>cheney</th>\n",
       "      <td>1049</td>\n",
       "      <td>51</td>\n",
       "      <td>0.0</td>\n",
       "      <td>2.0</td>\n",
       "      <td>0.0</td>\n",
       "      <td>0.0</td>\n",
       "      <td>0.0</td>\n",
       "    </tr>\n",
       "    <tr>\n",
       "      <th>clinton</th>\n",
       "      <td>4597</td>\n",
       "      <td>2614</td>\n",
       "      <td>0.0</td>\n",
       "      <td>5.0</td>\n",
       "      <td>0.0</td>\n",
       "      <td>7.0</td>\n",
       "      <td>1.0</td>\n",
       "    </tr>\n",
       "    <tr>\n",
       "      <th>dole</th>\n",
       "      <td>1028</td>\n",
       "      <td>43</td>\n",
       "      <td>0.0</td>\n",
       "      <td>2.0</td>\n",
       "      <td>0.0</td>\n",
       "      <td>0.0</td>\n",
       "      <td>0.0</td>\n",
       "    </tr>\n",
       "    <tr>\n",
       "      <th>dukakis</th>\n",
       "      <td>1031</td>\n",
       "      <td>46</td>\n",
       "      <td>0.0</td>\n",
       "      <td>2.0</td>\n",
       "      <td>0.0</td>\n",
       "      <td>0.0</td>\n",
       "      <td>0.0</td>\n",
       "    </tr>\n",
       "    <tr>\n",
       "      <th>edwards</th>\n",
       "      <td>522</td>\n",
       "      <td>23</td>\n",
       "      <td>0.0</td>\n",
       "      <td>1.0</td>\n",
       "      <td>0.0</td>\n",
       "      <td>0.0</td>\n",
       "      <td>0.0</td>\n",
       "    </tr>\n",
       "    <tr>\n",
       "      <th>eisenhower</th>\n",
       "      <td>519</td>\n",
       "      <td>519</td>\n",
       "      <td>0.0</td>\n",
       "      <td>0.0</td>\n",
       "      <td>1.0</td>\n",
       "      <td>0.0</td>\n",
       "      <td>0.0</td>\n",
       "    </tr>\n",
       "    <tr>\n",
       "      <th>fdroosevelt</th>\n",
       "      <td>5586</td>\n",
       "      <td>5586</td>\n",
       "      <td>0.0</td>\n",
       "      <td>0.0</td>\n",
       "      <td>4.0</td>\n",
       "      <td>3.0</td>\n",
       "      <td>0.0</td>\n",
       "    </tr>\n",
       "    <tr>\n",
       "      <th>ferraro</th>\n",
       "      <td>548</td>\n",
       "      <td>49</td>\n",
       "      <td>0.0</td>\n",
       "      <td>1.0</td>\n",
       "      <td>0.0</td>\n",
       "      <td>0.0</td>\n",
       "      <td>0.0</td>\n",
       "    </tr>\n",
       "    <tr>\n",
       "      <th>ford</th>\n",
       "      <td>3504</td>\n",
       "      <td>2046</td>\n",
       "      <td>0.0</td>\n",
       "      <td>3.0</td>\n",
       "      <td>0.0</td>\n",
       "      <td>3.0</td>\n",
       "      <td>0.0</td>\n",
       "    </tr>\n",
       "    <tr>\n",
       "      <th>gore</th>\n",
       "      <td>2655</td>\n",
       "      <td>160</td>\n",
       "      <td>0.0</td>\n",
       "      <td>5.0</td>\n",
       "      <td>0.0</td>\n",
       "      <td>0.0</td>\n",
       "      <td>0.0</td>\n",
       "    </tr>\n",
       "    <tr>\n",
       "      <th>gwbush</th>\n",
       "      <td>9855</td>\n",
       "      <td>6861</td>\n",
       "      <td>0.0</td>\n",
       "      <td>6.0</td>\n",
       "      <td>2.0</td>\n",
       "      <td>7.0</td>\n",
       "      <td>1.0</td>\n",
       "    </tr>\n",
       "    <tr>\n",
       "      <th>hoover</th>\n",
       "      <td>5974</td>\n",
       "      <td>5974</td>\n",
       "      <td>0.0</td>\n",
       "      <td>0.0</td>\n",
       "      <td>1.0</td>\n",
       "      <td>4.0</td>\n",
       "      <td>0.0</td>\n",
       "    </tr>\n",
       "    <tr>\n",
       "      <th>kaine</th>\n",
       "      <td>499</td>\n",
       "      <td>0</td>\n",
       "      <td>0.0</td>\n",
       "      <td>1.0</td>\n",
       "      <td>0.0</td>\n",
       "      <td>0.0</td>\n",
       "      <td>0.0</td>\n",
       "    </tr>\n",
       "    <tr>\n",
       "      <th>kemp</th>\n",
       "      <td>534</td>\n",
       "      <td>35</td>\n",
       "      <td>0.0</td>\n",
       "      <td>1.0</td>\n",
       "      <td>0.0</td>\n",
       "      <td>0.0</td>\n",
       "      <td>0.0</td>\n",
       "    </tr>\n",
       "    <tr>\n",
       "      <th>kennedy</th>\n",
       "      <td>10935</td>\n",
       "      <td>10935</td>\n",
       "      <td>0.0</td>\n",
       "      <td>4.0</td>\n",
       "      <td>1.0</td>\n",
       "      <td>3.0</td>\n",
       "      <td>0.0</td>\n",
       "    </tr>\n",
       "    <tr>\n",
       "      <th>kerry</th>\n",
       "      <td>1562</td>\n",
       "      <td>65</td>\n",
       "      <td>0.0</td>\n",
       "      <td>3.0</td>\n",
       "      <td>0.0</td>\n",
       "      <td>0.0</td>\n",
       "      <td>0.0</td>\n",
       "    </tr>\n",
       "    <tr>\n",
       "      <th>lbjohnson</th>\n",
       "      <td>21371</td>\n",
       "      <td>21371</td>\n",
       "      <td>0.0</td>\n",
       "      <td>0.0</td>\n",
       "      <td>1.0</td>\n",
       "      <td>6.0</td>\n",
       "      <td>23.0</td>\n",
       "    </tr>\n",
       "    <tr>\n",
       "      <th>lieberman</th>\n",
       "      <td>527</td>\n",
       "      <td>28</td>\n",
       "      <td>0.0</td>\n",
       "      <td>1.0</td>\n",
       "      <td>0.0</td>\n",
       "      <td>0.0</td>\n",
       "      <td>0.0</td>\n",
       "    </tr>\n",
       "    <tr>\n",
       "      <th>mccain</th>\n",
       "      <td>1537</td>\n",
       "      <td>40</td>\n",
       "      <td>0.0</td>\n",
       "      <td>3.0</td>\n",
       "      <td>0.0</td>\n",
       "      <td>0.0</td>\n",
       "      <td>0.0</td>\n",
       "    </tr>\n",
       "    <tr>\n",
       "      <th>mondale</th>\n",
       "      <td>995</td>\n",
       "      <td>23</td>\n",
       "      <td>0.0</td>\n",
       "      <td>2.0</td>\n",
       "      <td>0.0</td>\n",
       "      <td>0.0</td>\n",
       "      <td>0.0</td>\n",
       "    </tr>\n",
       "    <tr>\n",
       "      <th>nixon</th>\n",
       "      <td>9982</td>\n",
       "      <td>8038</td>\n",
       "      <td>0.0</td>\n",
       "      <td>4.0</td>\n",
       "      <td>2.0</td>\n",
       "      <td>4.0</td>\n",
       "      <td>0.0</td>\n",
       "    </tr>\n",
       "    <tr>\n",
       "      <th>obama</th>\n",
       "      <td>21459</td>\n",
       "      <td>18465</td>\n",
       "      <td>0.0</td>\n",
       "      <td>6.0</td>\n",
       "      <td>2.0</td>\n",
       "      <td>7.0</td>\n",
       "      <td>1.0</td>\n",
       "    </tr>\n",
       "    <tr>\n",
       "      <th>palin</th>\n",
       "      <td>512</td>\n",
       "      <td>13</td>\n",
       "      <td>0.0</td>\n",
       "      <td>1.0</td>\n",
       "      <td>0.0</td>\n",
       "      <td>0.0</td>\n",
       "      <td>0.0</td>\n",
       "    </tr>\n",
       "    <tr>\n",
       "      <th>pence</th>\n",
       "      <td>500</td>\n",
       "      <td>1</td>\n",
       "      <td>0.0</td>\n",
       "      <td>1.0</td>\n",
       "      <td>0.0</td>\n",
       "      <td>0.0</td>\n",
       "      <td>0.0</td>\n",
       "    </tr>\n",
       "    <tr>\n",
       "      <th>quayle</th>\n",
       "      <td>1084</td>\n",
       "      <td>86</td>\n",
       "      <td>0.0</td>\n",
       "      <td>2.0</td>\n",
       "      <td>0.0</td>\n",
       "      <td>0.0</td>\n",
       "      <td>0.0</td>\n",
       "    </tr>\n",
       "    <tr>\n",
       "      <th>reagan</th>\n",
       "      <td>26274</td>\n",
       "      <td>25788</td>\n",
       "      <td>0.0</td>\n",
       "      <td>3.0</td>\n",
       "      <td>2.0</td>\n",
       "      <td>7.0</td>\n",
       "      <td>1.0</td>\n",
       "    </tr>\n",
       "    <tr>\n",
       "      <th>romney</th>\n",
       "      <td>1514</td>\n",
       "      <td>17</td>\n",
       "      <td>0.0</td>\n",
       "      <td>3.0</td>\n",
       "      <td>0.0</td>\n",
       "      <td>0.0</td>\n",
       "      <td>0.0</td>\n",
       "    </tr>\n",
       "    <tr>\n",
       "      <th>ryan</th>\n",
       "      <td>506</td>\n",
       "      <td>7</td>\n",
       "      <td>0.0</td>\n",
       "      <td>1.0</td>\n",
       "      <td>0.0</td>\n",
       "      <td>0.0</td>\n",
       "      <td>0.0</td>\n",
       "    </tr>\n",
       "    <tr>\n",
       "      <th>truman</th>\n",
       "      <td>9044</td>\n",
       "      <td>9044</td>\n",
       "      <td>0.0</td>\n",
       "      <td>0.0</td>\n",
       "      <td>1.0</td>\n",
       "      <td>0.0</td>\n",
       "      <td>0.0</td>\n",
       "    </tr>\n",
       "  </tbody>\n",
       "</table>\n",
       "</div>"
      ],
      "text/plain": [
       "             Unnamed: 0  index  interview  debate  inaugural address  \\\n",
       "name                                                                   \n",
       "bentsen             545     46        0.0     1.0                0.0   \n",
       "biden              1016     18        0.0     2.0                0.0   \n",
       "bush               2425    429        0.0     6.0                1.0   \n",
       "carter              737    737        0.0     4.0                1.0   \n",
       "cheney             1049     51        0.0     2.0                0.0   \n",
       "clinton            4597   2614        0.0     5.0                0.0   \n",
       "dole               1028     43        0.0     2.0                0.0   \n",
       "dukakis            1031     46        0.0     2.0                0.0   \n",
       "edwards             522     23        0.0     1.0                0.0   \n",
       "eisenhower          519    519        0.0     0.0                1.0   \n",
       "fdroosevelt        5586   5586        0.0     0.0                4.0   \n",
       "ferraro             548     49        0.0     1.0                0.0   \n",
       "ford               3504   2046        0.0     3.0                0.0   \n",
       "gore               2655    160        0.0     5.0                0.0   \n",
       "gwbush             9855   6861        0.0     6.0                2.0   \n",
       "hoover             5974   5974        0.0     0.0                1.0   \n",
       "kaine               499      0        0.0     1.0                0.0   \n",
       "kemp                534     35        0.0     1.0                0.0   \n",
       "kennedy           10935  10935        0.0     4.0                1.0   \n",
       "kerry              1562     65        0.0     3.0                0.0   \n",
       "lbjohnson         21371  21371        0.0     0.0                1.0   \n",
       "lieberman           527     28        0.0     1.0                0.0   \n",
       "mccain             1537     40        0.0     3.0                0.0   \n",
       "mondale             995     23        0.0     2.0                0.0   \n",
       "nixon              9982   8038        0.0     4.0                2.0   \n",
       "obama             21459  18465        0.0     6.0                2.0   \n",
       "palin               512     13        0.0     1.0                0.0   \n",
       "pence               500      1        0.0     1.0                0.0   \n",
       "quayle             1084     86        0.0     2.0                0.0   \n",
       "reagan            26274  25788        0.0     3.0                2.0   \n",
       "romney             1514     17        0.0     3.0                0.0   \n",
       "ryan                506      7        0.0     1.0                0.0   \n",
       "truman             9044   9044        0.0     0.0                1.0   \n",
       "\n",
       "             state of the union  press conference  \n",
       "name                                               \n",
       "bentsen                     0.0               0.0  \n",
       "biden                       0.0               0.0  \n",
       "bush                        3.0               1.0  \n",
       "carter                      3.0               1.0  \n",
       "cheney                      0.0               0.0  \n",
       "clinton                     7.0               1.0  \n",
       "dole                        0.0               0.0  \n",
       "dukakis                     0.0               0.0  \n",
       "edwards                     0.0               0.0  \n",
       "eisenhower                  0.0               0.0  \n",
       "fdroosevelt                 3.0               0.0  \n",
       "ferraro                     0.0               0.0  \n",
       "ford                        3.0               0.0  \n",
       "gore                        0.0               0.0  \n",
       "gwbush                      7.0               1.0  \n",
       "hoover                      4.0               0.0  \n",
       "kaine                       0.0               0.0  \n",
       "kemp                        0.0               0.0  \n",
       "kennedy                     3.0               0.0  \n",
       "kerry                       0.0               0.0  \n",
       "lbjohnson                   6.0              23.0  \n",
       "lieberman                   0.0               0.0  \n",
       "mccain                      0.0               0.0  \n",
       "mondale                     0.0               0.0  \n",
       "nixon                       4.0               0.0  \n",
       "obama                       7.0               1.0  \n",
       "palin                       0.0               0.0  \n",
       "pence                       0.0               0.0  \n",
       "quayle                      0.0               0.0  \n",
       "reagan                      7.0               1.0  \n",
       "romney                      0.0               0.0  \n",
       "ryan                        0.0               0.0  \n",
       "truman                      0.0               0.0  "
      ]
     },
     "execution_count": 8,
     "metadata": {},
     "output_type": "execute_result"
    }
   ],
   "source": [
    "df.groupby('name').sum()"
   ]
  },
  {
   "cell_type": "code",
   "execution_count": 21,
   "metadata": {},
   "outputs": [],
   "source": [
    "df.text = df.text.fillna(' ')"
   ]
  },
  {
   "cell_type": "code",
   "execution_count": 22,
   "metadata": {
    "scrolled": true
   },
   "outputs": [],
   "source": [
    "df['text length'] = df.text.apply(lambda x: len(x.split(' ')))"
   ]
  },
  {
   "cell_type": "markdown",
   "metadata": {},
   "source": [
    "The median speech length was 3,176 words, which assuming 150 words/minute means 21.17 minutes."
   ]
  },
  {
   "cell_type": "code",
   "execution_count": 23,
   "metadata": {
    "scrolled": true
   },
   "outputs": [
    {
     "data": {
      "text/plain": [
       "21.173333333333332"
      ]
     },
     "execution_count": 23,
     "metadata": {},
     "output_type": "execute_result"
    }
   ],
   "source": [
    "df['text length'].median()/150"
   ]
  },
  {
   "cell_type": "code",
   "execution_count": 24,
   "metadata": {
    "scrolled": true
   },
   "outputs": [
    {
     "data": {
      "text/plain": [
       "1118720"
      ]
     },
     "execution_count": 24,
     "metadata": {},
     "output_type": "execute_result"
    }
   ],
   "source": [
    "df[df['party'] == 'democrat']['text length'].sum()"
   ]
  },
  {
   "cell_type": "code",
   "execution_count": 25,
   "metadata": {
    "scrolled": true
   },
   "outputs": [
    {
     "data": {
      "text/plain": [
       "790496"
      ]
     },
     "execution_count": 25,
     "metadata": {},
     "output_type": "execute_result"
    }
   ],
   "source": [
    "df[df['party'] == 'republican']['text length'].sum()"
   ]
  },
  {
   "cell_type": "code",
   "execution_count": 26,
   "metadata": {
    "scrolled": true
   },
   "outputs": [
    {
     "data": {
      "text/html": [
       "<div>\n",
       "<style scoped>\n",
       "    .dataframe tbody tr th:only-of-type {\n",
       "        vertical-align: middle;\n",
       "    }\n",
       "\n",
       "    .dataframe tbody tr th {\n",
       "        vertical-align: top;\n",
       "    }\n",
       "\n",
       "    .dataframe thead th {\n",
       "        text-align: right;\n",
       "    }\n",
       "</style>\n",
       "<table border=\"1\" class=\"dataframe\">\n",
       "  <thead>\n",
       "    <tr style=\"text-align: right;\">\n",
       "      <th></th>\n",
       "      <th>Unnamed: 0</th>\n",
       "      <th>index</th>\n",
       "      <th>name</th>\n",
       "      <th>party</th>\n",
       "      <th>war</th>\n",
       "      <th>speech</th>\n",
       "      <th>title</th>\n",
       "      <th>date</th>\n",
       "      <th>text</th>\n",
       "      <th>interview</th>\n",
       "      <th>debate</th>\n",
       "      <th>inaugural address</th>\n",
       "      <th>state of the union</th>\n",
       "      <th>press conference</th>\n",
       "      <th>text length</th>\n",
       "    </tr>\n",
       "  </thead>\n",
       "  <tbody>\n",
       "    <tr>\n",
       "      <th>544</th>\n",
       "      <td>544</td>\n",
       "      <td>45</td>\n",
       "      <td>dukakis</td>\n",
       "      <td>democrat</td>\n",
       "      <td>0</td>\n",
       "      <td>0</td>\n",
       "      <td>0</td>\n",
       "      <td>0</td>\n",
       "      <td></td>\n",
       "      <td>False</td>\n",
       "      <td>True</td>\n",
       "      <td>False</td>\n",
       "      <td>False</td>\n",
       "      <td>False</td>\n",
       "      <td>2</td>\n",
       "    </tr>\n",
       "    <tr>\n",
       "      <th>120</th>\n",
       "      <td>120</td>\n",
       "      <td>120</td>\n",
       "      <td>fdroosevelt</td>\n",
       "      <td>democrat</td>\n",
       "      <td>war</td>\n",
       "      <td>&lt;title=\"Message to Congress Requesting War Dec...</td>\n",
       "      <td>Message to Congress Requesting War Declaration...</td>\n",
       "      <td>December 11, 1941</td>\n",
       "      <td>&lt;title=\"Message to Congress Requesting War Dec...</td>\n",
       "      <td>False</td>\n",
       "      <td>False</td>\n",
       "      <td>False</td>\n",
       "      <td>False</td>\n",
       "      <td>False</td>\n",
       "      <td>144</td>\n",
       "    </tr>\n",
       "    <tr>\n",
       "      <th>202</th>\n",
       "      <td>202</td>\n",
       "      <td>202</td>\n",
       "      <td>hoover</td>\n",
       "      <td>republican</td>\n",
       "      <td>nw</td>\n",
       "      <td>&lt;title=\"Message Regarding “Black Thursday”\"&gt;\\n...</td>\n",
       "      <td>Message Regarding “Black Thursday”</td>\n",
       "      <td>October 25, 1929</td>\n",
       "      <td>\\n&lt;IN REPLY to press questions as to the busin...</td>\n",
       "      <td>False</td>\n",
       "      <td>False</td>\n",
       "      <td>False</td>\n",
       "      <td>False</td>\n",
       "      <td>False</td>\n",
       "      <td>204</td>\n",
       "    </tr>\n",
       "    <tr>\n",
       "      <th>307</th>\n",
       "      <td>307</td>\n",
       "      <td>307</td>\n",
       "      <td>lbjohnson</td>\n",
       "      <td>democrat</td>\n",
       "      <td>war</td>\n",
       "      <td>&lt;title=\"Statement on Sending Troops to the Dom...</td>\n",
       "      <td>Statement on Sending Troops to the Dominican R...</td>\n",
       "      <td>April 28, 1965</td>\n",
       "      <td>\\nI have just concluded a meeting with the lea...</td>\n",
       "      <td>False</td>\n",
       "      <td>False</td>\n",
       "      <td>False</td>\n",
       "      <td>False</td>\n",
       "      <td>False</td>\n",
       "      <td>241</td>\n",
       "    </tr>\n",
       "    <tr>\n",
       "      <th>355</th>\n",
       "      <td>355</td>\n",
       "      <td>355</td>\n",
       "      <td>nixon</td>\n",
       "      <td>republican</td>\n",
       "      <td>war</td>\n",
       "      <td>&lt;title=\"Remarks Announcing an Agreement on Str...</td>\n",
       "      <td>Remarks Announcing an Agreement on Strategic A...</td>\n",
       "      <td>May 20, 1971</td>\n",
       "      <td>\\nGood afternoon, ladies and gentlemen:\\nAs yo...</td>\n",
       "      <td>False</td>\n",
       "      <td>False</td>\n",
       "      <td>False</td>\n",
       "      <td>False</td>\n",
       "      <td>False</td>\n",
       "      <td>264</td>\n",
       "    </tr>\n",
       "    <tr>\n",
       "      <th>...</th>\n",
       "      <td>...</td>\n",
       "      <td>...</td>\n",
       "      <td>...</td>\n",
       "      <td>...</td>\n",
       "      <td>...</td>\n",
       "      <td>...</td>\n",
       "      <td>...</td>\n",
       "      <td>...</td>\n",
       "      <td>...</td>\n",
       "      <td>...</td>\n",
       "      <td>...</td>\n",
       "      <td>...</td>\n",
       "      <td>...</td>\n",
       "      <td>...</td>\n",
       "      <td>...</td>\n",
       "    </tr>\n",
       "    <tr>\n",
       "      <th>214</th>\n",
       "      <td>214</td>\n",
       "      <td>214</td>\n",
       "      <td>hoover</td>\n",
       "      <td>republican</td>\n",
       "      <td>nw</td>\n",
       "      <td>&lt;title=\"First State of the Union Address\"&gt;\\n&lt;d...</td>\n",
       "      <td>First State of the Union Address</td>\n",
       "      <td>December 3, 1929</td>\n",
       "      <td>\\nTo the Senate and House of Representatives:\\...</td>\n",
       "      <td>False</td>\n",
       "      <td>False</td>\n",
       "      <td>False</td>\n",
       "      <td>True</td>\n",
       "      <td>False</td>\n",
       "      <td>10830</td>\n",
       "    </tr>\n",
       "    <tr>\n",
       "      <th>8</th>\n",
       "      <td>8</td>\n",
       "      <td>8</td>\n",
       "      <td>bush</td>\n",
       "      <td>republican</td>\n",
       "      <td>war</td>\n",
       "      <td>&lt;title=\"Press Conference with Mikhail Gorbache...</td>\n",
       "      <td>Press Conference with Mikhail Gorbachev</td>\n",
       "      <td>July 31, 1991</td>\n",
       "      <td>\\n\\n&lt;President Gorbachev. Good evening, ladies...</td>\n",
       "      <td>False</td>\n",
       "      <td>False</td>\n",
       "      <td>False</td>\n",
       "      <td>False</td>\n",
       "      <td>True</td>\n",
       "      <td>11902</td>\n",
       "    </tr>\n",
       "    <tr>\n",
       "      <th>509</th>\n",
       "      <td>509</td>\n",
       "      <td>10</td>\n",
       "      <td>mccain</td>\n",
       "      <td>republican</td>\n",
       "      <td>0</td>\n",
       "      <td>0</td>\n",
       "      <td>0</td>\n",
       "      <td>0</td>\n",
       "      <td>well, thank you, jim. and thanks to everybody...</td>\n",
       "      <td>False</td>\n",
       "      <td>True</td>\n",
       "      <td>False</td>\n",
       "      <td>False</td>\n",
       "      <td>False</td>\n",
       "      <td>12353</td>\n",
       "    </tr>\n",
       "    <tr>\n",
       "      <th>510</th>\n",
       "      <td>510</td>\n",
       "      <td>11</td>\n",
       "      <td>obama</td>\n",
       "      <td>democrat</td>\n",
       "      <td>0</td>\n",
       "      <td>0</td>\n",
       "      <td>0</td>\n",
       "      <td>0</td>\n",
       "      <td>well, thank you very much, jim, and thanks to...</td>\n",
       "      <td>False</td>\n",
       "      <td>True</td>\n",
       "      <td>False</td>\n",
       "      <td>False</td>\n",
       "      <td>False</td>\n",
       "      <td>13229</td>\n",
       "    </tr>\n",
       "    <tr>\n",
       "      <th>325</th>\n",
       "      <td>325</td>\n",
       "      <td>325</td>\n",
       "      <td>lbjohnson</td>\n",
       "      <td>democrat</td>\n",
       "      <td>war</td>\n",
       "      <td>&lt;title=\"State of the Union Address\"&gt;\\n&lt;date=\"J...</td>\n",
       "      <td>State of the Union Address</td>\n",
       "      <td>January 10, 1967</td>\n",
       "      <td>\\nMr. Speaker, Mr. Vice President, distinguish...</td>\n",
       "      <td>False</td>\n",
       "      <td>False</td>\n",
       "      <td>False</td>\n",
       "      <td>True</td>\n",
       "      <td>False</td>\n",
       "      <td>14176</td>\n",
       "    </tr>\n",
       "  </tbody>\n",
       "</table>\n",
       "<p>549 rows × 15 columns</p>\n",
       "</div>"
      ],
      "text/plain": [
       "     Unnamed: 0  index         name       party  war  \\\n",
       "544         544     45      dukakis    democrat    0   \n",
       "120         120    120  fdroosevelt    democrat  war   \n",
       "202         202    202       hoover  republican   nw   \n",
       "307         307    307    lbjohnson    democrat  war   \n",
       "355         355    355        nixon  republican  war   \n",
       "..          ...    ...          ...         ...  ...   \n",
       "214         214    214       hoover  republican   nw   \n",
       "8             8      8         bush  republican  war   \n",
       "509         509     10       mccain  republican    0   \n",
       "510         510     11        obama    democrat    0   \n",
       "325         325    325    lbjohnson    democrat  war   \n",
       "\n",
       "                                                speech  \\\n",
       "544                                                  0   \n",
       "120  <title=\"Message to Congress Requesting War Dec...   \n",
       "202  <title=\"Message Regarding “Black Thursday”\">\\n...   \n",
       "307  <title=\"Statement on Sending Troops to the Dom...   \n",
       "355  <title=\"Remarks Announcing an Agreement on Str...   \n",
       "..                                                 ...   \n",
       "214  <title=\"First State of the Union Address\">\\n<d...   \n",
       "8    <title=\"Press Conference with Mikhail Gorbache...   \n",
       "509                                                  0   \n",
       "510                                                  0   \n",
       "325  <title=\"State of the Union Address\">\\n<date=\"J...   \n",
       "\n",
       "                                                 title               date  \\\n",
       "544                                                  0                  0   \n",
       "120  Message to Congress Requesting War Declaration...  December 11, 1941   \n",
       "202                 Message Regarding “Black Thursday”   October 25, 1929   \n",
       "307  Statement on Sending Troops to the Dominican R...     April 28, 1965   \n",
       "355  Remarks Announcing an Agreement on Strategic A...       May 20, 1971   \n",
       "..                                                 ...                ...   \n",
       "214                   First State of the Union Address   December 3, 1929   \n",
       "8              Press Conference with Mikhail Gorbachev      July 31, 1991   \n",
       "509                                                  0                  0   \n",
       "510                                                  0                  0   \n",
       "325                         State of the Union Address   January 10, 1967   \n",
       "\n",
       "                                                  text  interview  debate  \\\n",
       "544                                                         False    True   \n",
       "120  <title=\"Message to Congress Requesting War Dec...      False   False   \n",
       "202  \\n<IN REPLY to press questions as to the busin...      False   False   \n",
       "307  \\nI have just concluded a meeting with the lea...      False   False   \n",
       "355  \\nGood afternoon, ladies and gentlemen:\\nAs yo...      False   False   \n",
       "..                                                 ...        ...     ...   \n",
       "214  \\nTo the Senate and House of Representatives:\\...      False   False   \n",
       "8    \\n\\n<President Gorbachev. Good evening, ladies...      False   False   \n",
       "509   well, thank you, jim. and thanks to everybody...      False    True   \n",
       "510   well, thank you very much, jim, and thanks to...      False    True   \n",
       "325  \\nMr. Speaker, Mr. Vice President, distinguish...      False   False   \n",
       "\n",
       "     inaugural address  state of the union  press conference  text length  \n",
       "544              False               False             False            2  \n",
       "120              False               False             False          144  \n",
       "202              False               False             False          204  \n",
       "307              False               False             False          241  \n",
       "355              False               False             False          264  \n",
       "..                 ...                 ...               ...          ...  \n",
       "214              False                True             False        10830  \n",
       "8                False               False              True        11902  \n",
       "509              False               False             False        12353  \n",
       "510              False               False             False        13229  \n",
       "325              False                True             False        14176  \n",
       "\n",
       "[549 rows x 15 columns]"
      ]
     },
     "execution_count": 26,
     "metadata": {},
     "output_type": "execute_result"
    }
   ],
   "source": [
    "df.sort_values(by='text length', ascending=True)"
   ]
  },
  {
   "cell_type": "markdown",
   "metadata": {},
   "source": [
    "The shortest text was FDR's declaration of war on Germany and Italy."
   ]
  },
  {
   "cell_type": "code",
   "execution_count": 27,
   "metadata": {
    "scrolled": false
   },
   "outputs": [
    {
     "data": {
      "text/plain": [
       "'<title=\"Message to Congress Requesting War Declarations with Germany and Italy\">\\n<date=\"December 11, 1941\">\\nTo the Congress:\\nOn the morning of December eleventh, the Government of Germany, pursuing its course of world conquest, declared war against the United States.\\nThe long known and the long expected has thus taken place. The forces endeavoring to enslave the entire world now are moving toward this hemisphere.\\nNever before has there been a greater challenge to life, liberty, and civilization.\\nDelay invites greater danger. Rapid and united effort by all of the peoples of the world who are determined to remain free will insure a world victory of the forces of justice and of righteousness over the forces of savagery and of barbarism.\\nItaly also has declared war against the United States.\\nI therefore request the Congress to recognize a state of war between the United States and Germany, and between the United States and Italy.\\n'"
      ]
     },
     "execution_count": 27,
     "metadata": {},
     "output_type": "execute_result"
    }
   ],
   "source": [
    "df.iloc[120].text"
   ]
  },
  {
   "cell_type": "code",
   "execution_count": 28,
   "metadata": {},
   "outputs": [
    {
     "name": "stdout",
     "output_type": "stream",
     "text": [
      "The vocabulary of the corpus is 57629 unique words & 1928737 total words.\n"
     ]
    }
   ],
   "source": [
    "vocab = set()\n",
    "total = []\n",
    "df['text'].str.lower().str.split().apply(vocab.update)\n",
    "df['text'].str.lower().str.split().apply(total.append)\n",
    "total = [item for sublist in total for item in sublist]\n",
    "print(f'The vocabulary of the corpus is {len(vocab)} unique words & {len(total)} total words.')"
   ]
  },
  {
   "cell_type": "markdown",
   "metadata": {},
   "source": [
    "The distribution of the word counts by party is roughly the same."
   ]
  },
  {
   "cell_type": "code",
   "execution_count": 29,
   "metadata": {
    "scrolled": false
   },
   "outputs": [
    {
     "data": {
      "text/plain": [
       "Text(0.5, 1.0, 'Word Count by Party')"
      ]
     },
     "execution_count": 29,
     "metadata": {},
     "output_type": "execute_result"
    },
    {
     "data": {
      "image/png": "[encoded data removed]",
      "text/plain": [
       "<Figure size 432x288 with 1 Axes>"
      ]
     },
     "metadata": {},
     "output_type": "display_data"
    }
   ],
   "source": [
    "fig, ax = plt.subplots()\n",
    "df[df['party'] == 'democrat']['text length'].plot(kind = 'hist', bins = 20, density = 'true', alpha = .5, label = 'democrat')\n",
    "df[df['party'] == 'republican']['text length'].plot(kind = 'hist', bins = 20, density = 'true', alpha = .5, label = 'republican')\n",
    "ax.legend()\n",
    "ax.set_title('Word Count by Party')"
   ]
  },
  {
   "cell_type": "markdown",
   "metadata": {},
   "source": [
    "# Testing"
   ]
  },
  {
   "cell_type": "markdown",
   "metadata": {},
   "source": [
    "This section includes:\n",
    "1. The initial Multinomial Bayes Model and the hyperparameters optimizaitons.\n",
    "1. The Multinomial Naive Bayes Model used to predict whether a text is from a Democrat or a Republican\n",
    "1. The top tri-grams unique to each party (by log probability)\n",
    "1. The optimized Random Forest Classifier that ultimately was not used"
   ]
  },
  {
   "cell_type": "code",
   "execution_count": 34,
   "metadata": {},
   "outputs": [],
   "source": [
    "## returns the top features for dems republications (by log probability), as well as the features that are unique to \n",
    "#each party in the top num_features\n",
    "def get_top_features(feature_logs, labels, num_features):\n",
    "    zero_all = np.array(labels)[np.argsort(feature_logs[0])[-1*num_features:]]\n",
    "    one_all = np.array(labels)[np.argsort(feature_logs[1])[-1*num_features:]]\n",
    "    zero_unique = [x for x in zero_all if x not in one_all]\n",
    "    one_unique = [x for x in one_all if x not in zero_all]\n",
    "    return zero_all, one_all, zero_unique, one_unique\n"
   ]
  },
  {
   "cell_type": "markdown",
   "metadata": {},
   "source": [
    "### Initial Model:"
   ]
  },
  {
   "cell_type": "code",
   "execution_count": 110,
   "metadata": {},
   "outputs": [
    {
     "name": "stdout",
     "output_type": "stream",
     "text": [
      "True Dems: 79, False Republicans: 2, False Dems: 43, True Republicans: 14\n",
      "Recall for Democrats: 0.9753086419753086\n",
      "Recall for Republicans: 0.24561403508771928\n",
      "Cross-validation score: 0.6594475462826918\n",
      " \n",
      "Dem unique: ['vietnam', 'back', 'take', 'south', 'still', 'power', 'much', 'even', 'go', 'hope', 'children']\n",
      "Rep unique: ['state', 'together', 'system', 'nuclear', 'thank', 'union', 'senator', 'economic', 'iraq', 'federal', 'soviet']\n"
     ]
    }
   ],
   "source": [
    "## Initial model has 25% recall for republicans and a cross validation score of .66\n",
    "## Multinomial Naive Bayes Model\n",
    "def run_model_initial(X, y, max_feat = 200, stop_words = stopwords.words('english')):\n",
    "    tfidf = TfidfVectorizer(stop_words = sw, ngram_range = (1,3), max_features = max_feat)\n",
    "    X = tfidf.fit_transform(X)\n",
    "    labels = tfidf.get_feature_names()\n",
    "    X_train, X_test, y_train, y_test = train_test_split(X, y, stratify = y, random_state = 5)\n",
    "# %\n",
    "    clf = MultinomialNB()\n",
    "    clf = clf.fit(X_train, y_train)\n",
    "    cvs = np.mean(cross_val_score(clf, X_train, y_train))\n",
    "    return clf, cvs, X_test, y_test, labels, X, tfidf\n",
    "    \n",
    "clf, cvs, X_test, y_test, labels, X, tfidf = run_model_initial(df.text, df.party, stop_words = sw)\n",
    "\n",
    "td, fr, fd, tr = confusion_matrix(y_test, clf.predict(X_test)).ravel()\n",
    "print(f'True Dems: {td}, False Republicans: {fr}, False Dems: {fd}, True Republicans: {tr}')\n",
    "print(f'Recall for Democrats: {td/(td + fr)}')\n",
    "print(f'Recall for Republicans: {tr/(fd + tr)}')\n",
    "print(f'Cross-validation score: {cvs}')\n",
    "\n",
    "zero, one, zero_unique, one_unique = get_top_features(clf.feature_log_prob_, labels, 50)\n",
    "\n",
    "print(\" \")\n",
    "print(f'Dem unique: {zero_unique}')\n",
    "print(f'Rep unique: {one_unique}')"
   ]
  },
  {
   "cell_type": "code",
   "execution_count": 111,
   "metadata": {},
   "outputs": [
    {
     "name": "stdout",
     "output_type": "stream",
     "text": [
      "No Skill: ROC AUC=0.500\n",
      "Logistic: ROC AUC=0.784\n"
     ]
    },
    {
     "data": {
      "image/png": "[encoded data removed]",
      "text/plain": [
       "<Figure size 432x288 with 1 Axes>"
      ]
     },
     "metadata": {},
     "output_type": "display_data"
    }
   ],
   "source": [
    "clf, cvs, X_test, y_test, _, _, _ = run_model_initial(df.text, df.party, max_feat = 200, stop_words = stopwords.words('english'))\n",
    "from sklearn.metrics import roc_curve\n",
    "from sklearn.metrics import roc_auc_score\n",
    "\n",
    "\n",
    "# generate a no skill prediction (majority class)\n",
    "y_test_coded = []\n",
    "for i in y_test:\n",
    "    if i == 'democrat':\n",
    "        y_test_coded.append(1)\n",
    "    else:\n",
    "        y_test_coded.append(0)\n",
    "    \n",
    "    \n",
    "ns_probs = [0 for _ in range(len(y_test))]\n",
    "mnb_probs = clf.predict_proba(X_test)\n",
    "# keep probabilities for being a republican only (column 1), democrat (column 0)\n",
    "mnb_probs = mnb_probs[:, 0]\n",
    "# calculate scores\n",
    "ns_auc = roc_auc_score(y_test_coded, ns_probs)\n",
    "mnb_auc = roc_auc_score(y_test_coded, mnb_probs)\n",
    "# summarize scores\n",
    "print('No Skill: ROC AUC=%.3f' % (ns_auc))\n",
    "print('Logistic: ROC AUC=%.3f' % (mnb_auc))\n",
    "# calculate roc curves\n",
    "ns_fpr, ns_tpr, _ = roc_curve(y_test_coded, ns_probs)\n",
    "mnb_fpr, mnb_tpr, _ = roc_curve(y_test_coded, mnb_probs)\n",
    "# plot the roc curve for the model\n",
    "plt.plot(ns_fpr, ns_tpr, linestyle='--', label='No Skill')\n",
    "plt.plot(mnb_fpr, mnb_tpr, marker='.', label='Multinomial Bayes')\n",
    "# axis labels\n",
    "plt.xlabel('False Positive Rate')\n",
    "plt.ylabel('True Positive Rate')\n",
    "# show the legend\n",
    "plt.legend()\n",
    "# show the plot\n",
    "plt.show()"
   ]
  },
  {
   "cell_type": "markdown",
   "metadata": {},
   "source": [
    "Credit for the ROC code goes to https://machinelearningmastery.com/roc-curves-and-precision-recall-curves-for-classification-in-python/"
   ]
  },
  {
   "cell_type": "markdown",
   "metadata": {},
   "source": [
    "### Exploring Recall & Accuracy as a function of the number of features\n",
    "I looked at the tradeoff between accuracy and recall for each party, ultimately deciding to work within a range of 1000 to 1500 features"
   ]
  },
  {
   "cell_type": "code",
   "execution_count": 37,
   "metadata": {},
   "outputs": [],
   "source": [
    "feat = np.arange(500, 10000, 250)\n",
    "acc = []\n",
    "recall_dems = []\n",
    "recall_rep = []\n",
    "for i in feat:\n",
    "    clf, cvs, X_test, y_test, _, _, _ = run_model_initial(df.text, df.party, max_feat = i, stop_words = sw)\n",
    "    td, fr, fd, tr = confusion_matrix(y_test, clf.predict(X_test)).ravel()\n",
    "    recall_d = td/(td + fr)\n",
    "    recall_r = tr/(fd + tr)\n",
    "    acc.append(cvs)\n",
    "    recall_dems.append(recall_d)\n",
    "    recall_rep.append(recall_r)\n"
   ]
  },
  {
   "cell_type": "code",
   "execution_count": 38,
   "metadata": {
    "scrolled": true
   },
   "outputs": [
    {
     "data": {
      "image/png": "[encoded data removed]",
      "text/plain": [
       "<Figure size 432x288 with 3 Axes>"
      ]
     },
     "metadata": {},
     "output_type": "display_data"
    }
   ],
   "source": [
    "fig, ax = plt.subplots(3,1)\n",
    "\n",
    "ax[0].plot(feat, acc)\n",
    "ax[0].set_xlabel('Features')\n",
    "ax[0].set_ylabel('Accuracy')\n",
    "ax[1].plot(feat, recall_dems)\n",
    "ax[1].set_xlabel('Features')\n",
    "ax[1].set_ylabel('Recall (Dem)')\n",
    "#ax[0].scatter([feat[np.argsort(acc)[-5:]]], acc[np.argsort(acc)[-5:]])\n",
    "#ax[0].title('Features vs Accuracy')\n",
    "ax[2].plot(feat, recall_rep)\n",
    "ax[2].set_xlabel('Features')\n",
    "ax[2].set_ylabel('Recall (Rep)')\n",
    "plt.tight_layout(pad=0.4, w_pad=0.5, h_pad=1.0)"
   ]
  },
  {
   "cell_type": "markdown",
   "metadata": {},
   "source": [
    "As the features grew, the model began to classify more people as Democrats."
   ]
  },
  {
   "cell_type": "markdown",
   "metadata": {},
   "source": [
    "### ROC Curve with 1500 features & updated stopwords"
   ]
  },
  {
   "cell_type": "code",
   "execution_count": 33,
   "metadata": {},
   "outputs": [],
   "source": [
    "sw = stopwords.words('english')\n",
    "\n",
    "new_sw = ['also', '000', 'see', 'come', 'day','say', 'us', 'well', 'le', \"'m\", 'made', 'applause', 'mr', 'men', 'candidate', 'instead', 'q', 'part', \"'re\", \"'le\", 'get', 'man', \"'ve\", 'let', 'every', 'may', 'upon', 'shall', 'going','ve','year', '--', '``', \"'s\", \"''\", 'way', 'cannot', 'two', 'long', 'said', 'like', 'years', 'think','would',\"n't\", 'must','u','many','one','first','last',\"'re'\", 'today','', 'ha', 'wa']\n",
    "for i in new_sw:\n",
    "    sw.append(i)\n",
    "\n"
   ]
  },
  {
   "cell_type": "code",
   "execution_count": 39,
   "metadata": {},
   "outputs": [],
   "source": [
    "clf, cvs, X_test, y_test, _, _, _ = run_model_initial(df.text, df.party, max_feat = 1500, stop_words = sw)"
   ]
  },
  {
   "cell_type": "code",
   "execution_count": 40,
   "metadata": {},
   "outputs": [
    {
     "name": "stdout",
     "output_type": "stream",
     "text": [
      "True Dems: 76, False Republicans: 5, False Dems: 33, True Republicans: 24\n",
      "Recall for Democrats: 0.9382716049382716\n",
      "Recall for Republicans: 0.42105263157894735\n"
     ]
    }
   ],
   "source": [
    "td, fr, fd, tr = confusion_matrix(y_test, clf.predict(X_test)).ravel()\n",
    "print(f'True Dems: {td}, False Republicans: {fr}, False Dems: {fd}, True Republicans: {tr}')\n",
    "print(f'Recall for Democrats: {td/(td + fr)}')\n",
    "print(f'Recall for Republicans: {tr/(fd + tr)}')"
   ]
  },
  {
   "cell_type": "code",
   "execution_count": 41,
   "metadata": {},
   "outputs": [
    {
     "name": "stdout",
     "output_type": "stream",
     "text": [
      "No Skill: ROC AUC=0.500\n",
      "Logistic: ROC AUC=0.870\n"
     ]
    },
    {
     "data": {
      "image/png": "[encoded data removed]",
      "text/plain": [
       "<Figure size 432x288 with 1 Axes>"
      ]
     },
     "metadata": {},
     "output_type": "display_data"
    }
   ],
   "source": [
    "# generate a no skill prediction (majority class)\n",
    "y_test_coded = []\n",
    "for i in y_test:\n",
    "    if i == 'democrat':\n",
    "        y_test_coded.append(1)\n",
    "    else:\n",
    "        y_test_coded.append(0)\n",
    "    \n",
    "    \n",
    "ns_probs = [0 for _ in range(len(y_test))]\n",
    "mnb_probs = clf.predict_proba(X_test)\n",
    "# keep probabilities for being a republican only (column 1), democrat (column 0)\n",
    "mnb_probs = mnb_probs[:, 0]\n",
    "# calculate scores\n",
    "ns_auc = roc_auc_score(y_test_coded, ns_probs)\n",
    "mnb_auc = roc_auc_score(y_test_coded, mnb_probs)\n",
    "# summarize scores\n",
    "print('No Skill: ROC AUC=%.3f' % (ns_auc))\n",
    "print('Logistic: ROC AUC=%.3f' % (mnb_auc))\n",
    "# calculate roc curves\n",
    "ns_fpr, ns_tpr, _ = roc_curve(y_test_coded, ns_probs)\n",
    "mnb_fpr, mnb_tpr, _ = roc_curve(y_test_coded, mnb_probs)\n",
    "# plot the roc curve for the model\n",
    "plt.plot(ns_fpr, ns_tpr, linestyle='--', label='No Skill')\n",
    "plt.plot(mnb_fpr, mnb_tpr, marker='.', label='Multinomial Bayes')\n",
    "# axis labels\n",
    "plt.xlabel('False Positive Rate')\n",
    "plt.ylabel('True Positive Rate')\n",
    "# show the legend\n",
    "plt.legend()\n",
    "# show the plot\n",
    "plt.show()"
   ]
  },
  {
   "cell_type": "markdown",
   "metadata": {},
   "source": [
    "### Picking a threshold\n",
    "The area under the curve (AUC) score increased to .870 so next next I graphed accuracy as a function of different thresholds to pick a threshold for this model.\n",
    "\n",
    "Note: In my January 2021 update, I do a grid search to scored based on AUC to find hyperparameters, which would have been a more comprehensive approach than looking at the graphs of features vs accuracy and recall.  I chose to optimize for AUC because I wanted to both maximize TPR and minimize FPR in order to raise the recall for Republicans.  This code is later in the notebook."
   ]
  },
  {
   "cell_type": "code",
   "execution_count": 42,
   "metadata": {},
   "outputs": [],
   "source": [
    "y_test_array = y_test.to_numpy()"
   ]
  },
  {
   "cell_type": "code",
   "execution_count": 43,
   "metadata": {
    "scrolled": true
   },
   "outputs": [
    {
     "data": {
      "text/plain": [
       "Text(0, 0.5, 'Accuracy')"
      ]
     },
     "execution_count": 43,
     "metadata": {},
     "output_type": "execute_result"
    },
    {
     "data": {
      "image/png": "[encoded data removed]",
      "text/plain": [
       "<Figure size 432x288 with 1 Axes>"
      ]
     },
     "metadata": {},
     "output_type": "display_data"
    }
   ],
   "source": [
    "from statistics import mean\n",
    "dem_prob = clf.predict_proba(X_test)[:,0]\n",
    "thresh = np.arange(0,1, .02)\n",
    "y_test\n",
    "thresh_acc =[]\n",
    "\n",
    "for t in thresh:\n",
    "    correct = []\n",
    "    for i,v in enumerate(dem_prob):\n",
    "        if v >= t and y_test_array[i] =='democrat':\n",
    "            correct.append(1)\n",
    "        elif v<t and y_test_array[i] == 'republican':\n",
    "            correct.append(1)\n",
    "        else:\n",
    "            correct.append(0)\n",
    "    thresh_acc.append(mean(correct))\n",
    "\n",
    "fig, ax = plt.subplots()\n",
    "ax.plot(thresh, thresh_acc)\n",
    "ax.set_xlabel('Probability Threshold for Classifying as Democrat')\n",
    "ax.set_ylabel('Accuracy')\n",
    "    "
   ]
  },
  {
   "cell_type": "markdown",
   "metadata": {},
   "source": [
    "It appears that the optimal threshold is between .56 and .64; however, once I changed from 1-3grams to just trigrams in my model, I found that the best threshold was .54."
   ]
  },
  {
   "cell_type": "markdown",
   "metadata": {},
   "source": [
    "## The main model\n",
    "This is my main model with 1500 features, trigrams only, special stopwords, and a .54 threshold for classification as Democrat."
   ]
  },
  {
   "cell_type": "code",
   "execution_count": 132,
   "metadata": {},
   "outputs": [],
   "source": [
    "## Multinomial Naive Bayes Model\n",
    "def run_model(X, y, max_feat = 1500, stop_words = sw):\n",
    "    tfidf = TfidfVectorizer(stop_words = sw, ngram_range = (3,3), max_features = max_feat)\n",
    "    X = tfidf.fit_transform(X)\n",
    "    labels = tfidf.get_feature_names()\n",
    "    X_train, X_test, y_train, y_test = train_test_split(X, y, stratify = y, random_state = 5)\n",
    "# %\n",
    "    clf = MultinomialNB()\n",
    "    clf = clf.fit(X_train, y_train)\n",
    "    cvs = np.mean(cross_val_score(clf, X_train, y_train))\n",
    "    return clf, cvs, X_test, y_test, labels, X, tfidf\n",
    "    \n",
    "clf, cvs, X_test, y_test, labels, X, tfidf = run_model(df.text, df.party, stop_words = sw)"
   ]
  },
  {
   "cell_type": "markdown",
   "metadata": {},
   "source": [
    "The confusion matrix is broken down below:"
   ]
  },
  {
   "cell_type": "code",
   "execution_count": 128,
   "metadata": {},
   "outputs": [
    {
     "name": "stdout",
     "output_type": "stream",
     "text": [
      "True Dems: 75, False Republicans: 6, False Dems: 16, True Republicans: 41\n",
      "Recall for Democrats: 0.9259259259259259\n",
      "Recall for Republicans: 0.7192982456140351\n",
      "Cross-validation score (using .5 threshold): 0.7931824860417278\n"
     ]
    }
   ],
   "source": [
    "td, fr, fd, tr = confusion_matrix(y_test, clf.predict(X_test)).ravel()\n",
    "print(f'True Dems: {td}, False Republicans: {fr}, False Dems: {fd}, True Republicans: {tr}')\n",
    "print(f'Recall for Democrats: {td/(td + fr)}')\n",
    "print(f'Recall for Republicans: {tr/(fd + tr)}')\n",
    "print(f'Cross-validation score (using .5 threshold): {cvs}')"
   ]
  },
  {
   "cell_type": "markdown",
   "metadata": {},
   "source": [
    "### Evaluates accuracy using the chosen .54 threshold rather than the .5 threshold."
   ]
  },
  {
   "cell_type": "code",
   "execution_count": 129,
   "metadata": {
    "scrolled": true
   },
   "outputs": [
    {
     "name": "stdout",
     "output_type": "stream",
     "text": [
      "(138,)\n",
      "Accuracy using threshold = 0.54: 0.8695652173913043\n"
     ]
    }
   ],
   "source": [
    "dem_prob = clf.predict_proba(X_test)[:,0]\n",
    "correct = []\n",
    "idx = list(y_test.index)\n",
    "t = .54\n",
    "print(y_test.shape)\n",
    "\n",
    "y_test_array = y_test.to_numpy()\n",
    "for i,v in enumerate(dem_prob):\n",
    "    if v >= t and y_test_array[i] =='democrat':\n",
    "        correct.append(1)\n",
    "        df.loc[idx[i], 'accurate'] = True\n",
    "    elif v<t and y_test_array[i] == 'republican':\n",
    "        correct.append(1)\n",
    "        df.loc[idx[i], 'accurate'] = True\n",
    "    else:\n",
    "        correct.append(0)\n",
    "        df.loc[idx[i], 'accurate'] = False\n",
    "print(f'Accuracy using threshold = {t}: {mean(correct)}')"
   ]
  },
  {
   "cell_type": "markdown",
   "metadata": {},
   "source": [
    "### The Final ROC Curve"
   ]
  },
  {
   "cell_type": "code",
   "execution_count": 130,
   "metadata": {},
   "outputs": [
    {
     "name": "stdout",
     "output_type": "stream",
     "text": [
      "No Skill: ROC AUC=0.500\n",
      "Logistic: ROC AUC=0.907\n"
     ]
    },
    {
     "data": {
      "image/png": "[encoded data removed]",
      "text/plain": [
       "<Figure size 432x288 with 1 Axes>"
      ]
     },
     "metadata": {},
     "output_type": "display_data"
    }
   ],
   "source": [
    "## Final ROC curve\n",
    "# generate a no skill prediction (majority class)\n",
    "y_test_coded = []\n",
    "for i in y_test:\n",
    "    if i == 'democrat':\n",
    "        y_test_coded.append(1)\n",
    "    else:\n",
    "        y_test_coded.append(0)\n",
    "    \n",
    "    \n",
    "ns_probs = [0 for _ in range(len(y_test))]\n",
    "mnb_probs = clf.predict_proba(X_test)\n",
    "# keep probabilities for being a republican only (column 1), democrat (column 0)\n",
    "mnb_probs = mnb_probs[:, 0]\n",
    "# calculate scores\n",
    "ns_auc = roc_auc_score(y_test_coded, ns_probs)\n",
    "mnb_auc = roc_auc_score(y_test_coded, mnb_probs)\n",
    "# summarize scores\n",
    "print('No Skill: ROC AUC=%.3f' % (ns_auc))\n",
    "print('Logistic: ROC AUC=%.3f' % (mnb_auc))\n",
    "# calculate roc curves\n",
    "ns_fpr, ns_tpr, _ = roc_curve(y_test_coded, ns_probs)\n",
    "mnb_fpr, mnb_tpr, _ = roc_curve(y_test_coded, mnb_probs)\n",
    "# plot the roc curve for the model\n",
    "plt.plot(ns_fpr, ns_tpr, linestyle='--', label='No Skill')\n",
    "plt.plot(mnb_fpr, mnb_tpr, marker='.', label='Multinomial Bayes')\n",
    "# axis labels\n",
    "plt.xlabel('False Positive Rate')\n",
    "plt.ylabel('True Positive Rate')\n",
    "# show the legend\n",
    "plt.legend()\n",
    "# show the plot\n",
    "plt.show()"
   ]
  },
  {
   "cell_type": "markdown",
   "metadata": {},
   "source": [
    "## January 2021 Update: Using Pipelining and Gridsearch to Choose Hyperparameters by Using AUC as scoring method"
   ]
  },
  {
   "cell_type": "code",
   "execution_count": null,
   "metadata": {},
   "outputs": [],
   "source": [
    "## Naive Bayes Model\n",
    "def run_model(X, y, max_feat = 1500, stop_words = sw):\n",
    "    tfidf = TfidfVectorizer(stop_words = sw, ngram_range = (3,3), max_features = max_feat)\n",
    "    X = tfidf.fit_transform(X)\n",
    "    labels = tfidf.get_feature_names()\n",
    "    X_train, X_test, y_train, y_test = train_test_split(X, y, stratify = y, random_state = 5)\n",
    "# %\n",
    "    clf = MultinomialNB()\n",
    "    clf = clf.fit(X_train, y_train)\n",
    "    cvs = np.mean(cross_val_score(clf, X_train, y_train))\n",
    "    return clf, cvs, X_test, y_test, labels, X, tfidf\n",
    "clf, cvs, X_test, y_test, labels, X, tfidf = run_model(df.text, df.party, stop_words = sw)\n",
    "\n"
   ]
  },
  {
   "cell_type": "markdown",
   "metadata": {},
   "source": [
    "##### The code below is heavily adapted from [Towards Data Science](https://towardsdatascience.com/nlp-with-pipeline-gridsearch-5922266e82f4)"
   ]
  },
  {
   "cell_type": "code",
   "execution_count": 103,
   "metadata": {},
   "outputs": [],
   "source": [
    "# Pipeline & Gridsearch setup\n",
    "from sklearn.pipeline import Pipeline\n",
    "X_train, X_test, y_train, y_test = train_test_split(df.text, df.party, stratify = df.party, random_state = 5)\n",
    "# TFIDF pipeline setup\n",
    "tvc_pipe = Pipeline([\n",
    " ('tvec', TfidfVectorizer()),\n",
    " ('mb', MultinomialNB())\n",
    "])"
   ]
  },
  {
   "cell_type": "code",
   "execution_count": 82,
   "metadata": {},
   "outputs": [
    {
     "data": {
      "text/plain": [
       "Pipeline(steps=[('tvec', TfidfVectorizer()), ('mb', MultinomialNB())])"
      ]
     },
     "execution_count": 82,
     "metadata": {},
     "output_type": "execute_result"
    }
   ],
   "source": [
    "tvc_pipe.fit(X_train, y_train)"
   ]
  },
  {
   "cell_type": "code",
   "execution_count": 116,
   "metadata": {},
   "outputs": [],
   "source": [
    "tf_params = {\n",
    "    'tvec__max_features':[800, 1000, 1200, 1500, 1600, 1800, 2000, 2200],\n",
    "    'tvec__ngram_range': [(3, 3), (3, 4)],\n",
    "    'tvec__stop_words': [sw],\n",
    "    }\n",
    "tf_params_2 = {\n",
    "    'tvec__max_features':[2100, 2200, 2400, 2600, 3000, 4000],\n",
    "    'tvec__ngram_range': [(3, 3), (3, 4)],\n",
    "    'tvec__stop_words': [sw],\n",
    "    }"
   ]
  },
  {
   "cell_type": "code",
   "execution_count": 117,
   "metadata": {},
   "outputs": [],
   "source": [
    "from sklearn.model_selection import GridSearchCV\n",
    "from sklearn.model_selection import KFold\n",
    "kf = KFold(shuffle = True)\n",
    "# Setting up GridSearch for TFIDFVectorizer\n",
    "tvc_gs = GridSearchCV(tvc_pipe, param_grid=tf_params, scoring = 'roc_auc', cv = kf, verbose =1, n_jobs = None)\n",
    "# Fitting TVC GS"
   ]
  },
  {
   "cell_type": "code",
   "execution_count": 94,
   "metadata": {},
   "outputs": [
    {
     "data": {
      "text/plain": [
       "pandas.core.series.Series"
      ]
     },
     "execution_count": 94,
     "metadata": {},
     "output_type": "execute_result"
    }
   ],
   "source": [
    "type(y_train)"
   ]
  },
  {
   "cell_type": "code",
   "execution_count": 118,
   "metadata": {},
   "outputs": [
    {
     "name": "stdout",
     "output_type": "stream",
     "text": [
      "Fitting 5 folds for each of 16 candidates, totalling 80 fits\n"
     ]
    },
    {
     "name": "stderr",
     "output_type": "stream",
     "text": [
      "[Parallel(n_jobs=1)]: Using backend SequentialBackend with 1 concurrent workers.\n",
      "[Parallel(n_jobs=1)]: Done  80 out of  80 | elapsed:  2.6min finished\n"
     ]
    },
    {
     "data": {
      "text/plain": [
       "GridSearchCV(cv=KFold(n_splits=5, random_state=None, shuffle=True),\n",
       "             estimator=Pipeline(steps=[('tvec', TfidfVectorizer()),\n",
       "                                       ('mb', MultinomialNB())]),\n",
       "             param_grid={'tvec__max_features': [800, 1000, 1200, 1500, 1600,\n",
       "                                                1800, 2000, 2200],\n",
       "                         'tvec__ngram_range': [(3, 3), (3, 4)],\n",
       "                         'tvec__stop_words': [['i', 'me', 'my', 'myself', 'we',\n",
       "                                               'our', 'ours', 'ourselves',\n",
       "                                               'you', \"you're\", \"you've\",\n",
       "                                               \"you'll\", \"you'd\", 'your',\n",
       "                                               'yours', 'yourself',\n",
       "                                               'yourselves', 'he', 'him', 'his',\n",
       "                                               'himself', 'she', \"she's\", 'her',\n",
       "                                               'hers', 'herself', 'it', \"it's\",\n",
       "                                               'its', 'itself', ...]]},\n",
       "             scoring='roc_auc', verbose=1)"
      ]
     },
     "execution_count": 118,
     "metadata": {},
     "output_type": "execute_result"
    }
   ],
   "source": [
    "tvc_gs.fit(np.array(X_train), np.array(y_train))"
   ]
  },
  {
   "cell_type": "code",
   "execution_count": 99,
   "metadata": {},
   "outputs": [
    {
     "name": "stdout",
     "output_type": "stream",
     "text": [
      "0.9986087381010496\n",
      "0.8943036603855318\n"
     ]
    }
   ],
   "source": [
    "# Scoring Training data on TFIDFVectorizer\n",
    "print(tvc_gs.score(X_train, y_train))\n",
    "# Scoring Test data on TFIDFVectorizer\n",
    "print(tvc_gs.score(X_test, y_test))"
   ]
  },
  {
   "cell_type": "code",
   "execution_count": 101,
   "metadata": {},
   "outputs": [
    {
     "data": {
      "text/plain": [
       "{'tvec__max_features': 2200,\n",
       " 'tvec__ngram_range': (3, 3),\n",
       " 'tvec__stop_words': ['i',\n",
       "  'me',\n",
       "  'my',\n",
       "  'myself',\n",
       "  'we',\n",
       "  'our',\n",
       "  'ours',\n",
       "  'ourselves',\n",
       "  'you',\n",
       "  \"you're\",\n",
       "  \"you've\",\n",
       "  \"you'll\",\n",
       "  \"you'd\",\n",
       "  'your',\n",
       "  'yours',\n",
       "  'yourself',\n",
       "  'yourselves',\n",
       "  'he',\n",
       "  'him',\n",
       "  'his',\n",
       "  'himself',\n",
       "  'she',\n",
       "  \"she's\",\n",
       "  'her',\n",
       "  'hers',\n",
       "  'herself',\n",
       "  'it',\n",
       "  \"it's\",\n",
       "  'its',\n",
       "  'itself',\n",
       "  'they',\n",
       "  'them',\n",
       "  'their',\n",
       "  'theirs',\n",
       "  'themselves',\n",
       "  'what',\n",
       "  'which',\n",
       "  'who',\n",
       "  'whom',\n",
       "  'this',\n",
       "  'that',\n",
       "  \"that'll\",\n",
       "  'these',\n",
       "  'those',\n",
       "  'am',\n",
       "  'is',\n",
       "  'are',\n",
       "  'was',\n",
       "  'were',\n",
       "  'be',\n",
       "  'been',\n",
       "  'being',\n",
       "  'have',\n",
       "  'has',\n",
       "  'had',\n",
       "  'having',\n",
       "  'do',\n",
       "  'does',\n",
       "  'did',\n",
       "  'doing',\n",
       "  'a',\n",
       "  'an',\n",
       "  'the',\n",
       "  'and',\n",
       "  'but',\n",
       "  'if',\n",
       "  'or',\n",
       "  'because',\n",
       "  'as',\n",
       "  'until',\n",
       "  'while',\n",
       "  'of',\n",
       "  'at',\n",
       "  'by',\n",
       "  'for',\n",
       "  'with',\n",
       "  'about',\n",
       "  'against',\n",
       "  'between',\n",
       "  'into',\n",
       "  'through',\n",
       "  'during',\n",
       "  'before',\n",
       "  'after',\n",
       "  'above',\n",
       "  'below',\n",
       "  'to',\n",
       "  'from',\n",
       "  'up',\n",
       "  'down',\n",
       "  'in',\n",
       "  'out',\n",
       "  'on',\n",
       "  'off',\n",
       "  'over',\n",
       "  'under',\n",
       "  'again',\n",
       "  'further',\n",
       "  'then',\n",
       "  'once',\n",
       "  'here',\n",
       "  'there',\n",
       "  'when',\n",
       "  'where',\n",
       "  'why',\n",
       "  'how',\n",
       "  'all',\n",
       "  'any',\n",
       "  'both',\n",
       "  'each',\n",
       "  'few',\n",
       "  'more',\n",
       "  'most',\n",
       "  'other',\n",
       "  'some',\n",
       "  'such',\n",
       "  'no',\n",
       "  'nor',\n",
       "  'not',\n",
       "  'only',\n",
       "  'own',\n",
       "  'same',\n",
       "  'so',\n",
       "  'than',\n",
       "  'too',\n",
       "  'very',\n",
       "  's',\n",
       "  't',\n",
       "  'can',\n",
       "  'will',\n",
       "  'just',\n",
       "  'don',\n",
       "  \"don't\",\n",
       "  'should',\n",
       "  \"should've\",\n",
       "  'now',\n",
       "  'd',\n",
       "  'll',\n",
       "  'm',\n",
       "  'o',\n",
       "  're',\n",
       "  've',\n",
       "  'y',\n",
       "  'ain',\n",
       "  'aren',\n",
       "  \"aren't\",\n",
       "  'couldn',\n",
       "  \"couldn't\",\n",
       "  'didn',\n",
       "  \"didn't\",\n",
       "  'doesn',\n",
       "  \"doesn't\",\n",
       "  'hadn',\n",
       "  \"hadn't\",\n",
       "  'hasn',\n",
       "  \"hasn't\",\n",
       "  'haven',\n",
       "  \"haven't\",\n",
       "  'isn',\n",
       "  \"isn't\",\n",
       "  'ma',\n",
       "  'mightn',\n",
       "  \"mightn't\",\n",
       "  'mustn',\n",
       "  \"mustn't\",\n",
       "  'needn',\n",
       "  \"needn't\",\n",
       "  'shan',\n",
       "  \"shan't\",\n",
       "  'shouldn',\n",
       "  \"shouldn't\",\n",
       "  'wasn',\n",
       "  \"wasn't\",\n",
       "  'weren',\n",
       "  \"weren't\",\n",
       "  'won',\n",
       "  \"won't\",\n",
       "  'wouldn',\n",
       "  \"wouldn't\",\n",
       "  'also',\n",
       "  '000',\n",
       "  'see',\n",
       "  'come',\n",
       "  'day',\n",
       "  'say',\n",
       "  'us',\n",
       "  'well',\n",
       "  'le',\n",
       "  \"'m\",\n",
       "  'made',\n",
       "  'applause',\n",
       "  'mr',\n",
       "  'men',\n",
       "  'candidate',\n",
       "  'instead',\n",
       "  'q',\n",
       "  'part',\n",
       "  \"'re\",\n",
       "  \"'le\",\n",
       "  'get',\n",
       "  'man',\n",
       "  \"'ve\",\n",
       "  'let',\n",
       "  'every',\n",
       "  'may',\n",
       "  'upon',\n",
       "  'shall',\n",
       "  'going',\n",
       "  've',\n",
       "  'year',\n",
       "  '--',\n",
       "  '``',\n",
       "  \"'s\",\n",
       "  \"''\",\n",
       "  'way',\n",
       "  'cannot',\n",
       "  'two',\n",
       "  'long',\n",
       "  'said',\n",
       "  'like',\n",
       "  'years',\n",
       "  'think',\n",
       "  'would',\n",
       "  \"n't\",\n",
       "  'must',\n",
       "  'u',\n",
       "  'many',\n",
       "  'one',\n",
       "  'first',\n",
       "  'last',\n",
       "  \"'re'\",\n",
       "  'today',\n",
       "  '',\n",
       "  'ha',\n",
       "  'wa']}"
      ]
     },
     "execution_count": 101,
     "metadata": {},
     "output_type": "execute_result"
    }
   ],
   "source": [
    "tvc_gs.best_params_"
   ]
  },
  {
   "cell_type": "code",
   "execution_count": 106,
   "metadata": {},
   "outputs": [
    {
     "name": "stdout",
     "output_type": "stream",
     "text": [
      "Fitting 5 folds for each of 16 candidates, totalling 80 fits\n"
     ]
    },
    {
     "name": "stderr",
     "output_type": "stream",
     "text": [
      "[Parallel(n_jobs=1)]: Using backend SequentialBackend with 1 concurrent workers.\n",
      "[Parallel(n_jobs=1)]: Done  80 out of  80 | elapsed:  2.5min finished\n"
     ]
    },
    {
     "data": {
      "text/plain": [
       "GridSearchCV(cv=KFold(n_splits=5, random_state=None, shuffle=True),\n",
       "             estimator=Pipeline(steps=[('tvec', TfidfVectorizer()),\n",
       "                                       ('mb', MultinomialNB())]),\n",
       "             param_grid={'tvec__max_features': [800, 1000, 1200, 1400, 1600,\n",
       "                                                1800, 2000, 2200],\n",
       "                         'tvec__ngram_range': [(3, 3), (3, 4)],\n",
       "                         'tvec__stop_words': [['i', 'me', 'my', 'myself', 'we',\n",
       "                                               'our', 'ours', 'ourselves',\n",
       "                                               'you', \"you're\", \"you've\",\n",
       "                                               \"you'll\", \"you'd\", 'your',\n",
       "                                               'yours', 'yourself',\n",
       "                                               'yourselves', 'he', 'him', 'his',\n",
       "                                               'himself', 'she', \"she's\", 'her',\n",
       "                                               'hers', 'herself', 'it', \"it's\",\n",
       "                                               'its', 'itself', ...]]},\n",
       "             scoring='roc_auc', verbose=1)"
      ]
     },
     "execution_count": 106,
     "metadata": {},
     "output_type": "execute_result"
    }
   ],
   "source": [
    "tvc_gs_2 = GridSearchCV(tvc_pipe, param_grid=tf_params_2, scoring = 'roc_auc', cv = kf, verbose =1, n_jobs = None)\n",
    "tvc_gs.fit(np.array(X_train), np.array(y_train))\n"
   ]
  },
  {
   "cell_type": "code",
   "execution_count": 107,
   "metadata": {},
   "outputs": [
    {
     "name": "stdout",
     "output_type": "stream",
     "text": [
      "0.9986087381010496\n",
      "0.8943036603855318\n"
     ]
    }
   ],
   "source": [
    "# Scoring Training data on TFIDFVectorizer\n",
    "print(tvc_gs.score(X_train, y_train))\n",
    "# Scoring Test data on TFIDFVectorizer\n",
    "print(tvc_gs.score(X_test, y_test))"
   ]
  },
  {
   "cell_type": "code",
   "execution_count": 131,
   "metadata": {},
   "outputs": [
    {
     "data": {
      "text/plain": [
       "{'tvec__max_features': 2000,\n",
       " 'tvec__ngram_range': (3, 3),\n",
       " 'tvec__stop_words': ['i',\n",
       "  'me',\n",
       "  'my',\n",
       "  'myself',\n",
       "  'we',\n",
       "  'our',\n",
       "  'ours',\n",
       "  'ourselves',\n",
       "  'you',\n",
       "  \"you're\",\n",
       "  \"you've\",\n",
       "  \"you'll\",\n",
       "  \"you'd\",\n",
       "  'your',\n",
       "  'yours',\n",
       "  'yourself',\n",
       "  'yourselves',\n",
       "  'he',\n",
       "  'him',\n",
       "  'his',\n",
       "  'himself',\n",
       "  'she',\n",
       "  \"she's\",\n",
       "  'her',\n",
       "  'hers',\n",
       "  'herself',\n",
       "  'it',\n",
       "  \"it's\",\n",
       "  'its',\n",
       "  'itself',\n",
       "  'they',\n",
       "  'them',\n",
       "  'their',\n",
       "  'theirs',\n",
       "  'themselves',\n",
       "  'what',\n",
       "  'which',\n",
       "  'who',\n",
       "  'whom',\n",
       "  'this',\n",
       "  'that',\n",
       "  \"that'll\",\n",
       "  'these',\n",
       "  'those',\n",
       "  'am',\n",
       "  'is',\n",
       "  'are',\n",
       "  'was',\n",
       "  'were',\n",
       "  'be',\n",
       "  'been',\n",
       "  'being',\n",
       "  'have',\n",
       "  'has',\n",
       "  'had',\n",
       "  'having',\n",
       "  'do',\n",
       "  'does',\n",
       "  'did',\n",
       "  'doing',\n",
       "  'a',\n",
       "  'an',\n",
       "  'the',\n",
       "  'and',\n",
       "  'but',\n",
       "  'if',\n",
       "  'or',\n",
       "  'because',\n",
       "  'as',\n",
       "  'until',\n",
       "  'while',\n",
       "  'of',\n",
       "  'at',\n",
       "  'by',\n",
       "  'for',\n",
       "  'with',\n",
       "  'about',\n",
       "  'against',\n",
       "  'between',\n",
       "  'into',\n",
       "  'through',\n",
       "  'during',\n",
       "  'before',\n",
       "  'after',\n",
       "  'above',\n",
       "  'below',\n",
       "  'to',\n",
       "  'from',\n",
       "  'up',\n",
       "  'down',\n",
       "  'in',\n",
       "  'out',\n",
       "  'on',\n",
       "  'off',\n",
       "  'over',\n",
       "  'under',\n",
       "  'again',\n",
       "  'further',\n",
       "  'then',\n",
       "  'once',\n",
       "  'here',\n",
       "  'there',\n",
       "  'when',\n",
       "  'where',\n",
       "  'why',\n",
       "  'how',\n",
       "  'all',\n",
       "  'any',\n",
       "  'both',\n",
       "  'each',\n",
       "  'few',\n",
       "  'more',\n",
       "  'most',\n",
       "  'other',\n",
       "  'some',\n",
       "  'such',\n",
       "  'no',\n",
       "  'nor',\n",
       "  'not',\n",
       "  'only',\n",
       "  'own',\n",
       "  'same',\n",
       "  'so',\n",
       "  'than',\n",
       "  'too',\n",
       "  'very',\n",
       "  's',\n",
       "  't',\n",
       "  'can',\n",
       "  'will',\n",
       "  'just',\n",
       "  'don',\n",
       "  \"don't\",\n",
       "  'should',\n",
       "  \"should've\",\n",
       "  'now',\n",
       "  'd',\n",
       "  'll',\n",
       "  'm',\n",
       "  'o',\n",
       "  're',\n",
       "  've',\n",
       "  'y',\n",
       "  'ain',\n",
       "  'aren',\n",
       "  \"aren't\",\n",
       "  'couldn',\n",
       "  \"couldn't\",\n",
       "  'didn',\n",
       "  \"didn't\",\n",
       "  'doesn',\n",
       "  \"doesn't\",\n",
       "  'hadn',\n",
       "  \"hadn't\",\n",
       "  'hasn',\n",
       "  \"hasn't\",\n",
       "  'haven',\n",
       "  \"haven't\",\n",
       "  'isn',\n",
       "  \"isn't\",\n",
       "  'ma',\n",
       "  'mightn',\n",
       "  \"mightn't\",\n",
       "  'mustn',\n",
       "  \"mustn't\",\n",
       "  'needn',\n",
       "  \"needn't\",\n",
       "  'shan',\n",
       "  \"shan't\",\n",
       "  'shouldn',\n",
       "  \"shouldn't\",\n",
       "  'wasn',\n",
       "  \"wasn't\",\n",
       "  'weren',\n",
       "  \"weren't\",\n",
       "  'won',\n",
       "  \"won't\",\n",
       "  'wouldn',\n",
       "  \"wouldn't\",\n",
       "  'also',\n",
       "  '000',\n",
       "  'see',\n",
       "  'come',\n",
       "  'day',\n",
       "  'say',\n",
       "  'us',\n",
       "  'well',\n",
       "  'le',\n",
       "  \"'m\",\n",
       "  'made',\n",
       "  'applause',\n",
       "  'mr',\n",
       "  'men',\n",
       "  'candidate',\n",
       "  'instead',\n",
       "  'q',\n",
       "  'part',\n",
       "  \"'re\",\n",
       "  \"'le\",\n",
       "  'get',\n",
       "  'man',\n",
       "  \"'ve\",\n",
       "  'let',\n",
       "  'every',\n",
       "  'may',\n",
       "  'upon',\n",
       "  'shall',\n",
       "  'going',\n",
       "  've',\n",
       "  'year',\n",
       "  '--',\n",
       "  '``',\n",
       "  \"'s\",\n",
       "  \"''\",\n",
       "  'way',\n",
       "  'cannot',\n",
       "  'two',\n",
       "  'long',\n",
       "  'said',\n",
       "  'like',\n",
       "  'years',\n",
       "  'think',\n",
       "  'would',\n",
       "  \"n't\",\n",
       "  'must',\n",
       "  'u',\n",
       "  'many',\n",
       "  'one',\n",
       "  'first',\n",
       "  'last',\n",
       "  \"'re'\",\n",
       "  'today',\n",
       "  '',\n",
       "  'ha',\n",
       "  'wa']}"
      ]
     },
     "execution_count": 131,
     "metadata": {},
     "output_type": "execute_result"
    }
   ],
   "source": [
    "tvc_gs.best_params_"
   ]
  },
  {
   "cell_type": "markdown",
   "metadata": {},
   "source": [
    "# If a model fails in a random forest, does it even make a sound?"
   ]
  },
  {
   "cell_type": "markdown",
   "metadata": {},
   "source": [
    "This model was not great, even with a gridsearch!"
   ]
  },
  {
   "cell_type": "markdown",
   "metadata": {},
   "source": [
    "RandomizedSearch:"
   ]
  },
  {
   "cell_type": "markdown",
   "metadata": {},
   "source": [
    "Code for search is from https://towardsdatascience.com/hyperparameter-tuning-the-random-forest-in-python-using-scikit-learn-28d2aa77dd74"
   ]
  },
  {
   "cell_type": "code",
   "execution_count": null,
   "metadata": {},
   "outputs": [],
   "source": [
    "## using randomized search to find best hyperparameters(used above)\n",
    "from sklearn.model_selection import RandomizedSearchCV\n",
    "# Number of trees in random forest\n",
    "n_estimators = [int(x) for x in np.linspace(start = 200, stop = 2000, num = 10)]\n",
    "# Number of features to consider at every split\n",
    "max_features = ['auto', 'sqrt']\n",
    "# Maximum number of levels in tree\n",
    "max_depth = [int(x) for x in np.linspace(10, 220, num = 11)]\n",
    "max_depth.append(None)\n",
    "# Minimum number of samples required to split a node\n",
    "min_samples_split = [2, 5, 10]\n",
    "# Minimum number of samples required at each leaf node\n",
    "min_samples_leaf = [1, 2, 4]\n",
    "# Method of selecting samples for training each tree\n",
    "bootstrap = [True, False]\n",
    "# Create the random grid\n",
    "random_grid = {'n_estimators': n_estimators,\n",
    "               'max_features': max_features,\n",
    "               'max_depth': max_depth,\n",
    "               'min_samples_split': min_samples_split,\n",
    "               'min_samples_leaf': min_samples_leaf,\n",
    "               'bootstrap': bootstrap}"
   ]
  },
  {
   "cell_type": "markdown",
   "metadata": {},
   "source": [
    "My sad, sad model:"
   ]
  },
  {
   "cell_type": "code",
   "execution_count": 135,
   "metadata": {},
   "outputs": [],
   "source": [
    "### fitted with grid search results\n",
    "from sklearn.ensemble import RandomForestClassifier\n",
    "overall_acc = []\n",
    "tfidf = TfidfVectorizer(stop_words = sw, ngram_range = (1,3), max_features = 1500)\n",
    "X = tfidf.fit_transform(df.text)\n",
    "labels = tfidf.get_feature_names()\n",
    "X_train, X_test, y_train, y_test = train_test_split(X, df.party, stratify = df.party, random_state = 5)\n",
    "rf = RandomForestClassifier(n_estimators = 600, min_samples_split = 5, min_samples_leaf = 1, max_features = 'sqrt',\n",
    "                           max_depth = 115, bootstrap = False)\n",
    "rf = rf.fit(X_train, y_train)\n",
    "acc = mean(cross_val_score(rf, X_train, y_train))\n",
    "\n",
    "pred = rf.predict(X_test)\n",
    "dem_prob_rf = rf.predict_proba(X_test)\n"
   ]
  },
  {
   "cell_type": "code",
   "execution_count": 136,
   "metadata": {},
   "outputs": [
    {
     "name": "stdout",
     "output_type": "stream",
     "text": [
      "The best threshold is [0.54]\n"
     ]
    },
    {
     "data": {
      "image/png": "[encoded data removed]",
      "text/plain": [
       "<Figure size 432x288 with 1 Axes>"
      ]
     },
     "metadata": {},
     "output_type": "display_data"
    }
   ],
   "source": [
    "## Finding the best threshold for random forest\n",
    "y_test_array = y_test.to_numpy()\n",
    "dem_prob = rf.predict_proba(X_test)[:,0]\n",
    "thresh = np.arange(0,1, .02)\n",
    "thresh_acc =[]\n",
    "\n",
    "for t in thresh:\n",
    "    correct = []\n",
    "    for i,v in enumerate(dem_prob):\n",
    "        if v >= t and y_test_array[i] =='democrat':\n",
    "            correct.append(1)\n",
    "        elif v<t and y_test_array[i] == 'republican':\n",
    "            correct.append(1)\n",
    "        else:\n",
    "            correct.append(0)\n",
    "\n",
    "    thresh_acc.append(mean(correct))\n",
    "\n",
    "fig, ax = plt.subplots()\n",
    "ax.plot(thresh, thresh_acc)\n",
    "print(f'The best threshold is {thresh[np.argsort(thresh_acc)[-1:]]}')"
   ]
  },
  {
   "cell_type": "markdown",
   "metadata": {},
   "source": [
    "Accuracy was close to that of the MNB model but not better!"
   ]
  },
  {
   "cell_type": "code",
   "execution_count": 137,
   "metadata": {},
   "outputs": [
    {
     "name": "stdout",
     "output_type": "stream",
     "text": [
      "Accuracy: 0.8333333333333334\n"
     ]
    }
   ],
   "source": [
    "## Accuracy using .54 threshold\n",
    "y_test_array = y_test.to_numpy()\n",
    "correct = []\n",
    "t = .56\n",
    "for i,v in enumerate(dem_prob_rf[:, 0]):\n",
    "    if v >= t and y_test_array[i] =='democrat':\n",
    "        correct.append(1)\n",
    "    elif v<t and y_test_array[i] == 'republican':\n",
    "        correct.append(1)\n",
    "    else:\n",
    "        correct.append(0)\n",
    "print(f'Accuracy: {mean(correct)}')"
   ]
  },
  {
   "cell_type": "markdown",
   "metadata": {},
   "source": [
    "Really informative features!"
   ]
  },
  {
   "cell_type": "code",
   "execution_count": 138,
   "metadata": {
    "scrolled": true
   },
   "outputs": [
    {
     "data": {
      "text/plain": [
       "array(['reductions', 'still', 'afghanistan', 'government', 'terrorists',\n",
       "       'north', 'inflation', 'give', 'south', 'soviet', 'terrorist',\n",
       "       'reduction', 'race', 'stop', 'taxes', 'college', 'federal',\n",
       "       'spending', 'common', 'federal government'], dtype='<U23')"
      ]
     },
     "execution_count": 138,
     "metadata": {},
     "output_type": "execute_result"
    }
   ],
   "source": [
    "important = rf.feature_importances_\n",
    "idx = np.argsort(important)[-20:]\n",
    "\n",
    "np.array(labels)[idx]"
   ]
  },
  {
   "cell_type": "markdown",
   "metadata": {},
   "source": [
    "January 2021 update: I would go back and chose a model based on the AUC score."
   ]
  },
  {
   "cell_type": "markdown",
   "metadata": {},
   "source": [
    "# Results & Analysis"
   ]
  },
  {
   "cell_type": "markdown",
   "metadata": {},
   "source": [
    "In this section I examine:\n",
    "1. The top Democratic and Republican trigrams\n",
    "1. The most Republican and most Democratic speeches in the test set by log probabilities\n",
    "2. The breakdown of the incorrectly/correctly identified speeches in the test set"
   ]
  },
  {
   "cell_type": "code",
   "execution_count": null,
   "metadata": {
    "scrolled": true
   },
   "outputs": [],
   "source": [
    "zero, one, zero_unique, one_unique = get_top_features(clf.feature_log_prob_, labels, 50)\n",
    "\n",
    "print(f'Top Democratic Trigrams: {zero_unique}')\n",
    "print(\" \")\n",
    "print(f'Top Republican Trigrams: {one_unique}')"
   ]
  },
  {
   "cell_type": "code",
   "execution_count": null,
   "metadata": {},
   "outputs": [],
   "source": [
    "prob_dem_list = []\n",
    "sorted_idx = np.argsort(clf.predict_proba(X_test)[:, 0])\n",
    "                        \n",
    "for i,v in enumerate(list(clf.predict_proba(X_test))):\n",
    "    prob = v[0]\n",
    "    idx = list(y_test.index)[i]\n",
    "    prob_dem_list.append([prob, idx])"
   ]
  },
  {
   "cell_type": "markdown",
   "metadata": {},
   "source": [
    "The top ten most Republican speeches"
   ]
  },
  {
   "cell_type": "code",
   "execution_count": null,
   "metadata": {
    "scrolled": true
   },
   "outputs": [],
   "source": [
    "df.iloc[np.array(prob_dem_list)[sorted_idx][:10,1]]"
   ]
  },
  {
   "cell_type": "markdown",
   "metadata": {},
   "source": [
    "Top ten most Democratic speeches"
   ]
  },
  {
   "cell_type": "code",
   "execution_count": null,
   "metadata": {
    "scrolled": true
   },
   "outputs": [],
   "source": [
    "df.iloc[np.array(prob_dem_list)[sorted_idx][-10:,1]]"
   ]
  },
  {
   "cell_type": "markdown",
   "metadata": {},
   "source": [
    "Looking at correct / Incorrect data"
   ]
  },
  {
   "cell_type": "code",
   "execution_count": null,
   "metadata": {},
   "outputs": [],
   "source": [
    "df['accurate'] = 'na'\n",
    "pred = []\n",
    "idx = list(y_test.index)\n",
    "for i, v in enumerate(list(y_test)):\n",
    "    if v == clf.predict(X_test)[i]:\n",
    "        df.loc[idx[i], 'accurate'] = True\n",
    "    else:\n",
    "        df.loc[idx[i], 'accurate'] = False"
   ]
  },
  {
   "cell_type": "code",
   "execution_count": null,
   "metadata": {},
   "outputs": [],
   "source": [
    "## Updates DF with whether the speech was accurately tagged"
   ]
  },
  {
   "cell_type": "code",
   "execution_count": null,
   "metadata": {},
   "outputs": [],
   "source": [
    "incorrect = df[df['accurate']==False]\n",
    "incorrect.party.value_counts()"
   ]
  },
  {
   "cell_type": "code",
   "execution_count": null,
   "metadata": {},
   "outputs": [],
   "source": [
    "incorrect.debate.value_counts()"
   ]
  },
  {
   "cell_type": "code",
   "execution_count": null,
   "metadata": {},
   "outputs": [],
   "source": [
    "correct = df[df['accurate']==True]"
   ]
  },
  {
   "cell_type": "code",
   "execution_count": null,
   "metadata": {},
   "outputs": [],
   "source": [
    "correct.debate.value_counts()"
   ]
  },
  {
   "cell_type": "code",
   "execution_count": null,
   "metadata": {},
   "outputs": [],
   "source": [
    "df.debate.value_counts()"
   ]
  },
  {
   "cell_type": "code",
   "execution_count": null,
   "metadata": {},
   "outputs": [],
   "source": [
    "incorrect.loc[:,['name', 'title']]"
   ]
  },
  {
   "cell_type": "markdown",
   "metadata": {},
   "source": [
    "## Insights\n",
    "\n",
    "In this section I:\n",
    "\n",
    "1. look at log probabilities to find the most \"democratic\" and \"republican\" speeches\n",
    "2. Examine the speeches that were incorrectly classified"
   ]
  },
  {
   "cell_type": "code",
   "execution_count": null,
   "metadata": {},
   "outputs": [],
   "source": [
    "def get_most_partisan(clf, X_test, y_test):\n",
    "    prob_dem_list = []\n",
    "    sorted_idx = np.argsort(clf.predict_proba(X_test)[:, 0])\n",
    "                        \n",
    "    for i,v in enumerate(list(clf.predict_proba(X_test))):\n",
    "        prob = v[0]\n",
    "        idx = list(y_test.index)[i]\n",
    "        prob_dem_list.append([prob, idx])\n",
    "    most_rep_idx = np.array(prob_repub_list)[sorted_idx][:5,1]\n",
    "    most_dem_idx = np.array(prob_dem_list)[sorted_idx][-5:,1]\n",
    "    return most_rep_idx, most_dem_idx\n",
    "\n",
    "most_rep, most_dem = get_most_partisan(clf, X_test, y_test)\n",
    "print('Most Republican')\n",
    "print(df.loc[most_rep, ['name', 'title']])\n",
    "print('Most Democrat')\n",
    "print(df.loc[most_dem, ['name', 'title']])"
   ]
  },
  {
   "cell_type": "markdown",
   "metadata": {},
   "source": [
    "LBJ appears in 4 of the top 5 spots.\n",
    "\n",
    "Republicans: Reagan, GWBush (x2), Hoover, Bush Senior."
   ]
  },
  {
   "cell_type": "code",
   "execution_count": null,
   "metadata": {},
   "outputs": [],
   "source": []
  },
  {
   "cell_type": "code",
   "execution_count": null,
   "metadata": {},
   "outputs": [],
   "source": [
    "zero, one, zero_unique, one_unique = get_top_features(clf.feature_log_prob_, labels, 100)\n",
    "\n",
    "print(f'zero: {zero}')\n",
    "print(f'one: {one}')\n",
    "print(f'zero unique: {zero_unique}')\n",
    "print(f'one unique: {one_unique}')"
   ]
  },
  {
   "cell_type": "code",
   "execution_count": null,
   "metadata": {},
   "outputs": [],
   "source": [
    "sw = stopwords.words('english')\n",
    "\n",
    "new_sw = ['also', 'day','two', 'even', 'dont',\"'ll\", 'say', 'want', 'time', 'come', 'make', 'thing', 'le', \"'m\", 'go', 'thats', 'could', 'like', 'made', 'applause', 'mr', 'men', 'candidate', 'instead', 'q', 'part', \"'re\", \"'le\", 'get', 'man', \"'ve\", 'let', 'every', 'may', 'upon', 'shall', 'going','ve','year', '--', '``', \"'s\", \"''\", 'way', 'would',\"n't\", 'must','u','many','one','first','last',\"'re'\", 'today','', 'ha', 'wa']\n",
    "for i in new_sw:\n",
    "    sw.append(i)\n"
   ]
  },
  {
   "cell_type": "code",
   "execution_count": null,
   "metadata": {},
   "outputs": [],
   "source": [
    "### Build confusion matrix:"
   ]
  },
  {
   "cell_type": "code",
   "execution_count": null,
   "metadata": {},
   "outputs": [],
   "source": [
    "print(clf.predict(X_test))\n",
    "print(y_test)"
   ]
  },
  {
   "cell_type": "markdown",
   "metadata": {},
   "source": [
    "## Looking at correct/incorrect data"
   ]
  },
  {
   "cell_type": "code",
   "execution_count": null,
   "metadata": {},
   "outputs": [],
   "source": [
    "df['accurate'] = 'na'\n",
    "pred = []\n",
    "idx = list(y_test.index)\n",
    "for i, v in enumerate(list(y_test)):\n",
    "    if v == clf.predict(X_test)[i]:\n",
    "        df.loc[idx[i], 'accurate'] = True\n",
    "    else:\n",
    "        df.loc[idx[i], 'accurate'] = False"
   ]
  },
  {
   "cell_type": "code",
   "execution_count": null,
   "metadata": {},
   "outputs": [],
   "source": [
    "## Updates DF with whether the speech was accurately tagged"
   ]
  },
  {
   "cell_type": "code",
   "execution_count": null,
   "metadata": {},
   "outputs": [],
   "source": [
    "incorrect = df[df['accurate']==False]\n",
    "incorrect.party.value_counts()"
   ]
  },
  {
   "cell_type": "code",
   "execution_count": null,
   "metadata": {},
   "outputs": [],
   "source": [
    "incorrect.debate.value_counts()"
   ]
  },
  {
   "cell_type": "code",
   "execution_count": null,
   "metadata": {},
   "outputs": [],
   "source": [
    "correct.debate.value_counts()"
   ]
  },
  {
   "cell_type": "code",
   "execution_count": null,
   "metadata": {},
   "outputs": [],
   "source": [
    "correct.party.value_counts()"
   ]
  },
  {
   "cell_type": "code",
   "execution_count": null,
   "metadata": {},
   "outputs": [],
   "source": [
    "df.debate.value_counts()"
   ]
  },
  {
   "cell_type": "code",
   "execution_count": null,
   "metadata": {},
   "outputs": [],
   "source": [
    "correct = df[df['accurate']==True]"
   ]
  },
  {
   "cell_type": "code",
   "execution_count": null,
   "metadata": {},
   "outputs": [],
   "source": [
    "counts_wrong = incorrect['name'].value_counts()"
   ]
  },
  {
   "cell_type": "code",
   "execution_count": null,
   "metadata": {},
   "outputs": [],
   "source": [
    "counts_right = correct['name'].value_counts()"
   ]
  },
  {
   "cell_type": "code",
   "execution_count": null,
   "metadata": {},
   "outputs": [],
   "source": [
    "right_wrong = pd.concat([counts_wrong, counts_right], axis = 1)\n",
    "right_wrong = right_wrong.fillna(0)\n",
    "right_wrong['correct %'] = (1 - right_wrong.iloc[:, 0]/(right_wrong.iloc[:, 0] + right_wrong.iloc[:, 1]))*100\n"
   ]
  },
  {
   "cell_type": "markdown",
   "metadata": {},
   "source": [
    "Below is the percent correct for each speaker"
   ]
  },
  {
   "cell_type": "code",
   "execution_count": null,
   "metadata": {},
   "outputs": [],
   "source": [
    "right_wrong"
   ]
  },
  {
   "cell_type": "markdown",
   "metadata": {},
   "source": [
    "Below are the incorrectly identified speeches"
   ]
  },
  {
   "cell_type": "code",
   "execution_count": null,
   "metadata": {
    "scrolled": true
   },
   "outputs": [],
   "source": [
    "incorrect"
   ]
  },
  {
   "cell_type": "markdown",
   "metadata": {},
   "source": [
    "## Analyizing Trump's speeches"
   ]
  },
  {
   "cell_type": "code",
   "execution_count": null,
   "metadata": {},
   "outputs": [],
   "source": [
    "## loading Trump's 2016 campaign speeches\n",
    "with open('corpus/trump_speech/trump.txt', 'r') as file:\n",
    "    data = file.read().replace('\\n', '')\n",
    "trump_speeches = data.split(\"SPEECH\")"
   ]
  },
  {
   "cell_type": "code",
   "execution_count": null,
   "metadata": {},
   "outputs": [],
   "source": [
    "### loading Trump's 2020 Republican National Convention Speech\n",
    "\n",
    "politico = 'https://www.politico.com/story/2016/07/full-transcript-donald-trump-nomination-acceptance-speech-at-rnc-225974'\n",
    "\n",
    "req = requests.get(politico)\n",
    "soup_link = BeautifulSoup(req.content, 'html.parser')\n",
    "text = soup_link.get_text()\n",
    "text = text.lower()\n",
    "\n",
    "speech= text.split(\"politico thursday afternoon\")\n",
    "\n",
    "trump_speeches.append(speech[2].split(\"follow @ politico\")[0])"
   ]
  },
  {
   "cell_type": "code",
   "execution_count": null,
   "metadata": {},
   "outputs": [],
   "source": [
    "trump_series = pd.Series(trump_speeches)"
   ]
  },
  {
   "cell_type": "code",
   "execution_count": null,
   "metadata": {},
   "outputs": [],
   "source": [
    "trump_vector = tfidf.fit_transform(trump_series)\n",
    "\n",
    "print(clf.predict_proba(trump_vector)[:,0])"
   ]
  },
  {
   "cell_type": "code",
   "execution_count": 70,
   "metadata": {},
   "outputs": [],
   "source": [
    "roc_curve?"
   ]
  },
  {
   "cell_type": "markdown",
   "metadata": {},
   "source": [
    "Using a .54 threshold, Trump's speeches are classified as Republican only 6 out of 13 times."
   ]
  }
 ],
 "metadata": {
  "kernelspec": {
   "display_name": "Python 3",
   "language": "python",
   "name": "python3"
  },
  "language_info": {
   "codemirror_mode": {
    "name": "ipython",
    "version": 3
   },
   "file_extension": ".py",
   "mimetype": "text/x-python",
   "name": "python",
   "nbconvert_exporter": "python",
   "pygments_lexer": "ipython3",
   "version": "3.7.7"
  }
 },
 "nbformat": 4,
 "nbformat_minor": 4
}
