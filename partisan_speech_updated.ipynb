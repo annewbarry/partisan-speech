{
 "cells": [
  {
   "cell_type": "code",
   "execution_count": 1,
   "metadata": {},
   "outputs": [],
   "source": [
    "import pandas as pd\n",
    "import unicodedata\n",
    "import string\n",
    "import re\n",
    "import numpy as np\n",
    "from nltk.util import ngrams\n",
    "from nltk.tokenize import sent_tokenize, word_tokenize\n",
    "from nltk.corpus import stopwords\n",
    "from sklearn.feature_extraction.text import TfidfVectorizer\n",
    "from sklearn.feature_extraction.text import CountVectorizer\n",
    "from sklearn.model_selection import train_test_split\n",
    "from sklearn.naive_bayes import MultinomialNB\n",
    "from sklearn.feature_extraction.text import TfidfVectorizer\n",
    "import matplotlib.pyplot as plt\n",
    "%matplotlib inline\n",
    "from sklearn.model_selection import cross_val_score\n",
    "from sklearn.ensemble import RandomForestClassifier\n",
    "from sklearn.metrics import confusion_matrix\n",
    "from statistics import mean\n",
    "plt.style.use('ggplot')\n"
   ]
  },
  {
   "cell_type": "markdown",
   "metadata": {},
   "source": [
    "## Data Pipeline\n",
    "The code below shows the following steps:\n",
    "1. Importing the data from .txt files\n",
    "1. Splitting the data into title, date, text as well as type of speech\n",
    "1. Splitting debate transcripts by speaker\n",
    "1. Scraping additional debates from Debates.org & splitting them by speaker"
   ]
  },
  {
   "cell_type": "code",
   "execution_count": 2,
   "metadata": {},
   "outputs": [],
   "source": [
    "### Creates initial dataframe from .txt files\n",
    "parties = ['republican', 'democrat', 'democrat', 'republican', 'democrat', 'republican', 'republican', 'republican', 'democrat', 'democrat', 'republican', 'democrat', 'republican', 'democrat']\n",
    "pres = ['bush', 'carter', 'clinton', 'eisenhower', 'fdroosevelt', 'ford', 'gwbush', 'hoover', 'kennedy', 'lbjohnson', 'nixon', 'obama', 'reagan', 'truman']\n",
    "war = ['war', 'nw', 'nw', 'nw', 'war', 'nw', 'war', 'nw', 'war', 'war', 'war', 'war', 'nw', 'war']\n",
    "pres_dict = {}\n",
    "for i, v in enumerate(pres):\n",
    "    pres_dict[v]= {}\n",
    "    pres_dict[v]['party'] = parties[i]\n",
    "\n",
    "## imports .txt files and puts them into a dictionary\n",
    "import os\n",
    "data = []\n",
    "for i, p in enumerate(pres):\n",
    "    folder = 'corpus/' + p + '/'\n",
    "    for filename in os.listdir(folder): \n",
    "        indiv = []\n",
    "        indiv.append(p)\n",
    "        indiv.append(parties[i])\n",
    "        indiv.append(war[i])\n",
    "        path = folder + filename\n",
    "        if os.path.isfile(path) and filename.endswith(\".txt\"): \n",
    "            with open(path, \"r\") as file: \n",
    "                indiv.append(file.read())\n",
    "            data.append(indiv)\n",
    "\n",
    "df = pd.DataFrame (data, columns = ['name', 'party', 'war','speech'])\n",
    "\n",
    "### splits the speech into title, date, text\n",
    "def get_text(x):\n",
    "    idx = x.find('>', x.find('>')+1, 100)\n",
    "    return x[idx+1:]\n",
    "\n",
    "df['title'] = df['speech'].apply(lambda x: x.split('\"')[1])\n",
    "df['date'] = df['speech'].apply(lambda x: x.split('\"')[3])\n",
    "df['text'] = df['speech'].apply(get_text)\n",
    "\n",
    "\n",
    "### Classifies speeches as interview, debate, inaugural address, state of the union or press conference\n",
    "def is_speech_type(string, speech_type):\n",
    "    if string.lower().find(speech_type)>=0:\n",
    "        return True\n",
    "    else:\n",
    "        return False\n",
    "\n",
    "\n",
    "speech_type = ['interview', 'debate', 'inaugural address', 'state of the union', 'press conference']\n",
    "for i in speech_type:\n",
    "    df[i] = df.title.apply(lambda x: is_speech_type(x, i))\n",
    "\n",
    "## Use this function to find parts of the debates that belong to each speaker\n",
    "def find_between( s, first, last ):\n",
    "    result = ''\n",
    "    while True:\n",
    "        try:\n",
    "            start = s.index(first) + len(first)\n",
    "            end = s.index( last, start )\n",
    "            result += s[start:end] + ' '\n",
    "            s = s[end:]\n",
    "        except ValueError:\n",
    "            return result"
   ]
  },
  {
   "cell_type": "code",
   "execution_count": 3,
   "metadata": {
    "scrolled": false
   },
   "outputs": [
    {
     "data": {
      "text/html": [
       "<div>\n",
       "<style scoped>\n",
       "    .dataframe tbody tr th:only-of-type {\n",
       "        vertical-align: middle;\n",
       "    }\n",
       "\n",
       "    .dataframe tbody tr th {\n",
       "        vertical-align: top;\n",
       "    }\n",
       "\n",
       "    .dataframe thead th {\n",
       "        text-align: right;\n",
       "    }\n",
       "</style>\n",
       "<table border=\"1\" class=\"dataframe\">\n",
       "  <thead>\n",
       "    <tr style=\"text-align: right;\">\n",
       "      <th></th>\n",
       "      <th>name</th>\n",
       "      <th>party</th>\n",
       "      <th>war</th>\n",
       "      <th>speech</th>\n",
       "      <th>title</th>\n",
       "      <th>date</th>\n",
       "      <th>text</th>\n",
       "      <th>interview</th>\n",
       "      <th>debate</th>\n",
       "      <th>inaugural address</th>\n",
       "      <th>state of the union</th>\n",
       "      <th>press conference</th>\n",
       "    </tr>\n",
       "  </thead>\n",
       "  <tbody>\n",
       "    <tr>\n",
       "      <th>0</th>\n",
       "      <td>bush</td>\n",
       "      <td>republican</td>\n",
       "      <td>war</td>\n",
       "      <td>&lt;title=\"Address at West Point\"&gt;\\n&lt;date=\"Januar...</td>\n",
       "      <td>Address at West Point</td>\n",
       "      <td>January 5, 1993</td>\n",
       "      <td>\\nThank you all very much. Good luck. Please b...</td>\n",
       "      <td>False</td>\n",
       "      <td>False</td>\n",
       "      <td>False</td>\n",
       "      <td>False</td>\n",
       "      <td>False</td>\n",
       "    </tr>\n",
       "    <tr>\n",
       "      <th>1</th>\n",
       "      <td>bush</td>\n",
       "      <td>republican</td>\n",
       "      <td>war</td>\n",
       "      <td>&lt;title=\"Address on Somalia\"&gt;\\n&lt;date=\"December ...</td>\n",
       "      <td>Address on Somalia</td>\n",
       "      <td>December 4, 1992</td>\n",
       "      <td>\\nI want to talk to you today about the traged...</td>\n",
       "      <td>False</td>\n",
       "      <td>False</td>\n",
       "      <td>False</td>\n",
       "      <td>False</td>\n",
       "      <td>False</td>\n",
       "    </tr>\n",
       "    <tr>\n",
       "      <th>2</th>\n",
       "      <td>bush</td>\n",
       "      <td>republican</td>\n",
       "      <td>war</td>\n",
       "      <td>&lt;title=\"Address on Iraq's Invasion of Kuwait\"&gt;...</td>\n",
       "      <td>Address on Iraq's Invasion of Kuwait</td>\n",
       "      <td>August 8, 1990</td>\n",
       "      <td>\\nIn the life of a nation, we're called upon t...</td>\n",
       "      <td>False</td>\n",
       "      <td>False</td>\n",
       "      <td>False</td>\n",
       "      <td>False</td>\n",
       "      <td>False</td>\n",
       "    </tr>\n",
       "    <tr>\n",
       "      <th>3</th>\n",
       "      <td>bush</td>\n",
       "      <td>republican</td>\n",
       "      <td>war</td>\n",
       "      <td>&lt;title=\"Address Before a Joint Session of Cong...</td>\n",
       "      <td>Address Before a Joint Session of Congress</td>\n",
       "      <td>September 11, 1990</td>\n",
       "      <td>\\nMr. President and Mr. Speaker and Members of...</td>\n",
       "      <td>False</td>\n",
       "      <td>False</td>\n",
       "      <td>False</td>\n",
       "      <td>False</td>\n",
       "      <td>False</td>\n",
       "    </tr>\n",
       "    <tr>\n",
       "      <th>4</th>\n",
       "      <td>bush</td>\n",
       "      <td>republican</td>\n",
       "      <td>war</td>\n",
       "      <td>&lt;title=\"Remarks at Texas A and M University\"&gt;\\...</td>\n",
       "      <td>Remarks at Texas A and M University</td>\n",
       "      <td>December 15, 1992</td>\n",
       "      <td>\\nThank you all for that welcome back. Thank y...</td>\n",
       "      <td>False</td>\n",
       "      <td>False</td>\n",
       "      <td>False</td>\n",
       "      <td>False</td>\n",
       "      <td>False</td>\n",
       "    </tr>\n",
       "  </tbody>\n",
       "</table>\n",
       "</div>"
      ],
      "text/plain": [
       "   name       party  war                                             speech  \\\n",
       "0  bush  republican  war  <title=\"Address at West Point\">\\n<date=\"Januar...   \n",
       "1  bush  republican  war  <title=\"Address on Somalia\">\\n<date=\"December ...   \n",
       "2  bush  republican  war  <title=\"Address on Iraq's Invasion of Kuwait\">...   \n",
       "3  bush  republican  war  <title=\"Address Before a Joint Session of Cong...   \n",
       "4  bush  republican  war  <title=\"Remarks at Texas A and M University\">\\...   \n",
       "\n",
       "                                        title                date  \\\n",
       "0                       Address at West Point     January 5, 1993   \n",
       "1                          Address on Somalia    December 4, 1992   \n",
       "2        Address on Iraq's Invasion of Kuwait      August 8, 1990   \n",
       "3  Address Before a Joint Session of Congress  September 11, 1990   \n",
       "4         Remarks at Texas A and M University   December 15, 1992   \n",
       "\n",
       "                                                text  interview  debate  \\\n",
       "0  \\nThank you all very much. Good luck. Please b...      False   False   \n",
       "1  \\nI want to talk to you today about the traged...      False   False   \n",
       "2  \\nIn the life of a nation, we're called upon t...      False   False   \n",
       "3  \\nMr. President and Mr. Speaker and Members of...      False   False   \n",
       "4  \\nThank you all for that welcome back. Thank y...      False   False   \n",
       "\n",
       "   inaugural address  state of the union  press conference  \n",
       "0              False               False             False  \n",
       "1              False               False             False  \n",
       "2              False               False             False  \n",
       "3              False               False             False  \n",
       "4              False               False             False  "
      ]
     },
     "execution_count": 3,
     "metadata": {},
     "output_type": "execute_result"
    }
   ],
   "source": [
    "df.head()"
   ]
  },
  {
   "cell_type": "code",
   "execution_count": 4,
   "metadata": {},
   "outputs": [
    {
     "data": {
      "text/html": [
       "<div>\n",
       "<style scoped>\n",
       "    .dataframe tbody tr th:only-of-type {\n",
       "        vertical-align: middle;\n",
       "    }\n",
       "\n",
       "    .dataframe tbody tr th {\n",
       "        vertical-align: top;\n",
       "    }\n",
       "\n",
       "    .dataframe thead th {\n",
       "        text-align: right;\n",
       "    }\n",
       "</style>\n",
       "<table border=\"1\" class=\"dataframe\">\n",
       "  <thead>\n",
       "    <tr style=\"text-align: right;\">\n",
       "      <th></th>\n",
       "      <th>name</th>\n",
       "      <th>party</th>\n",
       "      <th>war</th>\n",
       "      <th>speech</th>\n",
       "      <th>title</th>\n",
       "      <th>date</th>\n",
       "      <th>text</th>\n",
       "      <th>interview</th>\n",
       "      <th>debate</th>\n",
       "      <th>inaugural address</th>\n",
       "      <th>state of the union</th>\n",
       "      <th>press conference</th>\n",
       "    </tr>\n",
       "  </thead>\n",
       "  <tbody>\n",
       "    <tr>\n",
       "      <th>5</th>\n",
       "      <td>bush</td>\n",
       "      <td>republican</td>\n",
       "      <td>war</td>\n",
       "      <td>&lt;title=\"Debate with Bill Clinton and Ross Pero...</td>\n",
       "      <td>Debate with Bill Clinton and Ross Perot</td>\n",
       "      <td>October 11, 1992</td>\n",
       "      <td>\\n\\n&lt;Jim Lehrer. Good evening, and welcome to ...</td>\n",
       "      <td>False</td>\n",
       "      <td>True</td>\n",
       "      <td>False</td>\n",
       "      <td>False</td>\n",
       "      <td>False</td>\n",
       "    </tr>\n",
       "    <tr>\n",
       "      <th>13</th>\n",
       "      <td>bush</td>\n",
       "      <td>republican</td>\n",
       "      <td>war</td>\n",
       "      <td>&lt;title=\"Debate with Michael Dukakis\"&gt;\\n&lt;date=\"...</td>\n",
       "      <td>Debate with Michael Dukakis</td>\n",
       "      <td>September 25, 1988</td>\n",
       "      <td>\\n\\n&lt;BUSH:&gt; I think we've seen a deterioration...</td>\n",
       "      <td>False</td>\n",
       "      <td>True</td>\n",
       "      <td>False</td>\n",
       "      <td>False</td>\n",
       "      <td>False</td>\n",
       "    </tr>\n",
       "    <tr>\n",
       "      <th>23</th>\n",
       "      <td>carter</td>\n",
       "      <td>democrat</td>\n",
       "      <td>nw</td>\n",
       "      <td>&lt;title=\"Debate with President Gerald Ford\"&gt;\\n&lt;...</td>\n",
       "      <td>Debate with President Gerald Ford</td>\n",
       "      <td>October 6, 1976</td>\n",
       "      <td>\\n\\n&lt;Good evening. I am Pauline Frederick of N...</td>\n",
       "      <td>False</td>\n",
       "      <td>True</td>\n",
       "      <td>False</td>\n",
       "      <td>False</td>\n",
       "      <td>False</td>\n",
       "    </tr>\n",
       "    <tr>\n",
       "      <th>26</th>\n",
       "      <td>carter</td>\n",
       "      <td>democrat</td>\n",
       "      <td>nw</td>\n",
       "      <td>&lt;title=\"Debate with President Gerald Ford\"&gt;\\n&lt;...</td>\n",
       "      <td>Debate with President Gerald Ford</td>\n",
       "      <td>October 22, 1976</td>\n",
       "      <td>\\n\\n&lt;Good evening, I am Barbara Walters, moder...</td>\n",
       "      <td>False</td>\n",
       "      <td>True</td>\n",
       "      <td>False</td>\n",
       "      <td>False</td>\n",
       "      <td>False</td>\n",
       "    </tr>\n",
       "    <tr>\n",
       "      <th>28</th>\n",
       "      <td>carter</td>\n",
       "      <td>democrat</td>\n",
       "      <td>nw</td>\n",
       "      <td>&lt;title=\"Debate with President Gerald Ford\"&gt;\\n&lt;...</td>\n",
       "      <td>Debate with President Gerald Ford</td>\n",
       "      <td>September 23, 1976</td>\n",
       "      <td>\\n\\n&lt;I am Edwin Newman, moderator of this firs...</td>\n",
       "      <td>False</td>\n",
       "      <td>True</td>\n",
       "      <td>False</td>\n",
       "      <td>False</td>\n",
       "      <td>False</td>\n",
       "    </tr>\n",
       "    <tr>\n",
       "      <th>41</th>\n",
       "      <td>carter</td>\n",
       "      <td>democrat</td>\n",
       "      <td>nw</td>\n",
       "      <td>&lt;title=\"Debate with Ronald Reagan\"&gt;\\n&lt;date=\"Oc...</td>\n",
       "      <td>Debate with Ronald Reagan</td>\n",
       "      <td>October 28, 1980</td>\n",
       "      <td>\\n\\n&lt;MR. SMITH. The League of Women Voters is ...</td>\n",
       "      <td>False</td>\n",
       "      <td>True</td>\n",
       "      <td>False</td>\n",
       "      <td>False</td>\n",
       "      <td>False</td>\n",
       "    </tr>\n",
       "    <tr>\n",
       "      <th>60</th>\n",
       "      <td>clinton</td>\n",
       "      <td>democrat</td>\n",
       "      <td>nw</td>\n",
       "      <td>&lt;title=\"Presidential Debate with Senator Bob D...</td>\n",
       "      <td>Presidential Debate with Senator Bob Dole</td>\n",
       "      <td>October 6, 1996</td>\n",
       "      <td>\\n\\n&lt;JIM LEHRER: Good evening from the Bushnel...</td>\n",
       "      <td>False</td>\n",
       "      <td>True</td>\n",
       "      <td>False</td>\n",
       "      <td>False</td>\n",
       "      <td>False</td>\n",
       "    </tr>\n",
       "    <tr>\n",
       "      <th>252</th>\n",
       "      <td>kennedy</td>\n",
       "      <td>democrat</td>\n",
       "      <td>war</td>\n",
       "      <td>&lt;title=\"Debate with Richard Nixon in Washingto...</td>\n",
       "      <td>Debate with Richard Nixon in Washington, D. C.</td>\n",
       "      <td>October 7, 1960</td>\n",
       "      <td>\\n\\n&lt;FRANK McGEE, MODERATOR: Good evening. Thi...</td>\n",
       "      <td>False</td>\n",
       "      <td>True</td>\n",
       "      <td>False</td>\n",
       "      <td>False</td>\n",
       "      <td>False</td>\n",
       "    </tr>\n",
       "    <tr>\n",
       "      <th>253</th>\n",
       "      <td>kennedy</td>\n",
       "      <td>democrat</td>\n",
       "      <td>war</td>\n",
       "      <td>&lt;title=\"Debate with Richard Nixon in New York ...</td>\n",
       "      <td>Debate with Richard Nixon in New York and Los ...</td>\n",
       "      <td>October 13, 1960</td>\n",
       "      <td>\\n\\n&lt;BILL SHADEL, MODERATOR: Good evening. I'm...</td>\n",
       "      <td>False</td>\n",
       "      <td>True</td>\n",
       "      <td>False</td>\n",
       "      <td>False</td>\n",
       "      <td>False</td>\n",
       "    </tr>\n",
       "    <tr>\n",
       "      <th>260</th>\n",
       "      <td>kennedy</td>\n",
       "      <td>democrat</td>\n",
       "      <td>war</td>\n",
       "      <td>&lt;title=\"Debate with Richard Nixon in New York\"...</td>\n",
       "      <td>Debate with Richard Nixon in New York</td>\n",
       "      <td>October 21, 1960</td>\n",
       "      <td>\\n\\n&lt;QUINCY HOWE, MODERATOR: I am Quincy Howe ...</td>\n",
       "      <td>False</td>\n",
       "      <td>True</td>\n",
       "      <td>False</td>\n",
       "      <td>False</td>\n",
       "      <td>False</td>\n",
       "    </tr>\n",
       "    <tr>\n",
       "      <th>265</th>\n",
       "      <td>kennedy</td>\n",
       "      <td>democrat</td>\n",
       "      <td>war</td>\n",
       "      <td>&lt;title=\"Debate with Richard Nixon in Chicago\"&gt;...</td>\n",
       "      <td>Debate with Richard Nixon in Chicago</td>\n",
       "      <td>September 26, 1960</td>\n",
       "      <td>\\n\\n&lt;HOWARD K. SMITH, MODERATOR: Good evening....</td>\n",
       "      <td>False</td>\n",
       "      <td>True</td>\n",
       "      <td>False</td>\n",
       "      <td>False</td>\n",
       "      <td>False</td>\n",
       "    </tr>\n",
       "    <tr>\n",
       "      <th>449</th>\n",
       "      <td>reagan</td>\n",
       "      <td>republican</td>\n",
       "      <td>nw</td>\n",
       "      <td>&lt;title=\"Debate with Walter Mondale\"&gt;\\n&lt;date=\"D...</td>\n",
       "      <td>Debate with Walter Mondale</td>\n",
       "      <td>Domestic Issues</td>\n",
       "      <td>&lt;October 7, 1984&gt;&gt;\\n\\n&lt;Ms. Ridings. I'm Dorot...</td>\n",
       "      <td>False</td>\n",
       "      <td>True</td>\n",
       "      <td>False</td>\n",
       "      <td>False</td>\n",
       "      <td>False</td>\n",
       "    </tr>\n",
       "    <tr>\n",
       "      <th>453</th>\n",
       "      <td>reagan</td>\n",
       "      <td>republican</td>\n",
       "      <td>nw</td>\n",
       "      <td>&lt;title=\"Debate with Walter Mondale\"&gt;\\n&lt;date=\"O...</td>\n",
       "      <td>Debate with Walter Mondale</td>\n",
       "      <td>October 21, 1984</td>\n",
       "      <td>\\n\\n&lt;MS. RIDINGS: Good evening from the Munici...</td>\n",
       "      <td>False</td>\n",
       "      <td>True</td>\n",
       "      <td>False</td>\n",
       "      <td>False</td>\n",
       "      <td>False</td>\n",
       "    </tr>\n",
       "  </tbody>\n",
       "</table>\n",
       "</div>"
      ],
      "text/plain": [
       "        name       party  war  \\\n",
       "5       bush  republican  war   \n",
       "13      bush  republican  war   \n",
       "23    carter    democrat   nw   \n",
       "26    carter    democrat   nw   \n",
       "28    carter    democrat   nw   \n",
       "41    carter    democrat   nw   \n",
       "60   clinton    democrat   nw   \n",
       "252  kennedy    democrat  war   \n",
       "253  kennedy    democrat  war   \n",
       "260  kennedy    democrat  war   \n",
       "265  kennedy    democrat  war   \n",
       "449   reagan  republican   nw   \n",
       "453   reagan  republican   nw   \n",
       "\n",
       "                                                speech  \\\n",
       "5    <title=\"Debate with Bill Clinton and Ross Pero...   \n",
       "13   <title=\"Debate with Michael Dukakis\">\\n<date=\"...   \n",
       "23   <title=\"Debate with President Gerald Ford\">\\n<...   \n",
       "26   <title=\"Debate with President Gerald Ford\">\\n<...   \n",
       "28   <title=\"Debate with President Gerald Ford\">\\n<...   \n",
       "41   <title=\"Debate with Ronald Reagan\">\\n<date=\"Oc...   \n",
       "60   <title=\"Presidential Debate with Senator Bob D...   \n",
       "252  <title=\"Debate with Richard Nixon in Washingto...   \n",
       "253  <title=\"Debate with Richard Nixon in New York ...   \n",
       "260  <title=\"Debate with Richard Nixon in New York\"...   \n",
       "265  <title=\"Debate with Richard Nixon in Chicago\">...   \n",
       "449  <title=\"Debate with Walter Mondale\">\\n<date=\"D...   \n",
       "453  <title=\"Debate with Walter Mondale\">\\n<date=\"O...   \n",
       "\n",
       "                                                 title                date  \\\n",
       "5              Debate with Bill Clinton and Ross Perot    October 11, 1992   \n",
       "13                         Debate with Michael Dukakis  September 25, 1988   \n",
       "23                   Debate with President Gerald Ford     October 6, 1976   \n",
       "26                   Debate with President Gerald Ford    October 22, 1976   \n",
       "28                   Debate with President Gerald Ford  September 23, 1976   \n",
       "41                           Debate with Ronald Reagan    October 28, 1980   \n",
       "60           Presidential Debate with Senator Bob Dole     October 6, 1996   \n",
       "252     Debate with Richard Nixon in Washington, D. C.     October 7, 1960   \n",
       "253  Debate with Richard Nixon in New York and Los ...    October 13, 1960   \n",
       "260              Debate with Richard Nixon in New York    October 21, 1960   \n",
       "265               Debate with Richard Nixon in Chicago  September 26, 1960   \n",
       "449                         Debate with Walter Mondale     Domestic Issues   \n",
       "453                         Debate with Walter Mondale    October 21, 1984   \n",
       "\n",
       "                                                  text  interview  debate  \\\n",
       "5    \\n\\n<Jim Lehrer. Good evening, and welcome to ...      False    True   \n",
       "13   \\n\\n<BUSH:> I think we've seen a deterioration...      False    True   \n",
       "23   \\n\\n<Good evening. I am Pauline Frederick of N...      False    True   \n",
       "26   \\n\\n<Good evening, I am Barbara Walters, moder...      False    True   \n",
       "28   \\n\\n<I am Edwin Newman, moderator of this firs...      False    True   \n",
       "41   \\n\\n<MR. SMITH. The League of Women Voters is ...      False    True   \n",
       "60   \\n\\n<JIM LEHRER: Good evening from the Bushnel...      False    True   \n",
       "252  \\n\\n<FRANK McGEE, MODERATOR: Good evening. Thi...      False    True   \n",
       "253  \\n\\n<BILL SHADEL, MODERATOR: Good evening. I'm...      False    True   \n",
       "260  \\n\\n<QUINCY HOWE, MODERATOR: I am Quincy Howe ...      False    True   \n",
       "265  \\n\\n<HOWARD K. SMITH, MODERATOR: Good evening....      False    True   \n",
       "449   <October 7, 1984>>\\n\\n<Ms. Ridings. I'm Dorot...      False    True   \n",
       "453  \\n\\n<MS. RIDINGS: Good evening from the Munici...      False    True   \n",
       "\n",
       "     inaugural address  state of the union  press conference  \n",
       "5                False               False             False  \n",
       "13               False               False             False  \n",
       "23               False               False             False  \n",
       "26               False               False             False  \n",
       "28               False               False             False  \n",
       "41               False               False             False  \n",
       "60               False               False             False  \n",
       "252              False               False             False  \n",
       "253              False               False             False  \n",
       "260              False               False             False  \n",
       "265              False               False             False  \n",
       "449              False               False             False  \n",
       "453              False               False             False  "
      ]
     },
     "execution_count": 4,
     "metadata": {},
     "output_type": "execute_result"
    }
   ],
   "source": [
    "df[df['debate']==True]"
   ]
  },
  {
   "cell_type": "code",
   "execution_count": 5,
   "metadata": {},
   "outputs": [],
   "source": [
    "### Splits existing debate transcripts by speaker\n",
    "idx = [5 ,13, 23, 26, 28, 41,60, 252, 253, 260, 265, 449, 453]\n",
    "opponent = [['clinton', 'democrat'], ['dukakis', 'democrat'], ['ford', 'republican'], ['ford', 'republican'],\n",
    "            ['ford', 'republican'], ['reagan', 'republican'], ['dole', 'republican'], ['nixon', 'republican'], ['nixon', 'republican'],\n",
    "            ['nixon', 'republican'], ['nixon', 'republican'], ['mondale','democrat'], ['mondale','democrat']]\n",
    "        \n",
    "delimiters = [['Bush.>', '>', '<Governor Clinton.', '>'], ['BUSH:>', '<', '<DUKAKIS:','>'], \n",
    "              ['MR. CARTER.>', '<', '<THE PRESIDENT.', '>'], ['MR. CARTER.>', '<', '<THE PRESIDENT.', '>'], \n",
    "              ['MR. CARTER.>', '<', '<THE PRESIDENT.', '>'],['THE PRESIDENT.>', '<', '<GOVERNOR REAGAN.', '>'],\n",
    "             ['<PRESIDENT CLINTON:>', '<', '<SENATOR DOLE:', '<'],['<MR. KENNEDY:>', '<', '<MR. NIXON:', '>'],\n",
    "              ['<MR. KENNEDY:>', '<', '<MR. NIXON:', '>'], ['<MR. KENNEDY:>', '<', '<MR. NIXON:', '>'], \n",
    "              ['<MR. KENNEDY:>', '<', '<MR. NIXON:', '>'], ['<The President.>', '<', '<Mr. Mondale.', '>'],\n",
    "              ['<PRESIDENT REAGAN:>', '<', '<MR. MONDALE:', '>']]\n",
    "opponents = []\n",
    "for i in range(len(idx)):\n",
    "    text = df.loc[idx[i], 'text']\n",
    "    df.loc[idx[i],'text'] = find_between(df.loc[idx[i],'text'], delimiters[i][0], delimiters[i][1])\n",
    "    opponent_text = find_between(text, delimiters[i][2], delimiters[i][3])\n",
    "    #print(f'for {idx[i]}, delimited opponent {opponent[i]} between {delimiters[i][2]} and {delimiters[i][3]}')\n",
    "    opponents.append(opponent[i] + [0, 0, 0, 0] + [opponent_text] + [False, True, False, False, False])\n",
    "opponents = pd.DataFrame(data = opponents, columns = df.columns)\n",
    "df = pd.concat([df, opponents])"
   ]
  },
  {
   "cell_type": "code",
   "execution_count": 6,
   "metadata": {},
   "outputs": [
    {
     "ename": "KeyboardInterrupt",
     "evalue": "",
     "output_type": "error",
     "traceback": [
      "\u001b[0;31m---------------------------------------------------------------------------\u001b[0m",
      "\u001b[0;31mKeyboardInterrupt\u001b[0m                         Traceback (most recent call last)",
      "\u001b[0;32m<ipython-input-6-b92fb969516e>\u001b[0m in \u001b[0;36m<module>\u001b[0;34m\u001b[0m\n\u001b[1;32m     43\u001b[0m \u001b[0;32mfor\u001b[0m \u001b[0mi\u001b[0m\u001b[0;34m,\u001b[0m \u001b[0mlink\u001b[0m \u001b[0;32min\u001b[0m \u001b[0menumerate\u001b[0m\u001b[0;34m(\u001b[0m\u001b[0mlinks\u001b[0m\u001b[0;34m)\u001b[0m\u001b[0;34m:\u001b[0m\u001b[0;34m\u001b[0m\u001b[0;34m\u001b[0m\u001b[0m\n\u001b[1;32m     44\u001b[0m     \u001b[0mreq\u001b[0m \u001b[0;34m=\u001b[0m \u001b[0mrequests\u001b[0m\u001b[0;34m.\u001b[0m\u001b[0mget\u001b[0m\u001b[0;34m(\u001b[0m\u001b[0mlink\u001b[0m\u001b[0;34m)\u001b[0m\u001b[0;34m\u001b[0m\u001b[0;34m\u001b[0m\u001b[0m\n\u001b[0;32m---> 45\u001b[0;31m     \u001b[0msoup_link\u001b[0m \u001b[0;34m=\u001b[0m \u001b[0mBeautifulSoup\u001b[0m\u001b[0;34m(\u001b[0m\u001b[0mreq\u001b[0m\u001b[0;34m.\u001b[0m\u001b[0mcontent\u001b[0m\u001b[0;34m,\u001b[0m \u001b[0;34m'html.parser'\u001b[0m\u001b[0;34m)\u001b[0m\u001b[0;34m\u001b[0m\u001b[0;34m\u001b[0m\u001b[0m\n\u001b[0m\u001b[1;32m     46\u001b[0m     \u001b[0mtext\u001b[0m \u001b[0;34m=\u001b[0m \u001b[0msoup_link\u001b[0m\u001b[0;34m.\u001b[0m\u001b[0mget_text\u001b[0m\u001b[0;34m(\u001b[0m\u001b[0;34m)\u001b[0m\u001b[0;34m\u001b[0m\u001b[0;34m\u001b[0m\u001b[0m\n\u001b[1;32m     47\u001b[0m     \u001b[0mtext\u001b[0m \u001b[0;34m=\u001b[0m \u001b[0mtext\u001b[0m\u001b[0;34m.\u001b[0m\u001b[0mlower\u001b[0m\u001b[0;34m(\u001b[0m\u001b[0;34m)\u001b[0m\u001b[0;34m\u001b[0m\u001b[0;34m\u001b[0m\u001b[0m\n",
      "\u001b[0;32m~/opt/anaconda3/lib/python3.7/site-packages/bs4/__init__.py\u001b[0m in \u001b[0;36m__init__\u001b[0;34m(self, markup, features, builder, parse_only, from_encoding, exclude_encodings, element_classes, **kwargs)\u001b[0m\n\u001b[1;32m    343\u001b[0m             \u001b[0mself\u001b[0m\u001b[0;34m.\u001b[0m\u001b[0mreset\u001b[0m\u001b[0;34m(\u001b[0m\u001b[0;34m)\u001b[0m\u001b[0;34m\u001b[0m\u001b[0;34m\u001b[0m\u001b[0m\n\u001b[1;32m    344\u001b[0m             \u001b[0;32mtry\u001b[0m\u001b[0;34m:\u001b[0m\u001b[0;34m\u001b[0m\u001b[0;34m\u001b[0m\u001b[0m\n\u001b[0;32m--> 345\u001b[0;31m                 \u001b[0mself\u001b[0m\u001b[0;34m.\u001b[0m\u001b[0m_feed\u001b[0m\u001b[0;34m(\u001b[0m\u001b[0;34m)\u001b[0m\u001b[0;34m\u001b[0m\u001b[0;34m\u001b[0m\u001b[0m\n\u001b[0m\u001b[1;32m    346\u001b[0m                 \u001b[0msuccess\u001b[0m \u001b[0;34m=\u001b[0m \u001b[0;32mTrue\u001b[0m\u001b[0;34m\u001b[0m\u001b[0;34m\u001b[0m\u001b[0m\n\u001b[1;32m    347\u001b[0m                 \u001b[0;32mbreak\u001b[0m\u001b[0;34m\u001b[0m\u001b[0;34m\u001b[0m\u001b[0m\n",
      "\u001b[0;32m~/opt/anaconda3/lib/python3.7/site-packages/bs4/__init__.py\u001b[0m in \u001b[0;36m_feed\u001b[0;34m(self)\u001b[0m\n\u001b[1;32m    429\u001b[0m         \u001b[0mself\u001b[0m\u001b[0;34m.\u001b[0m\u001b[0mbuilder\u001b[0m\u001b[0;34m.\u001b[0m\u001b[0mreset\u001b[0m\u001b[0;34m(\u001b[0m\u001b[0;34m)\u001b[0m\u001b[0;34m\u001b[0m\u001b[0;34m\u001b[0m\u001b[0m\n\u001b[1;32m    430\u001b[0m \u001b[0;34m\u001b[0m\u001b[0m\n\u001b[0;32m--> 431\u001b[0;31m         \u001b[0mself\u001b[0m\u001b[0;34m.\u001b[0m\u001b[0mbuilder\u001b[0m\u001b[0;34m.\u001b[0m\u001b[0mfeed\u001b[0m\u001b[0;34m(\u001b[0m\u001b[0mself\u001b[0m\u001b[0;34m.\u001b[0m\u001b[0mmarkup\u001b[0m\u001b[0;34m)\u001b[0m\u001b[0;34m\u001b[0m\u001b[0;34m\u001b[0m\u001b[0m\n\u001b[0m\u001b[1;32m    432\u001b[0m         \u001b[0;31m# Close out any unfinished strings and close all the open tags.\u001b[0m\u001b[0;34m\u001b[0m\u001b[0;34m\u001b[0m\u001b[0;34m\u001b[0m\u001b[0m\n\u001b[1;32m    433\u001b[0m         \u001b[0mself\u001b[0m\u001b[0;34m.\u001b[0m\u001b[0mendData\u001b[0m\u001b[0;34m(\u001b[0m\u001b[0;34m)\u001b[0m\u001b[0;34m\u001b[0m\u001b[0;34m\u001b[0m\u001b[0m\n",
      "\u001b[0;32m~/opt/anaconda3/lib/python3.7/site-packages/bs4/builder/_htmlparser.py\u001b[0m in \u001b[0;36mfeed\u001b[0;34m(self, markup)\u001b[0m\n\u001b[1;32m    375\u001b[0m         \u001b[0mparser\u001b[0m\u001b[0;34m.\u001b[0m\u001b[0msoup\u001b[0m \u001b[0;34m=\u001b[0m \u001b[0mself\u001b[0m\u001b[0;34m.\u001b[0m\u001b[0msoup\u001b[0m\u001b[0;34m\u001b[0m\u001b[0;34m\u001b[0m\u001b[0m\n\u001b[1;32m    376\u001b[0m         \u001b[0;32mtry\u001b[0m\u001b[0;34m:\u001b[0m\u001b[0;34m\u001b[0m\u001b[0;34m\u001b[0m\u001b[0m\n\u001b[0;32m--> 377\u001b[0;31m             \u001b[0mparser\u001b[0m\u001b[0;34m.\u001b[0m\u001b[0mfeed\u001b[0m\u001b[0;34m(\u001b[0m\u001b[0mmarkup\u001b[0m\u001b[0;34m)\u001b[0m\u001b[0;34m\u001b[0m\u001b[0;34m\u001b[0m\u001b[0m\n\u001b[0m\u001b[1;32m    378\u001b[0m             \u001b[0mparser\u001b[0m\u001b[0;34m.\u001b[0m\u001b[0mclose\u001b[0m\u001b[0;34m(\u001b[0m\u001b[0;34m)\u001b[0m\u001b[0;34m\u001b[0m\u001b[0;34m\u001b[0m\u001b[0m\n\u001b[1;32m    379\u001b[0m         \u001b[0;32mexcept\u001b[0m \u001b[0mHTMLParseError\u001b[0m \u001b[0;32mas\u001b[0m \u001b[0me\u001b[0m\u001b[0;34m:\u001b[0m\u001b[0;34m\u001b[0m\u001b[0;34m\u001b[0m\u001b[0m\n",
      "\u001b[0;32m~/opt/anaconda3/lib/python3.7/html/parser.py\u001b[0m in \u001b[0;36mfeed\u001b[0;34m(self, data)\u001b[0m\n\u001b[1;32m    109\u001b[0m         \"\"\"\n\u001b[1;32m    110\u001b[0m         \u001b[0mself\u001b[0m\u001b[0;34m.\u001b[0m\u001b[0mrawdata\u001b[0m \u001b[0;34m=\u001b[0m \u001b[0mself\u001b[0m\u001b[0;34m.\u001b[0m\u001b[0mrawdata\u001b[0m \u001b[0;34m+\u001b[0m \u001b[0mdata\u001b[0m\u001b[0;34m\u001b[0m\u001b[0;34m\u001b[0m\u001b[0m\n\u001b[0;32m--> 111\u001b[0;31m         \u001b[0mself\u001b[0m\u001b[0;34m.\u001b[0m\u001b[0mgoahead\u001b[0m\u001b[0;34m(\u001b[0m\u001b[0;36m0\u001b[0m\u001b[0;34m)\u001b[0m\u001b[0;34m\u001b[0m\u001b[0;34m\u001b[0m\u001b[0m\n\u001b[0m\u001b[1;32m    112\u001b[0m \u001b[0;34m\u001b[0m\u001b[0m\n\u001b[1;32m    113\u001b[0m     \u001b[0;32mdef\u001b[0m \u001b[0mclose\u001b[0m\u001b[0;34m(\u001b[0m\u001b[0mself\u001b[0m\u001b[0;34m)\u001b[0m\u001b[0;34m:\u001b[0m\u001b[0;34m\u001b[0m\u001b[0;34m\u001b[0m\u001b[0m\n",
      "\u001b[0;32m~/opt/anaconda3/lib/python3.7/html/parser.py\u001b[0m in \u001b[0;36mgoahead\u001b[0;34m(self, end)\u001b[0m\n\u001b[1;32m    169\u001b[0m             \u001b[0;32mif\u001b[0m \u001b[0mstartswith\u001b[0m\u001b[0;34m(\u001b[0m\u001b[0;34m'<'\u001b[0m\u001b[0;34m,\u001b[0m \u001b[0mi\u001b[0m\u001b[0;34m)\u001b[0m\u001b[0;34m:\u001b[0m\u001b[0;34m\u001b[0m\u001b[0;34m\u001b[0m\u001b[0m\n\u001b[1;32m    170\u001b[0m                 \u001b[0;32mif\u001b[0m \u001b[0mstarttagopen\u001b[0m\u001b[0;34m.\u001b[0m\u001b[0mmatch\u001b[0m\u001b[0;34m(\u001b[0m\u001b[0mrawdata\u001b[0m\u001b[0;34m,\u001b[0m \u001b[0mi\u001b[0m\u001b[0;34m)\u001b[0m\u001b[0;34m:\u001b[0m \u001b[0;31m# < + letter\u001b[0m\u001b[0;34m\u001b[0m\u001b[0;34m\u001b[0m\u001b[0m\n\u001b[0;32m--> 171\u001b[0;31m                     \u001b[0mk\u001b[0m \u001b[0;34m=\u001b[0m \u001b[0mself\u001b[0m\u001b[0;34m.\u001b[0m\u001b[0mparse_starttag\u001b[0m\u001b[0;34m(\u001b[0m\u001b[0mi\u001b[0m\u001b[0;34m)\u001b[0m\u001b[0;34m\u001b[0m\u001b[0;34m\u001b[0m\u001b[0m\n\u001b[0m\u001b[1;32m    172\u001b[0m                 \u001b[0;32melif\u001b[0m \u001b[0mstartswith\u001b[0m\u001b[0;34m(\u001b[0m\u001b[0;34m\"</\"\u001b[0m\u001b[0;34m,\u001b[0m \u001b[0mi\u001b[0m\u001b[0;34m)\u001b[0m\u001b[0;34m:\u001b[0m\u001b[0;34m\u001b[0m\u001b[0;34m\u001b[0m\u001b[0m\n\u001b[1;32m    173\u001b[0m                     \u001b[0mk\u001b[0m \u001b[0;34m=\u001b[0m \u001b[0mself\u001b[0m\u001b[0;34m.\u001b[0m\u001b[0mparse_endtag\u001b[0m\u001b[0;34m(\u001b[0m\u001b[0mi\u001b[0m\u001b[0;34m)\u001b[0m\u001b[0;34m\u001b[0m\u001b[0;34m\u001b[0m\u001b[0m\n",
      "\u001b[0;32m~/opt/anaconda3/lib/python3.7/html/parser.py\u001b[0m in \u001b[0;36mparse_starttag\u001b[0;34m(self, i)\u001b[0m\n\u001b[1;32m    343\u001b[0m             \u001b[0mself\u001b[0m\u001b[0;34m.\u001b[0m\u001b[0mhandle_startendtag\u001b[0m\u001b[0;34m(\u001b[0m\u001b[0mtag\u001b[0m\u001b[0;34m,\u001b[0m \u001b[0mattrs\u001b[0m\u001b[0;34m)\u001b[0m\u001b[0;34m\u001b[0m\u001b[0;34m\u001b[0m\u001b[0m\n\u001b[1;32m    344\u001b[0m         \u001b[0;32melse\u001b[0m\u001b[0;34m:\u001b[0m\u001b[0;34m\u001b[0m\u001b[0;34m\u001b[0m\u001b[0m\n\u001b[0;32m--> 345\u001b[0;31m             \u001b[0mself\u001b[0m\u001b[0;34m.\u001b[0m\u001b[0mhandle_starttag\u001b[0m\u001b[0;34m(\u001b[0m\u001b[0mtag\u001b[0m\u001b[0;34m,\u001b[0m \u001b[0mattrs\u001b[0m\u001b[0;34m)\u001b[0m\u001b[0;34m\u001b[0m\u001b[0;34m\u001b[0m\u001b[0m\n\u001b[0m\u001b[1;32m    346\u001b[0m             \u001b[0;32mif\u001b[0m \u001b[0mtag\u001b[0m \u001b[0;32min\u001b[0m \u001b[0mself\u001b[0m\u001b[0;34m.\u001b[0m\u001b[0mCDATA_CONTENT_ELEMENTS\u001b[0m\u001b[0;34m:\u001b[0m\u001b[0;34m\u001b[0m\u001b[0;34m\u001b[0m\u001b[0m\n\u001b[1;32m    347\u001b[0m                 \u001b[0mself\u001b[0m\u001b[0;34m.\u001b[0m\u001b[0mset_cdata_mode\u001b[0m\u001b[0;34m(\u001b[0m\u001b[0mtag\u001b[0m\u001b[0;34m)\u001b[0m\u001b[0;34m\u001b[0m\u001b[0;34m\u001b[0m\u001b[0m\n",
      "\u001b[0;32m~/opt/anaconda3/lib/python3.7/site-packages/bs4/builder/_htmlparser.py\u001b[0m in \u001b[0;36mhandle_starttag\u001b[0;34m(self, name, attrs, handle_empty_element)\u001b[0m\n\u001b[1;32m    151\u001b[0m         tag = self.soup.handle_starttag(\n\u001b[1;32m    152\u001b[0m             \u001b[0mname\u001b[0m\u001b[0;34m,\u001b[0m \u001b[0;32mNone\u001b[0m\u001b[0;34m,\u001b[0m \u001b[0;32mNone\u001b[0m\u001b[0;34m,\u001b[0m \u001b[0mattr_dict\u001b[0m\u001b[0;34m,\u001b[0m \u001b[0msourceline\u001b[0m\u001b[0;34m=\u001b[0m\u001b[0msourceline\u001b[0m\u001b[0;34m,\u001b[0m\u001b[0;34m\u001b[0m\u001b[0;34m\u001b[0m\u001b[0m\n\u001b[0;32m--> 153\u001b[0;31m             \u001b[0msourcepos\u001b[0m\u001b[0;34m=\u001b[0m\u001b[0msourcepos\u001b[0m\u001b[0;34m\u001b[0m\u001b[0;34m\u001b[0m\u001b[0m\n\u001b[0m\u001b[1;32m    154\u001b[0m         )\n\u001b[1;32m    155\u001b[0m         \u001b[0;32mif\u001b[0m \u001b[0mtag\u001b[0m \u001b[0;32mand\u001b[0m \u001b[0mtag\u001b[0m\u001b[0;34m.\u001b[0m\u001b[0mis_empty_element\u001b[0m \u001b[0;32mand\u001b[0m \u001b[0mhandle_empty_element\u001b[0m\u001b[0;34m:\u001b[0m\u001b[0;34m\u001b[0m\u001b[0;34m\u001b[0m\u001b[0m\n",
      "\u001b[0;32m~/opt/anaconda3/lib/python3.7/site-packages/bs4/__init__.py\u001b[0m in \u001b[0;36mhandle_starttag\u001b[0;34m(self, name, namespace, nsprefix, attrs, sourceline, sourcepos)\u001b[0m\n\u001b[1;32m    680\u001b[0m         \"\"\"\n\u001b[1;32m    681\u001b[0m         \u001b[0;31m# print(\"Start tag %s: %s\" % (name, attrs))\u001b[0m\u001b[0;34m\u001b[0m\u001b[0;34m\u001b[0m\u001b[0;34m\u001b[0m\u001b[0m\n\u001b[0;32m--> 682\u001b[0;31m         \u001b[0mself\u001b[0m\u001b[0;34m.\u001b[0m\u001b[0mendData\u001b[0m\u001b[0;34m(\u001b[0m\u001b[0;34m)\u001b[0m\u001b[0;34m\u001b[0m\u001b[0;34m\u001b[0m\u001b[0m\n\u001b[0m\u001b[1;32m    683\u001b[0m \u001b[0;34m\u001b[0m\u001b[0m\n\u001b[1;32m    684\u001b[0m         if (self.parse_only and len(self.tagStack) <= 1\n",
      "\u001b[0;32m~/opt/anaconda3/lib/python3.7/site-packages/bs4/__init__.py\u001b[0m in \u001b[0;36mendData\u001b[0;34m(self, containerClass)\u001b[0m\n\u001b[1;32m    563\u001b[0m                 \u001b[0;32mreturn\u001b[0m\u001b[0;34m\u001b[0m\u001b[0;34m\u001b[0m\u001b[0m\n\u001b[1;32m    564\u001b[0m \u001b[0;34m\u001b[0m\u001b[0m\n\u001b[0;32m--> 565\u001b[0;31m             \u001b[0mo\u001b[0m \u001b[0;34m=\u001b[0m \u001b[0mcontainerClass\u001b[0m\u001b[0;34m(\u001b[0m\u001b[0mcurrent_data\u001b[0m\u001b[0;34m)\u001b[0m\u001b[0;34m\u001b[0m\u001b[0;34m\u001b[0m\u001b[0m\n\u001b[0m\u001b[1;32m    566\u001b[0m             \u001b[0mself\u001b[0m\u001b[0;34m.\u001b[0m\u001b[0mobject_was_parsed\u001b[0m\u001b[0;34m(\u001b[0m\u001b[0mo\u001b[0m\u001b[0;34m)\u001b[0m\u001b[0;34m\u001b[0m\u001b[0;34m\u001b[0m\u001b[0m\n\u001b[1;32m    567\u001b[0m \u001b[0;34m\u001b[0m\u001b[0m\n",
      "\u001b[0;32m~/opt/anaconda3/lib/python3.7/site-packages/bs4/element.py\u001b[0m in \u001b[0;36m__new__\u001b[0;34m(cls, value)\u001b[0m\n\u001b[1;32m    892\u001b[0m         \"\"\"\n\u001b[1;32m    893\u001b[0m         \u001b[0;32mif\u001b[0m \u001b[0misinstance\u001b[0m\u001b[0;34m(\u001b[0m\u001b[0mvalue\u001b[0m\u001b[0;34m,\u001b[0m \u001b[0mstr\u001b[0m\u001b[0;34m)\u001b[0m\u001b[0;34m:\u001b[0m\u001b[0;34m\u001b[0m\u001b[0;34m\u001b[0m\u001b[0m\n\u001b[0;32m--> 894\u001b[0;31m             \u001b[0mu\u001b[0m \u001b[0;34m=\u001b[0m \u001b[0mstr\u001b[0m\u001b[0;34m.\u001b[0m\u001b[0m__new__\u001b[0m\u001b[0;34m(\u001b[0m\u001b[0mcls\u001b[0m\u001b[0;34m,\u001b[0m \u001b[0mvalue\u001b[0m\u001b[0;34m)\u001b[0m\u001b[0;34m\u001b[0m\u001b[0;34m\u001b[0m\u001b[0m\n\u001b[0m\u001b[1;32m    895\u001b[0m         \u001b[0;32melse\u001b[0m\u001b[0;34m:\u001b[0m\u001b[0;34m\u001b[0m\u001b[0;34m\u001b[0m\u001b[0m\n\u001b[1;32m    896\u001b[0m             \u001b[0mu\u001b[0m \u001b[0;34m=\u001b[0m \u001b[0mstr\u001b[0m\u001b[0;34m.\u001b[0m\u001b[0m__new__\u001b[0m\u001b[0;34m(\u001b[0m\u001b[0mcls\u001b[0m\u001b[0;34m,\u001b[0m \u001b[0mvalue\u001b[0m\u001b[0;34m,\u001b[0m \u001b[0mDEFAULT_OUTPUT_ENCODING\u001b[0m\u001b[0;34m)\u001b[0m\u001b[0;34m\u001b[0m\u001b[0;34m\u001b[0m\u001b[0m\n",
      "\u001b[0;31mKeyboardInterrupt\u001b[0m: "
     ]
    }
   ],
   "source": [
    "### scrapes debate transcripts from Debates.org and splits by speaker\n",
    "import pprint\n",
    "# Requests sends and recieves HTTP requests.\n",
    "import requests\n",
    "\n",
    "# Beautiful Soup parses HTML documents in python.\n",
    "from bs4 import BeautifulSoup\n",
    "\n",
    "url = 'https://www.debates.org/voter-education/debate-transcripts/'\n",
    "req = requests.get(url)\n",
    "soup = BeautifulSoup(req.content, 'html.parser')\n",
    "\n",
    "classes = []\n",
    "class_num = [i for i in range(100, 141)]\n",
    "for v in [138, 139, 133, 140, 135, 136, 137, 134, 130, 132, 129, 127, 121, 122, 118, 101]:\n",
    "    class_num.remove(v)\n",
    "\n",
    "for i in class_num:\n",
    "    classes.append(\"page_item page-item-\"+str(i))\n",
    "\n",
    "debate_names = [['kaine', 'democrat', 'pence', 'republican'], ['obama', 'democrat', 'romney', 'republican'],\n",
    "                ['obama', 'democrat', 'romney', 'republican'], ['biden', 'democrat', 'ryan', 'republican'],\n",
    "               ['obama', 'democrat', 'romney', 'republican'], ['mccain', 'republican', 'obama', 'democrat'],\n",
    "               ['biden', 'democrat', 'palin', 'republican'], ['mccain', 'republican', 'obama', 'democrat'],\n",
    "               ['mccain', 'republican', 'obama', 'democrat'], ['bush', 'republican', 'kerry', 'democrat'],\n",
    "               ['bush','republican','kerry','democrat'], ['cheney', 'republican', 'edwards', 'democrat'],\n",
    "               ['bush', 'republican', 'kerry', 'democrat'], ['gore', 'democrat', 'bush', 'republican'],\n",
    "                ['lieberman', 'democrat', 'cheney', 'republican'], ['gore', 'democrat', 'bush', 'republican'],\n",
    "                ['gore', 'democrat', 'bush', 'republican'], ['gore', 'democrat', 'kemp', 'republican'],\n",
    "                ['clinton', 'democrat', 'dole', 'republican'], ['gore', 'democrat', 'quayle', 'republican'],\n",
    "                ['clinton', 'democrat', 'bush', 'republican'], ['clinton', 'democrat', 'bush', 'republican'],\n",
    "                ['bush', 'republican', 'dukakis', 'democrat'], ['bentsen', 'democrat', 'quayle', 'republican'],\n",
    "                ['bush', 'republican','ferraro', 'democrat']]\n",
    "\n",
    "### Gets text from each speech\n",
    "links = []\n",
    "for i in classes:\n",
    "    x = soup.find_all(class_= i)\n",
    "    links.append('http://debates.org/'+ str(x).split('\"')[3])\n",
    "\n",
    "\n",
    "results = []\n",
    "for i, link in enumerate(links):\n",
    "    req = requests.get(link)\n",
    "    soup_link = BeautifulSoup(req.content, 'html.parser')\n",
    "    text = soup_link.get_text()\n",
    "    text = text.lower()\n",
    "    for v in [0, 2]:\n",
    "        text_1 = find_between(text, '\\n'+debate_names[i][v]+\":\", ':')\n",
    "        results.append([debate_names[i][v], debate_names[i][v+1]] + [0, 0, 0, 0] + [text_1] + [False, True, False, False, False])\n",
    "for i in [18, 20, 24, 27, 31, 33]:\n",
    "     results[i][0]=results[i][0].replace(\"bush\", \"gwbush\")\n",
    "more_debates = pd.DataFrame(data = results, columns = df.columns)\n",
    "df = pd.concat([df, more_debates])\n"
   ]
  },
  {
   "cell_type": "code",
   "execution_count": null,
   "metadata": {},
   "outputs": [],
   "source": [
    "df = df.reset_index()"
   ]
  },
  {
   "cell_type": "code",
   "execution_count": null,
   "metadata": {
    "scrolled": true
   },
   "outputs": [],
   "source": [
    "pd.index"
   ]
  },
  {
   "cell_type": "markdown",
   "metadata": {},
   "source": [
    "## EDA!"
   ]
  },
  {
   "cell_type": "code",
   "execution_count": null,
   "metadata": {},
   "outputs": [],
   "source": [
    "df.head()"
   ]
  },
  {
   "cell_type": "code",
   "execution_count": null,
   "metadata": {},
   "outputs": [],
   "source": [
    "df.count()"
   ]
  },
  {
   "cell_type": "markdown",
   "metadata": {},
   "source": [
    "The 549 texts included 16 Democrats (7 presidents, 9 debate candidates) and 15 Republicans (7 presidents, 8 debate candidates)."
   ]
  },
  {
   "cell_type": "code",
   "execution_count": null,
   "metadata": {
    "scrolled": true
   },
   "outputs": [],
   "source": [
    "print('Speeches by president')\n",
    "print(df.name.value_counts())\n",
    "print('')\n",
    "print('speeches by party')\n",
    "print(df.party.value_counts())"
   ]
  },
  {
   "cell_type": "markdown",
   "metadata": {},
   "source": [
    "Speeches by speaker"
   ]
  },
  {
   "cell_type": "code",
   "execution_count": null,
   "metadata": {},
   "outputs": [],
   "source": [
    "df['name'].value_counts().plot(kind='bar')"
   ]
  },
  {
   "cell_type": "markdown",
   "metadata": {},
   "source": [
    "LBJ had the most speeches, which lead me to wonder if these were disproportionately press conferences due to the Vietnam War.  It turns out that yes, he had the most press conferences in the corpus, 23 in total."
   ]
  },
  {
   "cell_type": "code",
   "execution_count": null,
   "metadata": {},
   "outputs": [],
   "source": [
    "df[df['press conference']== True]['name'].value_counts().plot(kind='bar')"
   ]
  },
  {
   "cell_type": "markdown",
   "metadata": {},
   "source": [
    "The table below shows the breakdown of speech type by speaker."
   ]
  },
  {
   "cell_type": "code",
   "execution_count": null,
   "metadata": {},
   "outputs": [],
   "source": [
    "df.groupby('name').sum()"
   ]
  },
  {
   "cell_type": "code",
   "execution_count": null,
   "metadata": {
    "scrolled": true
   },
   "outputs": [],
   "source": [
    "df['text length'] = df.text.apply(lambda x: len(x.split(' ')))"
   ]
  },
  {
   "cell_type": "markdown",
   "metadata": {},
   "source": [
    "The median speech length was 3,176 words, which assuming 150 words/minute means 21.17 minutes."
   ]
  },
  {
   "cell_type": "code",
   "execution_count": null,
   "metadata": {
    "scrolled": true
   },
   "outputs": [],
   "source": [
    "df['text length'].median()/150"
   ]
  },
  {
   "cell_type": "code",
   "execution_count": null,
   "metadata": {
    "scrolled": true
   },
   "outputs": [],
   "source": [
    "df[df['party'] == 'democrat']['text length'].sum()"
   ]
  },
  {
   "cell_type": "code",
   "execution_count": null,
   "metadata": {
    "scrolled": true
   },
   "outputs": [],
   "source": [
    "df[df['party'] == 'republican']['text length'].sum()"
   ]
  },
  {
   "cell_type": "code",
   "execution_count": null,
   "metadata": {
    "scrolled": true
   },
   "outputs": [],
   "source": [
    "df.sort_values(by='text length', ascending=True)"
   ]
  },
  {
   "cell_type": "markdown",
   "metadata": {},
   "source": [
    "The shortest text was FDR's declaration of war on Germany and Italy."
   ]
  },
  {
   "cell_type": "code",
   "execution_count": null,
   "metadata": {
    "scrolled": false
   },
   "outputs": [],
   "source": [
    "df.iloc[120].text"
   ]
  },
  {
   "cell_type": "code",
   "execution_count": null,
   "metadata": {},
   "outputs": [],
   "source": [
    "vocab = set()\n",
    "total = []\n",
    "df['text'].str.lower().str.split().apply(vocab.update)\n",
    "df['text'].str.lower().str.split().apply(total.append)\n",
    "total = [item for sublist in total for item in sublist]\n",
    "print(f'The vocabulary of the corpus is {len(vocab)} unique words & {len(total)} total words.')"
   ]
  },
  {
   "cell_type": "code",
   "execution_count": null,
   "metadata": {},
   "outputs": [],
   "source": [
    "fig, ax = plt.subplots()\n",
    "df[df['party'] == 'democrat']['text length'].plot(kind = 'hist', bins = 20, density = 'true', alpha = .5, label = 'democrat')\n",
    "df[df['party'] == 'republican']['text length'].plot(kind = 'hist', bins = 20, density = 'true', alpha = .5, label = 'republican')\n",
    "ax.legend()\n",
    "ax.set_title('Word Count by Party')"
   ]
  },
  {
   "cell_type": "code",
   "execution_count": null,
   "metadata": {},
   "outputs": [],
   "source": [
    "df[df['text length']==0]"
   ]
  },
  {
   "cell_type": "markdown",
   "metadata": {},
   "source": [
    "# Testing and Feature Engineering"
   ]
  },
  {
   "cell_type": "markdown",
   "metadata": {},
   "source": [
    "This section includes:\n",
    "1. The initial Multinomial Bayes Model and the feature engineering used in optimization\n",
    "1. The Multinomial Naive Bayes Model used to predict whether a text is from a Democrat or a Republican\n",
    "1. The top tri-grams unique to each party (by log probability)\n",
    "1. The optimized Random Forest Classifier that ultimately was not used"
   ]
  },
  {
   "cell_type": "code",
   "execution_count": null,
   "metadata": {},
   "outputs": [],
   "source": [
    "sw = stopwords.words('english')\n",
    "\n",
    "new_sw = ['also', '000', 'see', 'come', 'day','say', 'us', 'well', 'le', \"'m\", 'made', 'applause', 'mr', 'men', 'candidate', 'instead', 'q', 'part', \"'re\", \"'le\", 'get', 'man', \"'ve\", 'let', 'every', 'may', 'upon', 'shall', 'going','ve','year', '--', '``', \"'s\", \"''\", 'way', 'cannot', 'two', 'long', 'said', 'like', 'years', 'think','would',\"n't\", 'must','u','many','one','first','last',\"'re'\", 'today','', 'ha', 'wa']\n",
    "for i in new_sw:\n",
    "    sw.append(i)\n",
    "\n"
   ]
  },
  {
   "cell_type": "code",
   "execution_count": null,
   "metadata": {},
   "outputs": [],
   "source": [
    "## returns the top features for dems republications (by log probability), as well as the features that are unique to \n",
    "#each party in the top num_features\n",
    "def get_top_features(feature_logs, labels, num_features):\n",
    "    zero_all = np.array(labels)[np.argsort(feature_logs[0])[-1*num_features:]]\n",
    "    one_all = np.array(labels)[np.argsort(feature_logs[1])[-1*num_features:]]\n",
    "    zero_unique = [x for x in zero_all if x not in one_all]\n",
    "    one_unique = [x for x in one_all if x not in zero_all]\n",
    "    return zero_all, one_all, zero_unique, one_unique\n"
   ]
  },
  {
   "cell_type": "code",
   "execution_count": null,
   "metadata": {},
   "outputs": [],
   "source": [
    "## Initial model has 25% recall for republicans and a cross validation score of .66\n",
    "## Naive Bayes Model\n",
    "def run_model_initial(X, y, max_feat = 200, stop_words = sw):\n",
    "    tfidf = TfidfVectorizer(stop_words = sw, ngram_range = (1,3), max_features = max_feat)\n",
    "    X = tfidf.fit_transform(X)\n",
    "    labels = tfidf.get_feature_names()\n",
    "    X_train, X_test, y_train, y_test = train_test_split(X, y, stratify = y, random_state = 5)\n",
    "# %\n",
    "    clf = MultinomialNB()\n",
    "    clf = clf.fit(X_train, y_train)\n",
    "    cvs = np.mean(cross_val_score(clf, X_train, y_train))\n",
    "    return clf, cvs, X_test, y_test, labels, X, tfidf\n",
    "    \n",
    "clf, cvs, X_test, y_test, labels, X, tfidf = run_model_initial(df.text, df.party, stop_words = sw)\n",
    "\n",
    "td, fr, fd, tr = confusion_matrix(y_test, clf.predict(X_test)).ravel()\n",
    "print(f'True Dems: {td}, False Republicans: {fr}, False Dems: {fd}, True Republicans: {tr}')\n",
    "print(f'Recall for Democrats: {td/(td + fr)}')\n",
    "print(f'Recall for Republicans: {tr/(fd + tr)}')\n",
    "print(f'Cross-validation score: {cvs}')\n",
    "\n",
    "zero, one, zero_unique, one_unique = get_top_features(clf.feature_log_prob_, labels, 50)\n",
    "\n",
    "print(\" \")\n",
    "print(f'Dem unique: {zero_unique}')\n",
    "print(f'Rep unique: {one_unique}')"
   ]
  },
  {
   "cell_type": "markdown",
   "metadata": {},
   "source": [
    "I looked at the tradeoff between accuracy and recall for each party, ultimately deciding to work within a range of 1000 to 1500 features"
   ]
  },
  {
   "cell_type": "code",
   "execution_count": null,
   "metadata": {},
   "outputs": [],
   "source": [
    "feat = np.arange(500, 10000, 250)\n",
    "acc = []\n",
    "recall_dems = []\n",
    "recall_rep = []\n",
    "for i in feat:\n",
    "    clf, cvs, X_test, y_test, _, _, _ = run_model_initial(df.text, df.party, max_feat = i, stop_words = sw)\n",
    "    td, fr, fd, tr = confusion_matrix(y_test, clf.predict(X_test)).ravel()\n",
    "    recall_d = td/(td + fr)\n",
    "    recall_r = tr/(fd + tr)\n",
    "    acc.append(cvs)\n",
    "    recall_dems.append(recall_d)\n",
    "    recall_rep.append(recall_r)\n"
   ]
  },
  {
   "cell_type": "code",
   "execution_count": null,
   "metadata": {},
   "outputs": [],
   "source": [
    "fig, ax = plt.subplots(3,1)\n",
    "\n",
    "ax[0].plot(feat, acc)\n",
    "ax[0].set_xlabel('Features')\n",
    "ax[0].set_ylabel('Accuracy')\n",
    "ax[1].plot(feat, recall_dems)\n",
    "ax[1].set_xlabel('Features')\n",
    "ax[1].set_ylabel('Recall (Dem)')\n",
    "#ax[0].scatter([feat[np.argsort(acc)[-5:]]], acc[np.argsort(acc)[-5:]])\n",
    "#ax[0].title('Features vs Accuracy')\n",
    "ax[2].plot(feat, recall_rep)\n",
    "ax[2].set_xlabel('Features')\n",
    "ax[2].set_ylabel('Recall (Rep)')\n",
    "plt.tight_layout(pad=0.4, w_pad=0.5, h_pad=1.0)"
   ]
  },
  {
   "cell_type": "markdown",
   "metadata": {},
   "source": [
    "As the features grew, the model began to classify more people as Democrats."
   ]
  },
  {
   "cell_type": "markdown",
   "metadata": {},
   "source": [
    "The initial ROC curve showed an AUC of .870"
   ]
  },
  {
   "cell_type": "code",
   "execution_count": null,
   "metadata": {},
   "outputs": [],
   "source": [
    "clf, cvs, X_test, y_test, _, _, _ = run_model_initial(df.text, df.party, max_feat = 1500, stop_words = sw)"
   ]
  },
  {
   "cell_type": "code",
   "execution_count": null,
   "metadata": {},
   "outputs": [],
   "source": [
    "td, fr, fd, tr = confusion_matrix(y_test, clf.predict(X_test)).ravel()\n",
    "print(f'True Dems: {td}, False Republicans: {fr}, False Dems: {fd}, True Republicans: {tr}')\n",
    "print(f'Recall for Democrats: {td/(td + fr)}')\n",
    "print(f'Recall for Republicans: {tr/(fd + tr)}')"
   ]
  },
  {
   "cell_type": "code",
   "execution_count": null,
   "metadata": {},
   "outputs": [],
   "source": [
    "from sklearn.metrics import roc_curve\n",
    "from sklearn.metrics import roc_auc_score\n",
    "\n",
    "\n",
    "# generate a no skill prediction (majority class)\n",
    "y_test_coded = []\n",
    "for i in y_test:\n",
    "    if i == 'democrat':\n",
    "        y_test_coded.append(1)\n",
    "    else:\n",
    "        y_test_coded.append(0)\n",
    "    \n",
    "    \n",
    "ns_probs = [0 for _ in range(len(y_test))]\n",
    "mnb_probs = clf.predict_proba(X_test)\n",
    "# keep probabilities for being a republican only (column 1), democrat (column 0)\n",
    "mnb_probs = mnb_probs[:, 0]\n",
    "# calculate scores\n",
    "ns_auc = roc_auc_score(y_test_coded, ns_probs)\n",
    "mnb_auc = roc_auc_score(y_test_coded, mnb_probs)\n",
    "# summarize scores\n",
    "print('No Skill: ROC AUC=%.3f' % (ns_auc))\n",
    "print('Logistic: ROC AUC=%.3f' % (mnb_auc))\n",
    "# calculate roc curves\n",
    "ns_fpr, ns_tpr, _ = roc_curve(y_test_coded, ns_probs)\n",
    "mnb_fpr, mnb_tpr, _ = roc_curve(y_test_coded, mnb_probs)\n",
    "# plot the roc curve for the model\n",
    "plt.plot(ns_fpr, ns_tpr, linestyle='--', label='No Skill')\n",
    "plt.plot(mnb_fpr, mnb_tpr, marker='.', label='Multinomial Bayes')\n",
    "# axis labels\n",
    "plt.xlabel('False Positive Rate')\n",
    "plt.ylabel('True Positive Rate')\n",
    "# show the legend\n",
    "plt.legend()\n",
    "# show the plot\n",
    "plt.show()"
   ]
  },
  {
   "cell_type": "markdown",
   "metadata": {},
   "source": [
    "Credit for the ROC code goes to https://machinelearningmastery.com/roc-curves-and-precision-recall-curves-for-classification-in-python/"
   ]
  },
  {
   "cell_type": "markdown",
   "metadata": {},
   "source": [
    "Next I graphed accuracy as a function of different thresholds"
   ]
  },
  {
   "cell_type": "code",
   "execution_count": null,
   "metadata": {},
   "outputs": [],
   "source": [
    "y_test_array = y_test.to_numpy()"
   ]
  },
  {
   "cell_type": "code",
   "execution_count": null,
   "metadata": {},
   "outputs": [],
   "source": [
    "from statistics import mean\n",
    "dem_prob = clf.predict_proba(X_test)[:,0]\n",
    "thresh = np.arange(0,1, .02)\n",
    "y_test\n",
    "thresh_acc =[]\n",
    "\n",
    "for t in thresh:\n",
    "    correct = []\n",
    "    for i,v in enumerate(dem_prob):\n",
    "        if v >= t and y_test_array[i] =='democrat':\n",
    "            correct.append(1)\n",
    "        elif v<t and y_test_array[i] == 'republican':\n",
    "            correct.append(1)\n",
    "        else:\n",
    "            correct.append(0)\n",
    "    thresh_acc.append(mean(correct))\n",
    "\n",
    "fig, ax = plt.subplots()\n",
    "ax.plot(thresh, thresh_acc)\n",
    "ax.set_xlabel('Probability Threshold for Classifying as Democrat')\n",
    "ax.set_ylabel('Accuracy')\n",
    "    "
   ]
  },
  {
   "cell_type": "markdown",
   "metadata": {},
   "source": [
    "It appears that the optimal threshold is between .56 and .64; however, once I changed from 1-3grams to just trigrams in my model, I found that the best threshold was .54."
   ]
  },
  {
   "cell_type": "markdown",
   "metadata": {},
   "source": [
    "This is my main model with 1500 features, trigrams only, special stopwords, and a .54 threshold for classification as Democrat."
   ]
  },
  {
   "cell_type": "code",
   "execution_count": null,
   "metadata": {},
   "outputs": [],
   "source": [
    "## Naive Bayes Model\n",
    "def run_model(X, y, max_feat = 1500, stop_words = sw):\n",
    "    tfidf = TfidfVectorizer(stop_words = sw, ngram_range = (3,3), max_features = max_feat)\n",
    "    X = tfidf.fit_transform(X)\n",
    "    labels = tfidf.get_feature_names()\n",
    "    X_train, X_test, y_train, y_test = train_test_split(X, y, stratify = y, random_state = 5)\n",
    "# %\n",
    "    clf = MultinomialNB()\n",
    "    clf = clf.fit(X_train, y_train)\n",
    "    cvs = np.mean(cross_val_score(clf, X_train, y_train))\n",
    "    return clf, cvs, X_test, y_test, labels, X, tfidf\n",
    "    \n",
    "clf, cvs, X_test, y_test, labels, X, tfidf = run_model(df.text, df.party, stop_words = sw)"
   ]
  },
  {
   "cell_type": "markdown",
   "metadata": {},
   "source": [
    "The confusion matrix is broken down below:"
   ]
  },
  {
   "cell_type": "code",
   "execution_count": null,
   "metadata": {},
   "outputs": [],
   "source": [
    "td, fr, fd, tr = confusion_matrix(y_test, clf.predict(X_test)).ravel()\n",
    "print(f'True Dems: {td}, False Republicans: {fr}, False Dems: {fd}, True Republicans: {tr}')\n",
    "print(f'Recall for Democrats: {td/(td + fr)}')\n",
    "print(f'Recall for Republicans: {tr/(fd + tr)}')\n",
    "print(f'Cross-validation score (using .5 threshold): {cvs}')"
   ]
  },
  {
   "cell_type": "code",
   "execution_count": null,
   "metadata": {
    "scrolled": true
   },
   "outputs": [],
   "source": [
    "### Evaluates accuracy using the .54 threshold\n",
    "dem_prob = clf.predict_proba(X_test)[:,0]\n",
    "correct = []\n",
    "idx = list(y_test.index)\n",
    "t = .54\n",
    "print(y_test.shape)\n",
    "\n",
    "y_test_array = y_test.to_numpy()\n",
    "for i,v in enumerate(dem_prob):\n",
    "    if v >= t and y_test_array[i] =='democrat':\n",
    "        correct.append(1)\n",
    "        df.loc[idx[i], 'accurate'] = True\n",
    "    elif v<t and y_test_array[i] == 'republican':\n",
    "        correct.append(1)\n",
    "        df.loc[idx[i], 'accurate'] = True\n",
    "    else:\n",
    "        correct.append(0)\n",
    "        df.loc[idx[i], 'accurate'] = False\n",
    "print(f'Accuracy using threshold = {t}: {mean(correct)}')"
   ]
  },
  {
   "cell_type": "code",
   "execution_count": null,
   "metadata": {},
   "outputs": [],
   "source": [
    "## Final ROC curve\n",
    "from sklearn.metrics import roc_curve\n",
    "from sklearn.metrics import roc_auc_score\n",
    "\n",
    "\n",
    "# generate a no skill prediction (majority class)\n",
    "y_test_coded = []\n",
    "for i in y_test:\n",
    "    if i == 'democrat':\n",
    "        y_test_coded.append(1)\n",
    "    else:\n",
    "        y_test_coded.append(0)\n",
    "    \n",
    "    \n",
    "ns_probs = [0 for _ in range(len(y_test))]\n",
    "mnb_probs = clf.predict_proba(X_test)\n",
    "# keep probabilities for being a republican only (column 1), democrat (column 0)\n",
    "mnb_probs = mnb_probs[:, 0]\n",
    "# calculate scores\n",
    "ns_auc = roc_auc_score(y_test_coded, ns_probs)\n",
    "mnb_auc = roc_auc_score(y_test_coded, mnb_probs)\n",
    "# summarize scores\n",
    "print('No Skill: ROC AUC=%.3f' % (ns_auc))\n",
    "print('Logistic: ROC AUC=%.3f' % (mnb_auc))\n",
    "# calculate roc curves\n",
    "ns_fpr, ns_tpr, _ = roc_curve(y_test_coded, ns_probs)\n",
    "mnb_fpr, mnb_tpr, _ = roc_curve(y_test_coded, mnb_probs)\n",
    "# plot the roc curve for the model\n",
    "plt.plot(ns_fpr, ns_tpr, linestyle='--', label='No Skill')\n",
    "plt.plot(mnb_fpr, mnb_tpr, marker='.', label='Multinomial Bayes')\n",
    "# axis labels\n",
    "plt.xlabel('False Positive Rate')\n",
    "plt.ylabel('True Positive Rate')\n",
    "# show the legend\n",
    "plt.legend()\n",
    "# show the plot\n",
    "plt.show()"
   ]
  },
  {
   "cell_type": "markdown",
   "metadata": {},
   "source": [
    "## Random Forest"
   ]
  },
  {
   "cell_type": "code",
   "execution_count": null,
   "metadata": {},
   "outputs": [],
   "source": [
    "### fitted with grid search results\n",
    "from sklearn.ensemble import RandomForestClassifier\n",
    "overall_acc = []\n",
    "# for i in range(10):\n",
    "#     X_train, y_train, X_test, y_test = train_test_split(df.text, df.party, stratify = df.party, random_state = i)\n",
    "#     rf = RandomForestClassifier()\n",
    "#     rf = rf.fit(X_train, y_train)\n",
    "#     acc = mean(cross_val_score(rf, X_train, y_train))\n",
    "#     overall_acc.apend(acc)\n",
    "\n",
    "# print(mean(overall_acc))\n",
    "\n",
    "tfidf = TfidfVectorizer(stop_words = sw, ngram_range = (1,3), max_features = 1500)\n",
    "X = tfidf.fit_transform(df.text)\n",
    "labels = tfidf.get_feature_names()\n",
    "X_train, X_test, y_train, y_test = train_test_split(X, df.party, stratify = df.party, random_state = 5)\n",
    "rf = RandomForestClassifier(n_estimators = 600, min_samples_split = 5, min_samples_leaf = 1, max_features = 'sqrt',\n",
    "                           max_depth = 115, bootstrap = False)\n",
    "rf = rf.fit(X_train, y_train)\n",
    "acc = mean(cross_val_score(rf, X_train, y_train))\n",
    "\n",
    "pred = rf.predict(X_test)\n",
    "dem_prob_rf = rf.predict_proba(X_test)\n"
   ]
  },
  {
   "cell_type": "code",
   "execution_count": null,
   "metadata": {},
   "outputs": [],
   "source": [
    "## Finding the best threshold for random forest\n",
    "y_test_array = y_test.to_numpy()\n",
    "dem_prob = rf.predict_proba(X_test)[:,0]\n",
    "thresh = np.arange(0,1, .02)\n",
    "thresh_acc =[]\n",
    "\n",
    "for t in thresh:\n",
    "    correct = []\n",
    "    for i,v in enumerate(dem_prob):\n",
    "        if v >= t and y_test_array[i] =='democrat':\n",
    "            correct.append(1)\n",
    "        elif v<t and y_test_array[i] == 'republican':\n",
    "            correct.append(1)\n",
    "        else:\n",
    "            correct.append(0)\n",
    "\n",
    "    thresh_acc.append(mean(correct))\n",
    "\n",
    "fig, ax = plt.subplots()\n",
    "ax.plot(thresh, thresh_acc)\n",
    "print(f'The best threshold is {thresh[np.argsort(thresh_acc)[-1:]]}')"
   ]
  },
  {
   "cell_type": "code",
   "execution_count": null,
   "metadata": {},
   "outputs": [],
   "source": [
    "## Accuracy using .54 threshold\n",
    "y_test_array = y_test.to_numpy()\n",
    "correct = []\n",
    "t = .56\n",
    "for i,v in enumerate(dem_prob_rf[:, 0]):\n",
    "    if v >= t and y_test_array[i] =='democrat':\n",
    "        correct.append(1)\n",
    "    elif v<t and y_test_array[i] == 'republican':\n",
    "        correct.append(1)\n",
    "    else:\n",
    "        correct.append(0)\n",
    "print(f'Accuracy: {mean(correct)}')"
   ]
  },
  {
   "cell_type": "code",
   "execution_count": null,
   "metadata": {
    "scrolled": true
   },
   "outputs": [],
   "source": [
    "important = rf.feature_importances_\n",
    "idx = np.argsort(important)[-20:]\n",
    "\n",
    "np.array(labels)[idx]"
   ]
  },
  {
   "cell_type": "code",
   "execution_count": null,
   "metadata": {},
   "outputs": [],
   "source": [
    "## using randomized search to find best hyperparameters(used above)\n",
    "from sklearn.model_selection import RandomizedSearchCV\n",
    "# Number of trees in random forest\n",
    "n_estimators = [int(x) for x in np.linspace(start = 200, stop = 2000, num = 10)]\n",
    "# Number of features to consider at every split\n",
    "max_features = ['auto', 'sqrt']\n",
    "# Maximum number of levels in tree\n",
    "max_depth = [int(x) for x in np.linspace(10, 220, num = 11)]\n",
    "max_depth.append(None)\n",
    "# Minimum number of samples required to split a node\n",
    "min_samples_split = [2, 5, 10]\n",
    "# Minimum number of samples required at each leaf node\n",
    "min_samples_leaf = [1, 2, 4]\n",
    "# Method of selecting samples for training each tree\n",
    "bootstrap = [True, False]\n",
    "# Create the random grid\n",
    "random_grid = {'n_estimators': n_estimators,\n",
    "               'max_features': max_features,\n",
    "               'max_depth': max_depth,\n",
    "               'min_samples_split': min_samples_split,\n",
    "               'min_samples_leaf': min_samples_leaf,\n",
    "               'bootstrap': bootstrap}"
   ]
  },
  {
   "cell_type": "markdown",
   "metadata": {},
   "source": [
    "Code from https://towardsdatascience.com/hyperparameter-tuning-the-random-forest-in-python-using-scikit-learn-28d2aa77dd74"
   ]
  },
  {
   "cell_type": "markdown",
   "metadata": {},
   "source": [
    "## Results"
   ]
  },
  {
   "cell_type": "markdown",
   "metadata": {},
   "source": [
    "In this section I examine:\n",
    "1. The top Democratic and Republican trigrams\n",
    "1. The most Republican and most Democratic speeches in the test set by log probabilities\n",
    "2. The breakdown of the incorrectly/correctly identified speeches in the test set"
   ]
  },
  {
   "cell_type": "code",
   "execution_count": null,
   "metadata": {
    "scrolled": true
   },
   "outputs": [],
   "source": [
    "zero, one, zero_unique, one_unique = get_top_features(clf.feature_log_prob_, labels, 50)\n",
    "\n",
    "print(f'Top Democratic Trigrams: {zero_unique}')\n",
    "print(\" \")\n",
    "print(f'Top Republican Trigrams: {one_unique}')"
   ]
  },
  {
   "cell_type": "code",
   "execution_count": null,
   "metadata": {},
   "outputs": [],
   "source": [
    "prob_dem_list = []\n",
    "sorted_idx = np.argsort(clf.predict_proba(X_test)[:, 0])\n",
    "                        \n",
    "for i,v in enumerate(list(clf.predict_proba(X_test))):\n",
    "    prob = v[0]\n",
    "    idx = list(y_test.index)[i]\n",
    "    prob_dem_list.append([prob, idx])"
   ]
  },
  {
   "cell_type": "markdown",
   "metadata": {},
   "source": [
    "The top ten most Republican speeches"
   ]
  },
  {
   "cell_type": "code",
   "execution_count": null,
   "metadata": {
    "scrolled": true
   },
   "outputs": [],
   "source": [
    "df.iloc[np.array(prob_dem_list)[sorted_idx][:10,1]]"
   ]
  },
  {
   "cell_type": "markdown",
   "metadata": {},
   "source": [
    "Top ten most Democratic speeches"
   ]
  },
  {
   "cell_type": "code",
   "execution_count": null,
   "metadata": {
    "scrolled": true
   },
   "outputs": [],
   "source": [
    "df.iloc[np.array(prob_dem_list)[sorted_idx][-10:,1]]"
   ]
  },
  {
   "cell_type": "markdown",
   "metadata": {},
   "source": [
    "Looking at correct / Incorrect data"
   ]
  },
  {
   "cell_type": "code",
   "execution_count": null,
   "metadata": {},
   "outputs": [],
   "source": [
    "df['accurate'] = 'na'\n",
    "pred = []\n",
    "idx = list(y_test.index)\n",
    "for i, v in enumerate(list(y_test)):\n",
    "    if v == clf.predict(X_test)[i]:\n",
    "        df.loc[idx[i], 'accurate'] = True\n",
    "    else:\n",
    "        df.loc[idx[i], 'accurate'] = False"
   ]
  },
  {
   "cell_type": "code",
   "execution_count": null,
   "metadata": {},
   "outputs": [],
   "source": [
    "## Updates DF with whether the speech was accurately tagged"
   ]
  },
  {
   "cell_type": "code",
   "execution_count": null,
   "metadata": {},
   "outputs": [],
   "source": [
    "incorrect = df[df['accurate']==False]\n",
    "incorrect.party.value_counts()"
   ]
  },
  {
   "cell_type": "code",
   "execution_count": null,
   "metadata": {},
   "outputs": [],
   "source": [
    "incorrect.debate.value_counts()"
   ]
  },
  {
   "cell_type": "code",
   "execution_count": null,
   "metadata": {},
   "outputs": [],
   "source": [
    "correct = df[df['accurate']==True]"
   ]
  },
  {
   "cell_type": "code",
   "execution_count": null,
   "metadata": {},
   "outputs": [],
   "source": [
    "correct.debate.value_counts()"
   ]
  },
  {
   "cell_type": "code",
   "execution_count": null,
   "metadata": {},
   "outputs": [],
   "source": [
    "df.debate.value_counts()"
   ]
  },
  {
   "cell_type": "code",
   "execution_count": null,
   "metadata": {},
   "outputs": [],
   "source": [
    "incorrect.loc[:,['name', 'title']]"
   ]
  },
  {
   "cell_type": "markdown",
   "metadata": {},
   "source": [
    "## Insights\n",
    "\n",
    "In this section I:\n",
    "\n",
    "1. look at log probabilities to find the most \"democratic\" and \"republican\" speeches\n",
    "2. Examine the speeches that were incorrectly classified"
   ]
  },
  {
   "cell_type": "code",
   "execution_count": null,
   "metadata": {},
   "outputs": [],
   "source": [
    "def get_most_partisan(clf, X_test, y_test):\n",
    "    prob_dem_list = []\n",
    "    sorted_idx = np.argsort(clf.predict_proba(X_test)[:, 0])\n",
    "                        \n",
    "    for i,v in enumerate(list(clf.predict_proba(X_test))):\n",
    "        prob = v[0]\n",
    "        idx = list(y_test.index)[i]\n",
    "        prob_dem_list.append([prob, idx])\n",
    "    most_rep_idx = np.array(prob_repub_list)[sorted_idx][:5,1]\n",
    "    most_dem_idx = np.array(prob_dem_list)[sorted_idx][-5:,1]\n",
    "    return most_rep_idx, most_dem_idx\n",
    "\n",
    "most_rep, most_dem = get_most_partisan(clf, X_test, y_test)\n",
    "print('Most Republican')\n",
    "print(df.loc[most_rep, ['name', 'title']])\n",
    "print('Most Democrat')\n",
    "print(df.loc[most_dem, ['name', 'title']])"
   ]
  },
  {
   "cell_type": "markdown",
   "metadata": {},
   "source": [
    "LBJ appears in 4 of the top 5 spots.\n",
    "\n",
    "Republicans: Reagan, GWBush (x2), Hoover, Bush Senior."
   ]
  },
  {
   "cell_type": "code",
   "execution_count": null,
   "metadata": {},
   "outputs": [],
   "source": []
  },
  {
   "cell_type": "code",
   "execution_count": null,
   "metadata": {},
   "outputs": [],
   "source": [
    "zero, one, zero_unique, one_unique = get_top_features(clf.feature_log_prob_, labels, 100)\n",
    "\n",
    "print(f'zero: {zero}')\n",
    "print(f'one: {one}')\n",
    "print(f'zero unique: {zero_unique}')\n",
    "print(f'one unique: {one_unique}')"
   ]
  },
  {
   "cell_type": "code",
   "execution_count": null,
   "metadata": {},
   "outputs": [],
   "source": [
    "sw = stopwords.words('english')\n",
    "\n",
    "new_sw = ['also', 'day','two', 'even', 'dont',\"'ll\", 'say', 'want', 'time', 'come', 'make', 'thing', 'le', \"'m\", 'go', 'thats', 'could', 'like', 'made', 'applause', 'mr', 'men', 'candidate', 'instead', 'q', 'part', \"'re\", \"'le\", 'get', 'man', \"'ve\", 'let', 'every', 'may', 'upon', 'shall', 'going','ve','year', '--', '``', \"'s\", \"''\", 'way', 'would',\"n't\", 'must','u','many','one','first','last',\"'re'\", 'today','', 'ha', 'wa']\n",
    "for i in new_sw:\n",
    "    sw.append(i)\n"
   ]
  },
  {
   "cell_type": "code",
   "execution_count": null,
   "metadata": {},
   "outputs": [],
   "source": [
    "### Build confusion matrix:"
   ]
  },
  {
   "cell_type": "code",
   "execution_count": null,
   "metadata": {},
   "outputs": [],
   "source": [
    "print(clf.predict(X_test))\n",
    "print(y_test)"
   ]
  },
  {
   "cell_type": "markdown",
   "metadata": {},
   "source": [
    "## Looking at correct/incorrect data"
   ]
  },
  {
   "cell_type": "code",
   "execution_count": null,
   "metadata": {},
   "outputs": [],
   "source": [
    "df['accurate'] = 'na'\n",
    "pred = []\n",
    "idx = list(y_test.index)\n",
    "for i, v in enumerate(list(y_test)):\n",
    "    if v == clf.predict(X_test)[i]:\n",
    "        df.loc[idx[i], 'accurate'] = True\n",
    "    else:\n",
    "        df.loc[idx[i], 'accurate'] = False"
   ]
  },
  {
   "cell_type": "code",
   "execution_count": null,
   "metadata": {},
   "outputs": [],
   "source": [
    "## Updates DF with whether the speech was accurately tagged"
   ]
  },
  {
   "cell_type": "code",
   "execution_count": null,
   "metadata": {},
   "outputs": [],
   "source": [
    "incorrect = df[df['accurate']==False]\n",
    "incorrect.party.value_counts()"
   ]
  },
  {
   "cell_type": "code",
   "execution_count": null,
   "metadata": {},
   "outputs": [],
   "source": [
    "incorrect.debate.value_counts()"
   ]
  },
  {
   "cell_type": "code",
   "execution_count": null,
   "metadata": {},
   "outputs": [],
   "source": [
    "correct.debate.value_counts()"
   ]
  },
  {
   "cell_type": "code",
   "execution_count": null,
   "metadata": {},
   "outputs": [],
   "source": [
    "correct.party.value_counts()"
   ]
  },
  {
   "cell_type": "code",
   "execution_count": null,
   "metadata": {},
   "outputs": [],
   "source": [
    "df.debate.value_counts()"
   ]
  },
  {
   "cell_type": "code",
   "execution_count": null,
   "metadata": {},
   "outputs": [],
   "source": [
    "correct = df[df['accurate']==True]"
   ]
  },
  {
   "cell_type": "code",
   "execution_count": null,
   "metadata": {},
   "outputs": [],
   "source": [
    "counts_wrong = incorrect['name'].value_counts()"
   ]
  },
  {
   "cell_type": "code",
   "execution_count": null,
   "metadata": {},
   "outputs": [],
   "source": [
    "counts_right = correct['name'].value_counts()"
   ]
  },
  {
   "cell_type": "code",
   "execution_count": null,
   "metadata": {},
   "outputs": [],
   "source": [
    "right_wrong = pd.concat([counts_wrong, counts_right], axis = 1)\n",
    "right_wrong = right_wrong.fillna(0)\n",
    "right_wrong['correct %'] = (1 - right_wrong.iloc[:, 0]/(right_wrong.iloc[:, 0] + right_wrong.iloc[:, 1]))*100\n"
   ]
  },
  {
   "cell_type": "markdown",
   "metadata": {},
   "source": [
    "Below is the percent correct for each speaker"
   ]
  },
  {
   "cell_type": "code",
   "execution_count": null,
   "metadata": {},
   "outputs": [],
   "source": [
    "right_wrong"
   ]
  },
  {
   "cell_type": "markdown",
   "metadata": {},
   "source": [
    "Below are the incorrectly identified speeches"
   ]
  },
  {
   "cell_type": "code",
   "execution_count": null,
   "metadata": {
    "scrolled": true
   },
   "outputs": [],
   "source": [
    "incorrect"
   ]
  },
  {
   "cell_type": "markdown",
   "metadata": {},
   "source": [
    "## Analyizing Trump's speeches"
   ]
  },
  {
   "cell_type": "code",
   "execution_count": null,
   "metadata": {},
   "outputs": [],
   "source": [
    "## loading Trump's 2016 campaign speeches\n",
    "with open('corpus/trump_speech/trump.txt', 'r') as file:\n",
    "    data = file.read().replace('\\n', '')\n",
    "trump_speeches = data.split(\"SPEECH\")"
   ]
  },
  {
   "cell_type": "code",
   "execution_count": null,
   "metadata": {},
   "outputs": [],
   "source": [
    "### loading Trump's 2020 Republican National Convention Speech\n",
    "\n",
    "politico = 'https://www.politico.com/story/2016/07/full-transcript-donald-trump-nomination-acceptance-speech-at-rnc-225974'\n",
    "\n",
    "req = requests.get(politico)\n",
    "soup_link = BeautifulSoup(req.content, 'html.parser')\n",
    "text = soup_link.get_text()\n",
    "text = text.lower()\n",
    "\n",
    "speech= text.split(\"politico thursday afternoon\")\n",
    "\n",
    "trump_speeches.append(speech[2].split(\"follow @ politico\")[0])"
   ]
  },
  {
   "cell_type": "code",
   "execution_count": null,
   "metadata": {},
   "outputs": [],
   "source": [
    "trump_series = pd.Series(trump_speeches)"
   ]
  },
  {
   "cell_type": "code",
   "execution_count": null,
   "metadata": {},
   "outputs": [],
   "source": [
    "trump_vector = tfidf.fit_transform(trump_series)\n",
    "\n",
    "print(clf.predict_proba(trump_vector)[:,0])"
   ]
  },
  {
   "cell_type": "code",
   "execution_count": null,
   "metadata": {},
   "outputs": [],
   "source": []
  },
  {
   "cell_type": "markdown",
   "metadata": {},
   "source": [
    "Using a .54 threshold, Trump's speeches are classified as Republican only 6 out of 13 times."
   ]
  }
 ],
 "metadata": {
  "kernelspec": {
   "display_name": "Python 3",
   "language": "python",
   "name": "python3"
  },
  "language_info": {
   "codemirror_mode": {
    "name": "ipython",
    "version": 3
   },
   "file_extension": ".py",
   "mimetype": "text/x-python",
   "name": "python",
   "nbconvert_exporter": "python",
   "pygments_lexer": "ipython3",
   "version": "3.7.7"
  }
 },
 "nbformat": 4,
 "nbformat_minor": 4
}
